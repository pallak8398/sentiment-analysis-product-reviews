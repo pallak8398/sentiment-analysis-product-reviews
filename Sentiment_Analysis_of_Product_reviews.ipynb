{
  "cells": [
    {
      "cell_type": "markdown",
      "metadata": {
        "id": "view-in-github",
        "colab_type": "text"
      },
      "source": [
        "<a href=\"https://colab.research.google.com/github/pallak8398/sentiment-analysis-product-reviews/blob/main/Sentiment_Analysis_of_Product_reviews.ipynb\" target=\"_parent\"><img src=\"https://colab.research.google.com/assets/colab-badge.svg\" alt=\"Open In Colab\"/></a>"
      ]
    },
    {
      "cell_type": "code",
      "execution_count": null,
      "metadata": {
        "colab": {
          "base_uri": "https://localhost:8080/",
          "height": 300
        },
        "id": "AI9Uvisva-Gs",
        "outputId": "84b6d6e2-8649-45c2-91dd-1ac6e197efd8"
      },
      "outputs": [
        {
          "output_type": "execute_result",
          "data": {
            "text/plain": [
              "        reviews.id  reviews.numHelpful  reviews.rating  reviews.userCity  \\\n",
              "count          1.0        34131.000000    34627.000000               0.0   \n",
              "mean   111372787.0            0.630248        4.584573               NaN   \n",
              "std            NaN           13.215775        0.735653               NaN   \n",
              "min    111372787.0            0.000000        1.000000               NaN   \n",
              "25%    111372787.0            0.000000        4.000000               NaN   \n",
              "50%    111372787.0            0.000000        5.000000               NaN   \n",
              "75%    111372787.0            0.000000        5.000000               NaN   \n",
              "max    111372787.0          814.000000        5.000000               NaN   \n",
              "\n",
              "       reviews.userProvince  \n",
              "count                   0.0  \n",
              "mean                    NaN  \n",
              "std                     NaN  \n",
              "min                     NaN  \n",
              "25%                     NaN  \n",
              "50%                     NaN  \n",
              "75%                     NaN  \n",
              "max                     NaN  "
            ],
            "text/html": [
              "\n",
              "  <div id=\"df-42f2596a-ad71-49e0-93c4-eed0d8267e9b\">\n",
              "    <div class=\"colab-df-container\">\n",
              "      <div>\n",
              "<style scoped>\n",
              "    .dataframe tbody tr th:only-of-type {\n",
              "        vertical-align: middle;\n",
              "    }\n",
              "\n",
              "    .dataframe tbody tr th {\n",
              "        vertical-align: top;\n",
              "    }\n",
              "\n",
              "    .dataframe thead th {\n",
              "        text-align: right;\n",
              "    }\n",
              "</style>\n",
              "<table border=\"1\" class=\"dataframe\">\n",
              "  <thead>\n",
              "    <tr style=\"text-align: right;\">\n",
              "      <th></th>\n",
              "      <th>reviews.id</th>\n",
              "      <th>reviews.numHelpful</th>\n",
              "      <th>reviews.rating</th>\n",
              "      <th>reviews.userCity</th>\n",
              "      <th>reviews.userProvince</th>\n",
              "    </tr>\n",
              "  </thead>\n",
              "  <tbody>\n",
              "    <tr>\n",
              "      <th>count</th>\n",
              "      <td>1.0</td>\n",
              "      <td>34131.000000</td>\n",
              "      <td>34627.000000</td>\n",
              "      <td>0.0</td>\n",
              "      <td>0.0</td>\n",
              "    </tr>\n",
              "    <tr>\n",
              "      <th>mean</th>\n",
              "      <td>111372787.0</td>\n",
              "      <td>0.630248</td>\n",
              "      <td>4.584573</td>\n",
              "      <td>NaN</td>\n",
              "      <td>NaN</td>\n",
              "    </tr>\n",
              "    <tr>\n",
              "      <th>std</th>\n",
              "      <td>NaN</td>\n",
              "      <td>13.215775</td>\n",
              "      <td>0.735653</td>\n",
              "      <td>NaN</td>\n",
              "      <td>NaN</td>\n",
              "    </tr>\n",
              "    <tr>\n",
              "      <th>min</th>\n",
              "      <td>111372787.0</td>\n",
              "      <td>0.000000</td>\n",
              "      <td>1.000000</td>\n",
              "      <td>NaN</td>\n",
              "      <td>NaN</td>\n",
              "    </tr>\n",
              "    <tr>\n",
              "      <th>25%</th>\n",
              "      <td>111372787.0</td>\n",
              "      <td>0.000000</td>\n",
              "      <td>4.000000</td>\n",
              "      <td>NaN</td>\n",
              "      <td>NaN</td>\n",
              "    </tr>\n",
              "    <tr>\n",
              "      <th>50%</th>\n",
              "      <td>111372787.0</td>\n",
              "      <td>0.000000</td>\n",
              "      <td>5.000000</td>\n",
              "      <td>NaN</td>\n",
              "      <td>NaN</td>\n",
              "    </tr>\n",
              "    <tr>\n",
              "      <th>75%</th>\n",
              "      <td>111372787.0</td>\n",
              "      <td>0.000000</td>\n",
              "      <td>5.000000</td>\n",
              "      <td>NaN</td>\n",
              "      <td>NaN</td>\n",
              "    </tr>\n",
              "    <tr>\n",
              "      <th>max</th>\n",
              "      <td>111372787.0</td>\n",
              "      <td>814.000000</td>\n",
              "      <td>5.000000</td>\n",
              "      <td>NaN</td>\n",
              "      <td>NaN</td>\n",
              "    </tr>\n",
              "  </tbody>\n",
              "</table>\n",
              "</div>\n",
              "      <button class=\"colab-df-convert\" onclick=\"convertToInteractive('df-42f2596a-ad71-49e0-93c4-eed0d8267e9b')\"\n",
              "              title=\"Convert this dataframe to an interactive table.\"\n",
              "              style=\"display:none;\">\n",
              "        \n",
              "  <svg xmlns=\"http://www.w3.org/2000/svg\" height=\"24px\"viewBox=\"0 0 24 24\"\n",
              "       width=\"24px\">\n",
              "    <path d=\"M0 0h24v24H0V0z\" fill=\"none\"/>\n",
              "    <path d=\"M18.56 5.44l.94 2.06.94-2.06 2.06-.94-2.06-.94-.94-2.06-.94 2.06-2.06.94zm-11 1L8.5 8.5l.94-2.06 2.06-.94-2.06-.94L8.5 2.5l-.94 2.06-2.06.94zm10 10l.94 2.06.94-2.06 2.06-.94-2.06-.94-.94-2.06-.94 2.06-2.06.94z\"/><path d=\"M17.41 7.96l-1.37-1.37c-.4-.4-.92-.59-1.43-.59-.52 0-1.04.2-1.43.59L10.3 9.45l-7.72 7.72c-.78.78-.78 2.05 0 2.83L4 21.41c.39.39.9.59 1.41.59.51 0 1.02-.2 1.41-.59l7.78-7.78 2.81-2.81c.8-.78.8-2.07 0-2.86zM5.41 20L4 18.59l7.72-7.72 1.47 1.35L5.41 20z\"/>\n",
              "  </svg>\n",
              "      </button>\n",
              "      \n",
              "  <style>\n",
              "    .colab-df-container {\n",
              "      display:flex;\n",
              "      flex-wrap:wrap;\n",
              "      gap: 12px;\n",
              "    }\n",
              "\n",
              "    .colab-df-convert {\n",
              "      background-color: #E8F0FE;\n",
              "      border: none;\n",
              "      border-radius: 50%;\n",
              "      cursor: pointer;\n",
              "      display: none;\n",
              "      fill: #1967D2;\n",
              "      height: 32px;\n",
              "      padding: 0 0 0 0;\n",
              "      width: 32px;\n",
              "    }\n",
              "\n",
              "    .colab-df-convert:hover {\n",
              "      background-color: #E2EBFA;\n",
              "      box-shadow: 0px 1px 2px rgba(60, 64, 67, 0.3), 0px 1px 3px 1px rgba(60, 64, 67, 0.15);\n",
              "      fill: #174EA6;\n",
              "    }\n",
              "\n",
              "    [theme=dark] .colab-df-convert {\n",
              "      background-color: #3B4455;\n",
              "      fill: #D2E3FC;\n",
              "    }\n",
              "\n",
              "    [theme=dark] .colab-df-convert:hover {\n",
              "      background-color: #434B5C;\n",
              "      box-shadow: 0px 1px 3px 1px rgba(0, 0, 0, 0.15);\n",
              "      filter: drop-shadow(0px 1px 2px rgba(0, 0, 0, 0.3));\n",
              "      fill: #FFFFFF;\n",
              "    }\n",
              "  </style>\n",
              "\n",
              "      <script>\n",
              "        const buttonEl =\n",
              "          document.querySelector('#df-42f2596a-ad71-49e0-93c4-eed0d8267e9b button.colab-df-convert');\n",
              "        buttonEl.style.display =\n",
              "          google.colab.kernel.accessAllowed ? 'block' : 'none';\n",
              "\n",
              "        async function convertToInteractive(key) {\n",
              "          const element = document.querySelector('#df-42f2596a-ad71-49e0-93c4-eed0d8267e9b');\n",
              "          const dataTable =\n",
              "            await google.colab.kernel.invokeFunction('convertToInteractive',\n",
              "                                                     [key], {});\n",
              "          if (!dataTable) return;\n",
              "\n",
              "          const docLinkHtml = 'Like what you see? Visit the ' +\n",
              "            '<a target=\"_blank\" href=https://colab.research.google.com/notebooks/data_table.ipynb>data table notebook</a>'\n",
              "            + ' to learn more about interactive tables.';\n",
              "          element.innerHTML = '';\n",
              "          dataTable['output_type'] = 'display_data';\n",
              "          await google.colab.output.renderOutput(dataTable, element);\n",
              "          const docLink = document.createElement('div');\n",
              "          docLink.innerHTML = docLinkHtml;\n",
              "          element.appendChild(docLink);\n",
              "        }\n",
              "      </script>\n",
              "    </div>\n",
              "  </div>\n",
              "  "
            ]
          },
          "metadata": {},
          "execution_count": 1
        }
      ],
      "source": [
        "import pandas as pd\n",
        "import matplotlib.pyplot as plt\n",
        "import numpy as np\n",
        "import seaborn as sns\n",
        "import math\n",
        "import warnings\n",
        "warnings.filterwarnings('ignore') # Hides warning\n",
        "warnings.filterwarnings(\"ignore\", category=DeprecationWarning)\n",
        "warnings.filterwarnings(\"ignore\",category=UserWarning)\n",
        "sns.set_style(\"whitegrid\") # Plotting style\n",
        "#%matplotlib inline # Plots show up in notebook\n",
        "np.random.seed(7) # seeding random number generator\n",
        "\n",
        "csv = \"1429_1.csv\"\n",
        "df = pd.read_csv(csv)\n",
        "df.head(2)\n",
        "data = df.copy()\n",
        "data.describe()"
      ]
    },
    {
      "cell_type": "code",
      "execution_count": null,
      "metadata": {
        "id": "OA2zjIpXVMON"
      },
      "outputs": [],
      "source": []
    },
    {
      "cell_type": "code",
      "execution_count": null,
      "metadata": {
        "colab": {
          "base_uri": "https://localhost:8080/"
        },
        "id": "4KOOWLtVdK4v",
        "outputId": "d40d0610-336d-4100-f130-cf1fdd64419b"
      },
      "outputs": [
        {
          "output_type": "stream",
          "name": "stdout",
          "text": [
            "Before 34660\n",
            "After 34627\n"
          ]
        }
      ],
      "source": [
        "from sklearn.model_selection import StratifiedShuffleSplit\n",
        "print(\"Before {}\".format(len(data)))\n",
        "dataAfter = data.dropna(subset=[\"reviews.rating\"]) # removes all NAN in reviews.rating\n",
        "print(\"After {}\".format(len(dataAfter)))\n",
        "dataAfter[\"reviews.rating\"] = dataAfter[\"reviews.rating\"].astype(int)"
      ]
    },
    {
      "cell_type": "code",
      "execution_count": null,
      "metadata": {
        "id": "jPkFwYveeoan"
      },
      "outputs": [],
      "source": [
        "split = StratifiedShuffleSplit(n_splits=5, test_size=0.2)\n",
        "for train_index, test_index in split.split(dataAfter, dataAfter[\"reviews.rating\"]): \n",
        "    strat_train = dataAfter.reindex(train_index)\n",
        "    strat_test = dataAfter.reindex(test_index)"
      ]
    },
    {
      "cell_type": "code",
      "execution_count": null,
      "metadata": {
        "colab": {
          "base_uri": "https://localhost:8080/"
        },
        "id": "wUhnjW7jetrm",
        "outputId": "c5be4971-39bb-4287-d48f-73065a6fb7ba"
      },
      "outputs": [
        {
          "output_type": "execute_result",
          "data": {
            "text/plain": [
              "27701"
            ]
          },
          "metadata": {},
          "execution_count": 4
        }
      ],
      "source": [
        "len(strat_train)"
      ]
    },
    {
      "cell_type": "code",
      "execution_count": null,
      "metadata": {
        "colab": {
          "base_uri": "https://localhost:8080/"
        },
        "id": "K-3nKjeHewxO",
        "outputId": "6ace15e8-aad8-45aa-8ae9-386f2ae8751b"
      },
      "outputs": [
        {
          "output_type": "execute_result",
          "data": {
            "text/plain": [
              "5.0    0.685174\n",
              "4.0    0.247031\n",
              "3.0    0.043500\n",
              "2.0    0.011696\n",
              "1.0    0.011588\n",
              "Name: reviews.rating, dtype: float64"
            ]
          },
          "metadata": {},
          "execution_count": 5
        }
      ],
      "source": [
        "strat_train[\"reviews.rating\"].value_counts()/len(strat_train) # value_count() counts all the values based on column"
      ]
    },
    {
      "cell_type": "code",
      "execution_count": null,
      "metadata": {
        "colab": {
          "base_uri": "https://localhost:8080/"
        },
        "id": "MF9NgDZDt5AO",
        "outputId": "6519e168-a704-4b61-d7c3-3e144a7ac924"
      },
      "outputs": [
        {
          "output_type": "execute_result",
          "data": {
            "text/plain": [
              "6926"
            ]
          },
          "metadata": {},
          "execution_count": 6
        }
      ],
      "source": [
        "len(strat_test)"
      ]
    },
    {
      "cell_type": "code",
      "execution_count": null,
      "metadata": {
        "colab": {
          "base_uri": "https://localhost:8080/"
        },
        "id": "WwCpBOJ4t-bv",
        "outputId": "22951ac8-ed95-4b12-b4ef-73d5ef87c7ec"
      },
      "outputs": [
        {
          "output_type": "execute_result",
          "data": {
            "text/plain": [
              "5.0    0.689864\n",
              "4.0    0.244730\n",
              "3.0    0.042160\n",
              "1.0    0.011406\n",
              "2.0    0.011118\n",
              "Name: reviews.rating, dtype: float64"
            ]
          },
          "metadata": {},
          "execution_count": 7
        }
      ],
      "source": [
        "strat_test[\"reviews.rating\"].value_counts()/len(strat_test)"
      ]
    },
    {
      "cell_type": "code",
      "execution_count": null,
      "metadata": {
        "colab": {
          "base_uri": "https://localhost:8080/",
          "height": 344
        },
        "id": "VMotnRADuefk",
        "outputId": "307d36b8-a038-4089-e55b-29ce21af3d91"
      },
      "outputs": [
        {
          "output_type": "execute_result",
          "data": {
            "text/plain": [
              "                         id  \\\n",
              "4349   AVphgVaX1cnluZ0-DR74   \n",
              "30776  AV1YE_muvKc47QAVgpwE   \n",
              "\n",
              "                                                    name       asins  \\\n",
              "4349   Fire Tablet, 7 Display, Wi-Fi, 8 GB - Includes...  B018Y229OU   \n",
              "30776                                                NaN  B00U3FPN4U   \n",
              "\n",
              "                brand                                         categories  \\\n",
              "4349           Amazon  Fire Tablets,Tablets,Computers & Tablets,All T...   \n",
              "30776  Amazon Fire Tv  Back To College,College Electronics,College Tv...   \n",
              "\n",
              "                                                    keys manufacturer  \\\n",
              "4349   firetablet7displaywifi8gbincludesspecialoffers...       Amazon   \n",
              "30776  848719057492,amazonfiretv/51454342,amazonfiret...       Amazon   \n",
              "\n",
              "                   reviews.date     reviews.dateAdded  \\\n",
              "4349   2015-11-28T00:00:00.000Z  2017-05-21T04:06:08Z   \n",
              "30776  2017-01-06T00:00:00.000Z  2017-09-20T05:35:55Z   \n",
              "\n",
              "                                        reviews.dateSeen  ...  \\\n",
              "4349   2017-04-30T00:26:00.000Z,2017-06-07T08:10:00.000Z  ...   \n",
              "30776  2017-08-25T22:21:42.763Z,2017-08-19T09:26:46.1...  ...   \n",
              "\n",
              "      reviews.doRecommend reviews.id  reviews.numHelpful  reviews.rating  \\\n",
              "4349                 True        NaN                 5.0             5.0   \n",
              "30776                True        NaN                 0.0             5.0   \n",
              "\n",
              "                                      reviews.sourceURLs  \\\n",
              "4349   http://reviews.bestbuy.com/3545/5025800/review...   \n",
              "30776  http://reviews.bestbuy.com/3545/4370400/review...   \n",
              "\n",
              "                                            reviews.text        reviews.title  \\\n",
              "4349   we bought this for my 11 year old daughter and...   great for all ages   \n",
              "30776  I have the Roku 4, and new Apple TV, this stre...  Great streaming box   \n",
              "\n",
              "      reviews.userCity  reviews.userProvince  reviews.username  \n",
              "4349               NaN                   NaN              Mark  \n",
              "30776              NaN                   NaN            Techno  \n",
              "\n",
              "[2 rows x 21 columns]"
            ],
            "text/html": [
              "\n",
              "  <div id=\"df-9799ed54-90f8-425b-bcc5-813ede9c0ae3\">\n",
              "    <div class=\"colab-df-container\">\n",
              "      <div>\n",
              "<style scoped>\n",
              "    .dataframe tbody tr th:only-of-type {\n",
              "        vertical-align: middle;\n",
              "    }\n",
              "\n",
              "    .dataframe tbody tr th {\n",
              "        vertical-align: top;\n",
              "    }\n",
              "\n",
              "    .dataframe thead th {\n",
              "        text-align: right;\n",
              "    }\n",
              "</style>\n",
              "<table border=\"1\" class=\"dataframe\">\n",
              "  <thead>\n",
              "    <tr style=\"text-align: right;\">\n",
              "      <th></th>\n",
              "      <th>id</th>\n",
              "      <th>name</th>\n",
              "      <th>asins</th>\n",
              "      <th>brand</th>\n",
              "      <th>categories</th>\n",
              "      <th>keys</th>\n",
              "      <th>manufacturer</th>\n",
              "      <th>reviews.date</th>\n",
              "      <th>reviews.dateAdded</th>\n",
              "      <th>reviews.dateSeen</th>\n",
              "      <th>...</th>\n",
              "      <th>reviews.doRecommend</th>\n",
              "      <th>reviews.id</th>\n",
              "      <th>reviews.numHelpful</th>\n",
              "      <th>reviews.rating</th>\n",
              "      <th>reviews.sourceURLs</th>\n",
              "      <th>reviews.text</th>\n",
              "      <th>reviews.title</th>\n",
              "      <th>reviews.userCity</th>\n",
              "      <th>reviews.userProvince</th>\n",
              "      <th>reviews.username</th>\n",
              "    </tr>\n",
              "  </thead>\n",
              "  <tbody>\n",
              "    <tr>\n",
              "      <th>4349</th>\n",
              "      <td>AVphgVaX1cnluZ0-DR74</td>\n",
              "      <td>Fire Tablet, 7 Display, Wi-Fi, 8 GB - Includes...</td>\n",
              "      <td>B018Y229OU</td>\n",
              "      <td>Amazon</td>\n",
              "      <td>Fire Tablets,Tablets,Computers &amp; Tablets,All T...</td>\n",
              "      <td>firetablet7displaywifi8gbincludesspecialoffers...</td>\n",
              "      <td>Amazon</td>\n",
              "      <td>2015-11-28T00:00:00.000Z</td>\n",
              "      <td>2017-05-21T04:06:08Z</td>\n",
              "      <td>2017-04-30T00:26:00.000Z,2017-06-07T08:10:00.000Z</td>\n",
              "      <td>...</td>\n",
              "      <td>True</td>\n",
              "      <td>NaN</td>\n",
              "      <td>5.0</td>\n",
              "      <td>5.0</td>\n",
              "      <td>http://reviews.bestbuy.com/3545/5025800/review...</td>\n",
              "      <td>we bought this for my 11 year old daughter and...</td>\n",
              "      <td>great for all ages</td>\n",
              "      <td>NaN</td>\n",
              "      <td>NaN</td>\n",
              "      <td>Mark</td>\n",
              "    </tr>\n",
              "    <tr>\n",
              "      <th>30776</th>\n",
              "      <td>AV1YE_muvKc47QAVgpwE</td>\n",
              "      <td>NaN</td>\n",
              "      <td>B00U3FPN4U</td>\n",
              "      <td>Amazon Fire Tv</td>\n",
              "      <td>Back To College,College Electronics,College Tv...</td>\n",
              "      <td>848719057492,amazonfiretv/51454342,amazonfiret...</td>\n",
              "      <td>Amazon</td>\n",
              "      <td>2017-01-06T00:00:00.000Z</td>\n",
              "      <td>2017-09-20T05:35:55Z</td>\n",
              "      <td>2017-08-25T22:21:42.763Z,2017-08-19T09:26:46.1...</td>\n",
              "      <td>...</td>\n",
              "      <td>True</td>\n",
              "      <td>NaN</td>\n",
              "      <td>0.0</td>\n",
              "      <td>5.0</td>\n",
              "      <td>http://reviews.bestbuy.com/3545/4370400/review...</td>\n",
              "      <td>I have the Roku 4, and new Apple TV, this stre...</td>\n",
              "      <td>Great streaming box</td>\n",
              "      <td>NaN</td>\n",
              "      <td>NaN</td>\n",
              "      <td>Techno</td>\n",
              "    </tr>\n",
              "  </tbody>\n",
              "</table>\n",
              "<p>2 rows × 21 columns</p>\n",
              "</div>\n",
              "      <button class=\"colab-df-convert\" onclick=\"convertToInteractive('df-9799ed54-90f8-425b-bcc5-813ede9c0ae3')\"\n",
              "              title=\"Convert this dataframe to an interactive table.\"\n",
              "              style=\"display:none;\">\n",
              "        \n",
              "  <svg xmlns=\"http://www.w3.org/2000/svg\" height=\"24px\"viewBox=\"0 0 24 24\"\n",
              "       width=\"24px\">\n",
              "    <path d=\"M0 0h24v24H0V0z\" fill=\"none\"/>\n",
              "    <path d=\"M18.56 5.44l.94 2.06.94-2.06 2.06-.94-2.06-.94-.94-2.06-.94 2.06-2.06.94zm-11 1L8.5 8.5l.94-2.06 2.06-.94-2.06-.94L8.5 2.5l-.94 2.06-2.06.94zm10 10l.94 2.06.94-2.06 2.06-.94-2.06-.94-.94-2.06-.94 2.06-2.06.94z\"/><path d=\"M17.41 7.96l-1.37-1.37c-.4-.4-.92-.59-1.43-.59-.52 0-1.04.2-1.43.59L10.3 9.45l-7.72 7.72c-.78.78-.78 2.05 0 2.83L4 21.41c.39.39.9.59 1.41.59.51 0 1.02-.2 1.41-.59l7.78-7.78 2.81-2.81c.8-.78.8-2.07 0-2.86zM5.41 20L4 18.59l7.72-7.72 1.47 1.35L5.41 20z\"/>\n",
              "  </svg>\n",
              "      </button>\n",
              "      \n",
              "  <style>\n",
              "    .colab-df-container {\n",
              "      display:flex;\n",
              "      flex-wrap:wrap;\n",
              "      gap: 12px;\n",
              "    }\n",
              "\n",
              "    .colab-df-convert {\n",
              "      background-color: #E8F0FE;\n",
              "      border: none;\n",
              "      border-radius: 50%;\n",
              "      cursor: pointer;\n",
              "      display: none;\n",
              "      fill: #1967D2;\n",
              "      height: 32px;\n",
              "      padding: 0 0 0 0;\n",
              "      width: 32px;\n",
              "    }\n",
              "\n",
              "    .colab-df-convert:hover {\n",
              "      background-color: #E2EBFA;\n",
              "      box-shadow: 0px 1px 2px rgba(60, 64, 67, 0.3), 0px 1px 3px 1px rgba(60, 64, 67, 0.15);\n",
              "      fill: #174EA6;\n",
              "    }\n",
              "\n",
              "    [theme=dark] .colab-df-convert {\n",
              "      background-color: #3B4455;\n",
              "      fill: #D2E3FC;\n",
              "    }\n",
              "\n",
              "    [theme=dark] .colab-df-convert:hover {\n",
              "      background-color: #434B5C;\n",
              "      box-shadow: 0px 1px 3px 1px rgba(0, 0, 0, 0.15);\n",
              "      filter: drop-shadow(0px 1px 2px rgba(0, 0, 0, 0.3));\n",
              "      fill: #FFFFFF;\n",
              "    }\n",
              "  </style>\n",
              "\n",
              "      <script>\n",
              "        const buttonEl =\n",
              "          document.querySelector('#df-9799ed54-90f8-425b-bcc5-813ede9c0ae3 button.colab-df-convert');\n",
              "        buttonEl.style.display =\n",
              "          google.colab.kernel.accessAllowed ? 'block' : 'none';\n",
              "\n",
              "        async function convertToInteractive(key) {\n",
              "          const element = document.querySelector('#df-9799ed54-90f8-425b-bcc5-813ede9c0ae3');\n",
              "          const dataTable =\n",
              "            await google.colab.kernel.invokeFunction('convertToInteractive',\n",
              "                                                     [key], {});\n",
              "          if (!dataTable) return;\n",
              "\n",
              "          const docLinkHtml = 'Like what you see? Visit the ' +\n",
              "            '<a target=\"_blank\" href=https://colab.research.google.com/notebooks/data_table.ipynb>data table notebook</a>'\n",
              "            + ' to learn more about interactive tables.';\n",
              "          element.innerHTML = '';\n",
              "          dataTable['output_type'] = 'display_data';\n",
              "          await google.colab.output.renderOutput(dataTable, element);\n",
              "          const docLink = document.createElement('div');\n",
              "          docLink.innerHTML = docLinkHtml;\n",
              "          element.appendChild(docLink);\n",
              "        }\n",
              "      </script>\n",
              "    </div>\n",
              "  </div>\n",
              "  "
            ]
          },
          "metadata": {},
          "execution_count": 8
        }
      ],
      "source": [
        "reviews = strat_train.copy()\n",
        "reviews.head(2)"
      ]
    },
    {
      "cell_type": "code",
      "execution_count": null,
      "metadata": {
        "colab": {
          "base_uri": "https://localhost:8080/",
          "height": 250
        },
        "id": "wCvpCQr8ukkN",
        "outputId": "7f473668-8385-428d-893b-cbade9380be3"
      },
      "outputs": [
        {
          "output_type": "execute_result",
          "data": {
            "text/plain": [
              "                      reviews.id  reviews.numHelpful  reviews.rating  \\\n",
              "reviews.id                   NaN                 NaN             NaN   \n",
              "reviews.numHelpful           NaN             1.00000        -0.04372   \n",
              "reviews.rating               NaN            -0.04372         1.00000   \n",
              "reviews.userCity             NaN                 NaN             NaN   \n",
              "reviews.userProvince         NaN                 NaN             NaN   \n",
              "\n",
              "                      reviews.userCity  reviews.userProvince  \n",
              "reviews.id                         NaN                   NaN  \n",
              "reviews.numHelpful                 NaN                   NaN  \n",
              "reviews.rating                     NaN                   NaN  \n",
              "reviews.userCity                   NaN                   NaN  \n",
              "reviews.userProvince               NaN                   NaN  "
            ],
            "text/html": [
              "\n",
              "  <div id=\"df-d8c9ec79-394f-4e32-a8e4-62d745ab8a6a\">\n",
              "    <div class=\"colab-df-container\">\n",
              "      <div>\n",
              "<style scoped>\n",
              "    .dataframe tbody tr th:only-of-type {\n",
              "        vertical-align: middle;\n",
              "    }\n",
              "\n",
              "    .dataframe tbody tr th {\n",
              "        vertical-align: top;\n",
              "    }\n",
              "\n",
              "    .dataframe thead th {\n",
              "        text-align: right;\n",
              "    }\n",
              "</style>\n",
              "<table border=\"1\" class=\"dataframe\">\n",
              "  <thead>\n",
              "    <tr style=\"text-align: right;\">\n",
              "      <th></th>\n",
              "      <th>reviews.id</th>\n",
              "      <th>reviews.numHelpful</th>\n",
              "      <th>reviews.rating</th>\n",
              "      <th>reviews.userCity</th>\n",
              "      <th>reviews.userProvince</th>\n",
              "    </tr>\n",
              "  </thead>\n",
              "  <tbody>\n",
              "    <tr>\n",
              "      <th>reviews.id</th>\n",
              "      <td>NaN</td>\n",
              "      <td>NaN</td>\n",
              "      <td>NaN</td>\n",
              "      <td>NaN</td>\n",
              "      <td>NaN</td>\n",
              "    </tr>\n",
              "    <tr>\n",
              "      <th>reviews.numHelpful</th>\n",
              "      <td>NaN</td>\n",
              "      <td>1.00000</td>\n",
              "      <td>-0.04372</td>\n",
              "      <td>NaN</td>\n",
              "      <td>NaN</td>\n",
              "    </tr>\n",
              "    <tr>\n",
              "      <th>reviews.rating</th>\n",
              "      <td>NaN</td>\n",
              "      <td>-0.04372</td>\n",
              "      <td>1.00000</td>\n",
              "      <td>NaN</td>\n",
              "      <td>NaN</td>\n",
              "    </tr>\n",
              "    <tr>\n",
              "      <th>reviews.userCity</th>\n",
              "      <td>NaN</td>\n",
              "      <td>NaN</td>\n",
              "      <td>NaN</td>\n",
              "      <td>NaN</td>\n",
              "      <td>NaN</td>\n",
              "    </tr>\n",
              "    <tr>\n",
              "      <th>reviews.userProvince</th>\n",
              "      <td>NaN</td>\n",
              "      <td>NaN</td>\n",
              "      <td>NaN</td>\n",
              "      <td>NaN</td>\n",
              "      <td>NaN</td>\n",
              "    </tr>\n",
              "  </tbody>\n",
              "</table>\n",
              "</div>\n",
              "      <button class=\"colab-df-convert\" onclick=\"convertToInteractive('df-d8c9ec79-394f-4e32-a8e4-62d745ab8a6a')\"\n",
              "              title=\"Convert this dataframe to an interactive table.\"\n",
              "              style=\"display:none;\">\n",
              "        \n",
              "  <svg xmlns=\"http://www.w3.org/2000/svg\" height=\"24px\"viewBox=\"0 0 24 24\"\n",
              "       width=\"24px\">\n",
              "    <path d=\"M0 0h24v24H0V0z\" fill=\"none\"/>\n",
              "    <path d=\"M18.56 5.44l.94 2.06.94-2.06 2.06-.94-2.06-.94-.94-2.06-.94 2.06-2.06.94zm-11 1L8.5 8.5l.94-2.06 2.06-.94-2.06-.94L8.5 2.5l-.94 2.06-2.06.94zm10 10l.94 2.06.94-2.06 2.06-.94-2.06-.94-.94-2.06-.94 2.06-2.06.94z\"/><path d=\"M17.41 7.96l-1.37-1.37c-.4-.4-.92-.59-1.43-.59-.52 0-1.04.2-1.43.59L10.3 9.45l-7.72 7.72c-.78.78-.78 2.05 0 2.83L4 21.41c.39.39.9.59 1.41.59.51 0 1.02-.2 1.41-.59l7.78-7.78 2.81-2.81c.8-.78.8-2.07 0-2.86zM5.41 20L4 18.59l7.72-7.72 1.47 1.35L5.41 20z\"/>\n",
              "  </svg>\n",
              "      </button>\n",
              "      \n",
              "  <style>\n",
              "    .colab-df-container {\n",
              "      display:flex;\n",
              "      flex-wrap:wrap;\n",
              "      gap: 12px;\n",
              "    }\n",
              "\n",
              "    .colab-df-convert {\n",
              "      background-color: #E8F0FE;\n",
              "      border: none;\n",
              "      border-radius: 50%;\n",
              "      cursor: pointer;\n",
              "      display: none;\n",
              "      fill: #1967D2;\n",
              "      height: 32px;\n",
              "      padding: 0 0 0 0;\n",
              "      width: 32px;\n",
              "    }\n",
              "\n",
              "    .colab-df-convert:hover {\n",
              "      background-color: #E2EBFA;\n",
              "      box-shadow: 0px 1px 2px rgba(60, 64, 67, 0.3), 0px 1px 3px 1px rgba(60, 64, 67, 0.15);\n",
              "      fill: #174EA6;\n",
              "    }\n",
              "\n",
              "    [theme=dark] .colab-df-convert {\n",
              "      background-color: #3B4455;\n",
              "      fill: #D2E3FC;\n",
              "    }\n",
              "\n",
              "    [theme=dark] .colab-df-convert:hover {\n",
              "      background-color: #434B5C;\n",
              "      box-shadow: 0px 1px 3px 1px rgba(0, 0, 0, 0.15);\n",
              "      filter: drop-shadow(0px 1px 2px rgba(0, 0, 0, 0.3));\n",
              "      fill: #FFFFFF;\n",
              "    }\n",
              "  </style>\n",
              "\n",
              "      <script>\n",
              "        const buttonEl =\n",
              "          document.querySelector('#df-d8c9ec79-394f-4e32-a8e4-62d745ab8a6a button.colab-df-convert');\n",
              "        buttonEl.style.display =\n",
              "          google.colab.kernel.accessAllowed ? 'block' : 'none';\n",
              "\n",
              "        async function convertToInteractive(key) {\n",
              "          const element = document.querySelector('#df-d8c9ec79-394f-4e32-a8e4-62d745ab8a6a');\n",
              "          const dataTable =\n",
              "            await google.colab.kernel.invokeFunction('convertToInteractive',\n",
              "                                                     [key], {});\n",
              "          if (!dataTable) return;\n",
              "\n",
              "          const docLinkHtml = 'Like what you see? Visit the ' +\n",
              "            '<a target=\"_blank\" href=https://colab.research.google.com/notebooks/data_table.ipynb>data table notebook</a>'\n",
              "            + ' to learn more about interactive tables.';\n",
              "          element.innerHTML = '';\n",
              "          dataTable['output_type'] = 'display_data';\n",
              "          await google.colab.output.renderOutput(dataTable, element);\n",
              "          const docLink = document.createElement('div');\n",
              "          docLink.innerHTML = docLinkHtml;\n",
              "          element.appendChild(docLink);\n",
              "        }\n",
              "      </script>\n",
              "    </div>\n",
              "  </div>\n",
              "  "
            ]
          },
          "metadata": {},
          "execution_count": 9
        }
      ],
      "source": [
        "corr_matrix = reviews.corr()\n",
        "corr_matrix\n",
        "# Here we can analyze reviews.ratings with asins"
      ]
    },
    {
      "cell_type": "markdown",
      "metadata": {
        "id": "njJhwfX8u3ks"
      },
      "source": [
        "Sentiment Analysis ->"
      ]
    },
    {
      "cell_type": "code",
      "execution_count": null,
      "metadata": {
        "colab": {
          "base_uri": "https://localhost:8080/"
        },
        "id": "Uf94WoKwu7f-",
        "outputId": "0e80fb88-5ade-40c9-d045-88c6dfcdebc2"
      },
      "outputs": [
        {
          "output_type": "execute_result",
          "data": {
            "text/plain": [
              "4349     Positive\n",
              "30776    Positive\n",
              "28775     Neutral\n",
              "1136     Positive\n",
              "17803    Positive\n",
              "7336     Positive\n",
              "32638    Positive\n",
              "13995    Positive\n",
              "6728     Negative\n",
              "22009    Positive\n",
              "11047    Positive\n",
              "22754    Positive\n",
              "5578     Positive\n",
              "11673    Positive\n",
              "19168    Positive\n",
              "14903    Positive\n",
              "30843    Positive\n",
              "5440     Positive\n",
              "28940    Positive\n",
              "31258    Positive\n",
              "Name: Sentiment, dtype: object"
            ]
          },
          "metadata": {},
          "execution_count": 10
        }
      ],
      "source": [
        "def sentiments(rating):\n",
        "    if (rating == 5) or (rating == 4):\n",
        "        return \"Positive\"\n",
        "    elif rating == 3:\n",
        "        return \"Neutral\"\n",
        "    elif (rating == 2) or (rating == 1):\n",
        "        return \"Negative\"\n",
        "# Add sentiments to the data\n",
        "strat_train[\"Sentiment\"] = strat_train[\"reviews.rating\"].apply(sentiments)\n",
        "strat_test[\"Sentiment\"] = strat_test[\"reviews.rating\"].apply(sentiments)\n",
        "strat_train[\"Sentiment\"][:20]"
      ]
    },
    {
      "cell_type": "code",
      "execution_count": null,
      "metadata": {
        "colab": {
          "base_uri": "https://localhost:8080/"
        },
        "id": "H8WcZb8xv6ot",
        "outputId": "c9e74c3d-313b-4acb-de9c-ebe4701631cc"
      },
      "outputs": [
        {
          "output_type": "stream",
          "name": "stdout",
          "text": [
            "27701 6926\n",
            "4349     we bought this for my 11 year old daughter and...\n",
            "30776    I have the Roku 4, and new Apple TV, this stre...\n",
            "28775    This is my 3rd Kindle. I have continued to mov...\n",
            "1136     enjoying reading via the device; lots of optio...\n",
            "17803    If you want an e book reader that is light, ea...\n",
            "                               ...                        \n",
            "6763     great tablet. it's great for playing games and...\n",
            "245      Could not have asked for a better tablet for t...\n",
            "15052    Best tablet for the money Amazon delivers a go...\n",
            "619      Its so perfect for my niece & she loves it. Go...\n",
            "29636    Faster than the fire stick and more memory, so...\n",
            "Name: reviews.text, Length: 27701, dtype: object\n"
          ]
        }
      ],
      "source": [
        "# Prepare data\n",
        "X_train = strat_train[\"reviews.text\"]\n",
        "X_train_targetSentiment = strat_train[\"Sentiment\"]\n",
        "X_test = strat_test[\"reviews.text\"]\n",
        "X_test_targetSentiment = strat_test[\"Sentiment\"]\n",
        "print(len(X_train), len(X_test))\n",
        "print(X_train)"
      ]
    },
    {
      "cell_type": "code",
      "execution_count": null,
      "metadata": {
        "colab": {
          "base_uri": "https://localhost:8080/"
        },
        "id": "B2vSNTY6jrh9",
        "outputId": "635900a3-4dd8-46d2-a23a-199ca8184bc1"
      },
      "outputs": [
        {
          "output_type": "execute_result",
          "data": {
            "text/plain": [
              "(27701, 12526)"
            ]
          },
          "metadata": {},
          "execution_count": 12
        }
      ],
      "source": [
        "# Replace \"nan\" with space\n",
        "X_train = X_train.fillna(' ')\n",
        "X_test = X_test.fillna(' ')\n",
        "X_train_targetSentiment = X_train_targetSentiment.fillna(' ')\n",
        "X_test_targetSentiment = X_test_targetSentiment.fillna(' ')\n",
        "\n",
        "# Text preprocessing and occurance counting\n",
        "from sklearn.feature_extraction.text import CountVectorizer \n",
        "count_vect = CountVectorizer()\n",
        "X_train_counts = count_vect.fit_transform(X_train) \n",
        "X_train_counts.shape\n"
      ]
    },
    {
      "cell_type": "code",
      "execution_count": null,
      "metadata": {
        "colab": {
          "base_uri": "https://localhost:8080/"
        },
        "id": "rxiNxUqajw9p",
        "outputId": "dfb3e8f4-344f-4a69-adad-374ab833c8ac"
      },
      "outputs": [
        {
          "output_type": "execute_result",
          "data": {
            "text/plain": [
              "(27701, 12526)"
            ]
          },
          "metadata": {},
          "execution_count": 13
        }
      ],
      "source": [
        "from sklearn.feature_extraction.text import TfidfTransformer\n",
        "tfidf_transformer = TfidfTransformer(use_idf=True)\n",
        "X_train_tfidf = tfidf_transformer.fit_transform(X_train_counts)\n",
        "X_train_tfidf.shape"
      ]
    },
    {
      "cell_type": "code",
      "execution_count": null,
      "metadata": {
        "colab": {
          "base_uri": "https://localhost:8080/"
        },
        "id": "D_e3z_5bj85J",
        "outputId": "84cee44a-fa99-49f9-f0cb-265f2f5b7bc9"
      },
      "outputs": [
        {
          "output_type": "execute_result",
          "data": {
            "text/plain": [
              "Pipeline(steps=[('vect', CountVectorizer()), ('tfidf', TfidfTransformer()),\n",
              "                ('clf_linearSVC', LinearSVC())])"
            ]
          },
          "metadata": {},
          "execution_count": 14
        }
      ],
      "source": [
        "from sklearn.svm import LinearSVC\n",
        "from sklearn.pipeline import Pipeline\n",
        "clf_linearSVC_pipe = Pipeline([(\"vect\", CountVectorizer()), (\"tfidf\", TfidfTransformer()), (\"clf_linearSVC\", LinearSVC())])\n",
        "clf_linearSVC_pipe.fit(X_train, X_train_targetSentiment)"
      ]
    },
    {
      "cell_type": "code",
      "execution_count": null,
      "metadata": {
        "colab": {
          "base_uri": "https://localhost:8080/"
        },
        "id": "QRsDiIgakWWM",
        "outputId": "56b1a246-7092-4a0f-e866-ec7321121786"
      },
      "outputs": [
        {
          "output_type": "execute_result",
          "data": {
            "text/plain": [
              "0.9393589373375686"
            ]
          },
          "metadata": {},
          "execution_count": 15
        }
      ],
      "source": [
        "predictedLinearSVC = clf_linearSVC_pipe.predict(X_test)\n",
        "np.mean(predictedLinearSVC == X_test_targetSentiment)"
      ]
    },
    {
      "cell_type": "code",
      "execution_count": null,
      "metadata": {
        "colab": {
          "base_uri": "https://localhost:8080/"
        },
        "id": "hrLRjmtHUHAA",
        "outputId": "28ff5d18-3f8a-4ab4-9aa6-60028e6e6947"
      },
      "outputs": [
        {
          "output_type": "stream",
          "name": "stdout",
          "text": [
            "{'the': 1, 'and': 2, 'to': 3, 'i': 4, 'it': 5, 'for': 6, 'a': 7, 'is': 8, 'this': 9, 'my': 10, 'great': 11, 'of': 12, 'with': 13, 'tablet': 14, 'on': 15, 'have': 16, 'you': 17, 'use': 18, 'that': 19, 'in': 20, 'but': 21, 'love': 22, 'was': 23, 'as': 24, 'easy': 25, 'so': 26, 'very': 27, 'amazon': 28, 'not': 29, 'can': 30, 'kindle': 31, 'good': 32, 'bought': 33, 'one': 34, 'fire': 35, 'price': 36, 'all': 37, 'she': 38, 'has': 39, \"it's\": 40, 'like': 41, 'are': 42, 'an': 43, 'we': 44, 'up': 45, 'product': 46, 'more': 47, 'be': 48, 'would': 49, 'tv': 50, 'works': 51, 'just': 52, 'or': 53, 'at': 54, 'if': 55, 'get': 56, 'echo': 57, 'had': 58, 'they': 59, 'music': 60, 'much': 61, 'alexa': 62, 'read': 63, 'kids': 64, 'apps': 65, 'loves': 66, 'than': 67, 'from': 68, 'well': 69, 'books': 70, 'reading': 71, 'do': 72, 'best': 73, 'device': 74, 'really': 75, 'me': 76, 'when': 77, 'buy': 78, 'games': 79, 'purchased': 80, 'time': 81, 'what': 82, 'her': 83, 'old': 84, 'screen': 85, 'only': 86, 'play': 87, 'also': 88, 'no': 89, 'got': 90, 'he': 91, 'better': 92, 'gift': 93, 'recommend': 94, 'your': 95, 'will': 96, 'does': 97, 'out': 98, 'them': 99, 'set': 100, 'other': 101, 'year': 102, 'am': 103, 'perfect': 104, 'nice': 105, 'our': 106, 'little': 107, 'about': 108, 'new': 109, 'home': 110, 'now': 111, 'light': 112, 'its': 113, 'because': 114, 'even': 115, 'quality': 116, \"don't\": 117, 'there': 118, 'using': 119, 'purchase': 120, 'need': 121, 'some': 122, 'lot': 123, 'prime': 124, 'battery': 125, 'been': 126, \"i'm\": 127, 'christmas': 128, 'how': 129, 'any': 130, 'size': 131, 'able': 132, 'movies': 133, 'too': 134, 'want': 135, 'which': 136, 'first': 137, 'everything': 138, 'happy': 139, 'sound': 140, 'son': 141, 'many': 142, 'fun': 143, 'still': 144, 'work': 145, 'go': 146, 'things': 147, 'used': 148, 'reader': 149, \"can't\": 150, 'fast': 151, 'these': 152, 'could': 153, 'watch': 154, 'daughter': 155, 'app': 156, 'far': 157, '2': 158, 'tablets': 159, 'awesome': 160, 'features': 161, 'ipad': 162, 'after': 163, 'by': 164, 'family': 165, 'without': 166, 'speaker': 167, 'voice': 168, 'life': 169, 'money': 170, 'who': 171, 'excellent': 172, 'stick': 173, 'cable': 174, 'streaming': 175, 'store': 176, 'enjoy': 177, 'worth': 178, 'day': 179, 'having': 180, 'paperwhite': 181, 'while': 182, 'free': 183, 'box': 184, 'wife': 185, 'small': 186, 'way': 187, 'thing': 188, 'wanted': 189, 'amazing': 190, 'internet': 191, 'looking': 192, 'getting': 193, 'item': 194, 'then': 195, 'long': 196, 'every': 197, 'over': 198, 'google': 199, 'since': 200, 'smart': 201, 'ask': 202, 'weather': 203, 'makes': 204, 'his': 205, 'book': 206, 'playing': 207, \"i've\": 208, 'two': 209, 'back': 210, 'off': 211, \"doesn't\": 212, '3': 213, 'phone': 214, 'control': 215, 'download': 216, 'did': 217, 'take': 218, 'highly': 219, 'another': 220, 'most': 221, 'access': 222, 'questions': 223, 'e': 224, 'being': 225, 'pretty': 226, 'their': 227, 'simple': 228, 'enough': 229, 'something': 230, 'find': 231, 'house': 232, 'netflix': 233, 'definitely': 234, 'right': 235, 'user': 236, 'overall': 237, 'around': 238, 'make': 239, 'devices': 240, '5': 241, 'etc': 242, 'lights': 243, '7': 244, 'uses': 245, 'were': 246, 'available': 247, 'wish': 248, 'wifi': 249, 'always': 250, 'say': 251, 'memory': 252, 'few': 253, 'before': 254, 'know': 255, 'think': 256, 'years': 257, \"didn't\": 258, 'loved': 259, '4': 260, 'learning': 261, 'apple': 262, 'friendly': 263, 'needs': 264, 'setup': 265, 'turn': 266, 'both': 267, 'into': 268, 'down': 269, 'android': 270, 'see': 271, 'needed': 272, 'value': 273, 'easier': 274, 'videos': 275, 'ever': 276, 'sure': 277, 'shows': 278, 'especially': 279, 'anything': 280, 'faster': 281, 'black': 282, 'case': 283, 'room': 284, 'news': 285, 'add': 286, '8': 287, 'charge': 288, 'keep': 289, 'going': 290, 'however': 291, 'own': 292, 'same': 293, 'anyone': 294, '4k': 295, 'web': 296, 'through': 297, 'bit': 298, 'never': 299, 'remote': 300, 'absolutely': 301, 'watching': 302, 'sale': 303, 'card': 304, 'lots': 305, 'version': 306, 'put': 307, 'deal': 308, 'problem': 309, 'thought': 310, 'plus': 311, 'already': 312, 'made': 313, 'hd': 314, 'issues': 315, 'though': 316, 'seems': 317, 'picture': 318, 'myself': 319, 'second': 320, 'easily': 321, 'him': 322, 'content': 323, 'video': 324, 'give': 325, 'slow': 326, 'last': 327, 'listen': 328, 'should': 329, 'children': 330, 'yet': 331, 'child': 332, 'camera': 333, 'different': 334, 'again': 335, '50': 336, 'big': 337, 'found': 338, 'feature': 339, 'several': 340, 'list': 341, 'favorite': 342, 'buying': 343, 'beat': 344, 'night': 345, 'system': 346, 'dot': 347, 'storage': 348, 'eyes': 349, 'friday': 350, 'kid': 351, 'shopping': 352, 'carry': 353, 'such': 354, 'decided': 355, 'pleased': 356, 'gave': 357, 'replace': 358, 'older': 359, 'grandson': 360, 'times': 361, 'products': 362, 'cost': 363, 'mom': 364, 'cheap': 365, 'basic': 366, 'account': 367, 'controls': 368, 'low': 369, 'hard': 370, 'super': 371, 'fine': 372, 'unit': 373, 'must': 374, '1': 375, 'online': 376, 'clear': 377, 'less': 378, 'white': 379, 'paper': 380, 'parental': 381, 'almost': 382, 'weight': 383, 'once': 384, 'library': 385, 'useful': 386, 'plays': 387, 'expensive': 388, 'stream': 389, 'navigate': 390, 'expected': 391, 'bluetooth': 392, \"haven't\": 393, 'tap': 394, 'glad': 395, 'upgrade': 396, 'pay': 397, 'working': 398, 'connect': 399, 'quick': 400, 'husband': 401, 'enjoying': 402, 'tell': 403, 'look': 404, 'problems': 405, '10': 406, 'extra': 407, 'resolution': 408, 'service': 409, 'hold': 410, 'roku': 411, 'ok': 412, 'friends': 413, 'mother': 414, 'those': 415, 'speed': 416, 'page': 417, 'each': 418, 'ability': 419, 'options': 420, 'cool': 421, 'ease': 422, 'where': 423, 'member': 424, 'model': 425, 'us': 426, 'sd': 427, 'convenient': 428, 'email': 429, 'touch': 430, 'help': 431, 'fact': 432, 'everyone': 433, 'answer': 434, 'friend': 435, 'travel': 436, 'likes': 437, 'daily': 438, '6': 439, 'birthday': 440, 'original': 441, 'decent': 442, 'option': 443, \"isn't\": 444, 'experience': 445, 'portable': 446, 'liked': 447, 'instead': 448, 'everyday': 449, 'display': 450, 'granddaughter': 451, 'asking': 452, 'issue': 453, 'sometimes': 454, 'may': 455, 'lighting': 456, 'comes': 457, 'allows': 458, 'quite': 459, 'learn': 460, 'quickly': 461, 'install': 462, 'feel': 463, 'ads': 464, 'hours': 465, 'went': 466, \"couldn't\": 467, 'job': 468, 'hands': 469, 'charger': 470, 'wonderful': 471, 'gets': 472, 'keeps': 473, 'computer': 474, 'youtube': 475, 'lightweight': 476, \"you're\": 477, 'commands': 478, 'recommended': 479, 'anywhere': 480, 'inexpensive': 481, \"that's\": 482, 'gifts': 483, 'actually': 484, 'come': 485, 'check': 486, 'voyage': 487, 'information': 488, 'full': 489, 'present': 490, 'media': 491, 'month': 492, 'cover': 493, 'addition': 494, 'start': 495, 'worked': 496, 'took': 497, 'listening': 498, 'high': 499, 'technology': 500, 'durable': 501, 'search': 502, 'said': 503, 'tech': 504, 'someone': 505, 'stuff': 506, 'takes': 507, 'cord': 508, 'color': 509, 'connected': 510, 'came': 511, 'order': 512, 'mostly': 513, 'interface': 514, 'performance': 515, 'entertainment': 516, 'enjoyed': 517, \"wasn't\": 518, \"won't\": 519, 'longer': 520, 'skills': 521, 'helpful': 522, 'away': 523, 'cannot': 524, 'charging': 525, 'people': 526, 'added': 527, 'satisfied': 528, 'bad': 529, 'exactly': 530, 'affordable': 531, 'reviews': 532, 'load': 533, 'days': 534, 'try': 535, 'outside': 536, 'bright': 537, 'done': 538, 'tried': 539, 'connection': 540, 'fantastic': 541, 'next': 542, 'browsing': 543, 'previous': 544, 'disappointed': 545, 'why': 546, 'space': 547, 'whole': 548, 'understand': 549, 'point': 550, 'compared': 551, 'during': 552, 'kindles': 553, 'setting': 554, 'speakers': 555, 'wrong': 556, 'nothing': 557, 'smaller': 558, 'replacement': 559, 'kodi': 560, 'extremely': 561, 'cheaper': 562, 'built': 563, 'limited': 564, 'backlight': 565, 'stars': 566, 'bigger': 567, 'others': 568, 'purchasing': 569, 'samsung': 570, 'fits': 571, 'purse': 572, 'nephew': 573, 'started': 574, 'paid': 575, 'enjoys': 576, 'market': 577, 'power': 578, 'couple': 579, 'months': 580, 'bed': 581, 'handy': 582, 'ago': 583, 'due': 584, 'else': 585, 'gives': 586, 'downloaded': 587, 'side': 588, 'perfectly': 589, 'real': 590, 'game': 591, 'mine': 592, 'items': 593, 'choice': 594, 'responsive': 595, 'school': 596, 'answers': 597, 'functions': 598, 'three': 599, 'vue': 600, 'lasts': 601, 'run': 602, 'automation': 603, 'compact': 604, 'person': 605, 'glare': 606, 'hand': 607, 'spend': 608, 'expect': 609, 'plug': 610, 'weeks': 611, 'part': 612, 'probably': 613, 'law': 614, 'looks': 615, \"i'd\": 616, 'surfing': 617, 'firestick': 618, 'dark': 619, 'firetv': 620, 'yr': 621, 'making': 622, 'grandkids': 623, 'operate': 624, 'trying': 625, 'services': 626, 'reason': 627, 'kitchen': 628, 'helps': 629, 'finally': 630, 'change': 631, 'young': 632, 'radio': 633, 'regular': 634, 'week': 635, 'capabilities': 636, 'niece': 637, 'runs': 638, 'cut': 639, 'between': 640, 'impressed': 641, 'often': 642, 'wait': 643, 'offers': 644, 'although': 645, 'generation': 646, '9': 647, 'owned': 648, 'place': 649, \"wouldn't\": 650, 'returned': 651, 'replaced': 652, 'traveling': 653, 'buffering': 654, 'nook': 655, 'command': 656, 'doing': 657, 'larger': 658, '100': 659, 'educational': 660, 'plenty': 661, 'wants': 662, 'received': 663, 'brought': 664, 'table': 665, 'facebook': 666, 'button': 667, 'processor': 668, 'hue': 669, 'here': 670, 'laptop': 671, 'age': 672, 'volume': 673, 'updates': 674, 'wireless': 675, 'ones': 676, 'ereader': 677, 'question': 678, 'seem': 679, 'complaints': 680, 'morning': 681, 'along': 682, 'fit': 683, 'pandora': 684, 'via': 685, 'everywhere': 686, 'difference': 687, 'movie': 688, 'top': 689, 'expectations': 690, 'choose': 691, \"she's\": 692, 'tab': 693, 'live': 694, 'hear': 695, 'functionality': 696, 'parents': 697, 'end': 698, 'figure': 699, 'hulu': 700, 'simply': 701, 'complaint': 702, 'under': 703, 'channels': 704, 'thanks': 705, 'goes': 706, 'mini': 707, 'advertised': 708, 'might': 709, 'either': 710, 'taking': 711, 'port': 712, 'playstation': 713, 'plan': 714, 'mainly': 715, 'purpose': 716, 'response': 717, 'customer': 718, 'large': 719, 'text': 720, 'lists': 721, 'future': 722, 'pick': 723, 'grand': 724, 'sunlight': 725, 'bedroom': 726, 'purchases': 727, 'warranty': 728, 'pictures': 729, 'maybe': 730, 'adding': 731, 'upgraded': 732, 'thinking': 733, 'huge': 734, 'surf': 735, 'alarm': 736, 'provides': 737, 'difficult': 738, 'asked': 739, 'multiple': 740, 'jokes': 741, 'surprised': 742, 'third': 743, 'timer': 744, 'sounds': 745, 'siri': 746, 'until': 747, 'audio': 748, 'otherwise': 749, 'name': 750, 'forward': 751, 'update': 752, 'ethernet': 753, 'sister': 754, 'thermostat': 755, 'dad': 756, 'given': 757, 'expandable': 758, 'ready': 759, 'prefer': 760, 'beach': 761, 'songs': 762, 'support': 763, 'show': 764, 'tool': 765, 'downloading': 766, 'micro': 767, 'programs': 768, 'let': 769, 'line': 770, 'pages': 771, 'additional': 772, 'sun': 773, 'usb': 774, 'iphone': 775, 'constantly': 776, 'soon': 777, 'says': 778, 'loud': 779, 'members': 780, 'believe': 781, 'told': 782, 'buttons': 783, 'recognition': 784, 'amount': 785, 'adults': 786, 'installed': 787, 'local': 788, 'ordered': 789, 'readers': 790, 'reliable': 791, 'timers': 792, 'allow': 793, '99': 794, 'return': 795, 'turning': 796, 'rather': 797, 'ages': 798, 'tons': 799, 'minutes': 800, 'wi': 801, 'blue': 802, 'fi': 803, 'selection': 804, 'level': 805, 'handle': 806, 'player': 807, 'sports': 808, 'car': 809, 'os': 810, 'starter': 811, 'holds': 812, '2nd': 813, 'saw': 814, 'info': 815, 'living': 816, 'totally': 817, 'compatible': 818, '35': 819, 'break': 820, 'spent': 821, 'smooth': 822, 'assistant': 823, 'save': 824, 'loving': 825, 'reads': 826, 'ebooks': 827, 'graphics': 828, 'kind': 829, 'open': 830, 'picked': 831, 'electronic': 832, 'font': 833, 'ended': 834, 'priced': 835, 'beginner': 836, 'mind': 837, 'range': 838, 'feels': 839, \"there's\": 840, 'subscription': 841, 'based': 842, 'piece': 843, 'emails': 844, 'bucks': 845, 'heavy': 846, 'certain': 847, \"amazon's\": 848, 'lag': 849, 'slot': 850, 'software': 851, 'annoying': 852, 'personal': 853, 'broke': 854, 'recently': 855, 'grandchildren': 856, 'fan': 857, 'talk': 858, 'gadget': 859, 'alot': 860, 'brand': 861, 'turned': 862, 'loaded': 863, 'thank': 864, 'cant': 865, 'alternative': 866, 'become': 867, 'brightness': 868, 'nest': 869, 'main': 870, 'keyboard': 871, 'design': 872, 'hit': 873, '3rd': 874, 'adjust': 875, 'non': 876, 'least': 877, 'unless': 878, 'solid': 879, 'turns': 880, 'worry': 881, 'yes': 882, 'powerful': 883, 'giving': 884, 'dots': 885, 'clarity': 886, 'comfortable': 887, 'viewing': 888, 'past': 889, 'mode': 890, 'membership': 891, 'song': 892, 'checking': 893, 'entertaining': 894, 'research': 895, 'finding': 896, 'trip': 897, 'itself': 898, 'excited': 899, 'within': 900, 'higher': 901, 'view': 902, 'talking': 903, 'dropped': 904, 'previously': 905, 'bill': 906, 'lighter': 907, 'settings': 908, 'traffic': 909, 'front': 910, 'savvy': 911, 'offer': 912, 'colors': 913, 'paying': 914, '40': 915, 'gaming': 916, 'stop': 917, 'primarily': 918, 'similar': 919, 'review': 920, 'budget': 921, 'trips': 922, 'cooking': 923, 'charged': 924, 'busy': 925, 'spotify': 926, 'four': 927, 'later': 928, \"you'll\": 929, 'unlimited': 930, '15': 931, 'half': 932, 'reasonable': 933, 'browser': 934, 'idea': 935, 'including': 936, 'course': 937, 'inch': 938, 'entertained': 939, 'hooked': 940, 'short': 941, 'okay': 942, 'knew': 943, \"he's\": 944, 'call': 945, 'various': 946, 'crisp': 947, 'happier': 948, 'except': 949, 'program': 950, 'homework': 951, 'improvement': 952, '30': 953, 'truly': 954, 'star': 955, 'running': 956, 'function': 957, 'variety': 958, '20': 959, 'move': 960, 'calendar': 961, 'rid': 962, 'fairly': 963, 'avid': 964, 'lock': 965, \"i'll\": 966, 'beginners': 967, 'kept': 968, 'integration': 969, 'ton': 970, 'gotten': 971, 'left': 972, 'included': 973, 'specific': 974, 'type': 975, 'lol': 976, 'considering': 977, 'direct': 978, 'sleep': 979, 'hub': 980, 'completely': 981, 'photos': 982, 'lost': 983, 'capable': 984, 'waiting': 985, 'models': 986, 'electronics': 987, 'looked': 988, 'seen': 989, 'brother': 990, 'applications': 991, 'party': 992, 'u': 993, 'alone': 994, 'instructions': 995, 'trouble': 996, 'dollars': 997, 'hope': 998, 'network': 999, 'heard': 1000, 'connects': 1001, 'switch': 1002, 'latest': 1003, 'searching': 1004, 'general': 1005, 'sharp': 1006, 'browse': 1007, 'intuitive': 1008, 'television': 1009, 'world': 1010, 'background': 1011, 'figured': 1012, 'step': 1013, 'bring': 1014, 'toy': 1015, 'guess': 1016, 'words': 1017, 'wanting': 1018, 'operating': 1019, 'ways': 1020, 'gb': 1021, 'usually': 1022, 'alarms': 1023, 'tells': 1024, 'special': 1025, 'galaxy': 1026, 'directly': 1027, 'opinion': 1028, 'toddler': 1029, 'lack': 1030, 'father': 1031, 'responds': 1032, 'speak': 1033, 'basically': 1034, 'portability': 1035, 'functional': 1036, 'cell': 1037, 'stopped': 1038, \"aren't\": 1039, 'pad': 1040, 'xmas': 1041, 'downside': 1042, 'currently': 1043, 'saying': 1044, 'chromecast': 1045, 'died': 1046, 'daughters': 1047, 'build': 1048, 'hook': 1049, 'whatever': 1050, 'number': 1051, 'leave': 1052, 'hd8': 1053, 'dont': 1054, 'phones': 1055, 'tasks': 1056, 'close': 1057, 'originally': 1058, 'miss': 1059, 'onto': 1060, 'company': 1061, 'lower': 1062, 'streams': 1063, \"we've\": 1064, '00': 1065, 'adds': 1066, 'entire': 1067, 'gen': 1068, 'performs': 1069, '1st': 1070, '49': 1071, 'office': 1072, 'adult': 1073, 'today': 1074, 'household': 1075, 'remember': 1076, 'pass': 1077, 'stock': 1078, 'capability': 1079, 'users': 1080, 'road': 1081, 'harmony': 1082, 'loading': 1083, 'router': 1084, 'word': 1085, 'limits': 1086, 'controlling': 1087, 'drop': 1088, 'print': 1089, 'profile': 1090, 'convenience': 1091, 'matter': 1092, 'ipads': 1093, 'broken': 1094, 'boy': 1095, 'negative': 1096, 'sturdy': 1097, 's': 1098, 'plugged': 1099, 'flawlessly': 1100, 'sales': 1101, 'improved': 1102, 'link': 1103, 'fully': 1104, 'social': 1105, 'newer': 1106, 'whether': 1107, 'returning': 1108, 'beautiful': 1109, 'current': 1110, 'bottom': 1111, 'wake': 1112, 'satellite': 1113, 'holding': 1114, 'charges': 1115, 'yourself': 1116, 'alexia': 1117, 'limit': 1118, 'hdmi': 1119, 'regret': 1120, 'updated': 1121, 'adjustable': 1122, 'respond': 1123, 'younger': 1124, 'five': 1125, 'versions': 1126, 'boxes': 1127, 'usage': 1128, 'sticks': 1129, 'care': 1130, 'investment': 1131, 'cause': 1132, 'amazed': 1133, 'stand': 1134, 'anymore': 1135, 'incredible': 1136, 'downloads': 1137, 'stay': 1138, 'immediately': 1139, 'opened': 1140, 'breeze': 1141, 'chose': 1142, 'rooms': 1143, 'im': 1144, 'expecting': 1145, 'vacation': 1146, 'strain': 1147, 'stations': 1148, 'area': 1149, 'fires': 1150, 'protective': 1151, 'oasis': 1152, 'entry': 1153, 'seemed': 1154, 'pros': 1155, 'potential': 1156, 'bestbuy': 1157, 'source': 1158, 'lit': 1159, 'expand': 1160, 'exceeded': 1161, 'process': 1162, 'outstanding': 1163, 'lives': 1164, 'geek': 1165, 'complain': 1166, 'actual': 1167, 'thrilled': 1168, 'bargain': 1169, 'package': 1170, 'tvs': 1171, 'cutting': 1172, 'accounts': 1173, 'buck': 1174, 'nephews': 1175, 'strong': 1176, 'supposed': 1177, 'ordering': 1178, 'serves': 1179, 'standard': 1180, 'across': 1181, 'college': 1182, 'endless': 1183, 'carrying': 1184, 'frustrating': 1185, 'joke': 1186, 'bag': 1187, 'compare': 1188, 'choices': 1189, 'eye': 1190, 'external': 1191, 'decision': 1192, 'station': 1193, 'played': 1194, 'interested': 1195, 'pre': 1196, 'switches': 1197, 'hour': 1198, \"they're\": 1199, 'grocery': 1200, 'shop': 1201, 'knows': 1202, 'hoping': 1203, 'means': 1204, 'tired': 1205, 'digital': 1206, 'together': 1207, 'menu': 1208, 'cases': 1209, 'major': 1210, 'understands': 1211, 'coming': 1212, 'bonus': 1213, 'helped': 1214, '12': 1215, 'edition': 1216, 'sling': 1217, 'telling': 1218, 'mail': 1219, 'keeping': 1220, 'date': 1221, 'conditions': 1222, 'offered': 1223, 'meets': 1224, \"hasn't\": 1225, \"we're\": 1226, 'cons': 1227, '11': 1228, 'press': 1229, 'continue': 1230, 'security': 1231, 'parent': 1232, 'tube': 1233, 'biggest': 1234, 'backlit': 1235, 'remove': 1236, 'bang': 1237, 'machine': 1238, 'initially': 1239, 'saved': 1240, 'audible': 1241, 'mobile': 1242, 'drawback': 1243, 'suggest': 1244, 'bulbs': 1245, 'normal': 1246, 'companion': 1247, 'wemo': 1248, 'outdoors': 1249, 'plane': 1250, 'reminders': 1251, 'purposes': 1252, 'poor': 1253, 'cameras': 1254, 'auto': 1255, 'slightly': 1256, 'sold': 1257, 'example': 1258, 'unlike': 1259, 'n': 1260, 'none': 1261, 'prices': 1262, 'possible': 1263, 'bunch': 1264, 'earlier': 1265, 'linked': 1266, 'advantage': 1267, 'request': 1268, 'freeze': 1269, 'controller': 1270, 'loads': 1271, 'drive': 1272, 'neat': 1273, 'activated': 1274, '8gb': 1275, 'net': 1276, 'brands': 1277, 'create': 1278, 'greatest': 1279, 'clock': 1280, 'changed': 1281, 'seeing': 1282, 'internal': 1283, 'wherever': 1284, 'note': 1285, 'imagine': 1286, 'flash': 1287, \"mother's\": 1288, 'receive': 1289, 'requires': 1290, 'learned': 1291, 'versatile': 1292, 'unfortunately': 1293, \"wife's\": 1294, 'begin': 1295, 'anytime': 1296, 'fix': 1297, 'pocket': 1298, 'programming': 1299, '4th': 1300, 'processing': 1301, 'skeptical': 1302, 'near': 1303, 'navigation': 1304, 'beginning': 1305, 'single': 1306, 'drops': 1307, 'surprise': 1308, 'familiar': 1309, 'underground': 1310, 'send': 1311, 'protection': 1312, 'door': 1313, 'boys': 1314, 'realize': 1315, 'numerous': 1316, 'saving': 1317, 'steal': 1318, 'sync': 1319, 'missing': 1320, 'average': 1321, 'true': 1322, 'specifically': 1323, 'felt': 1324, 'ad': 1325, 'lets': 1326, 'sooner': 1327, 'enjoyable': 1328, 'freetime': 1329, 'penny': 1330, 'business': 1331, 'knowledge': 1332, 'please': 1333, 'connecting': 1334, 'hbo': 1335, 'brainer': 1336, 'magazines': 1337, 'sleek': 1338, 'connectivity': 1339, 'scores': 1340, 'appropriate': 1341, 'whistles': 1342, 'waited': 1343, 'inside': 1344, 'paired': 1345, 'automatically': 1346, 'hdx': 1347, 'held': 1348, 'anyway': 1349, 'starting': 1350, 'areas': 1351, 'noticed': 1352, 'bells': 1353, 'pleasure': 1354, 'required': 1355, 'spending': 1356, 'called': 1357, 'safe': 1358, 'minor': 1359, 'bills': 1360, 'ram': 1361, \"what's\": 1362, 'nieces': 1363, 'squad': 1364, 'benefits': 1365, 'prior': 1366, '16': 1367, 'putting': 1368, 'share': 1369, 'self': 1370, 'format': 1371, 'somewhat': 1372, 'provide': 1373, 'allowed': 1374, 't': 1375, 'complete': 1376, 'ideal': 1377, 'quicker': 1378, 'base': 1379, 'awhile': 1380, 'taken': 1381, 'interesting': 1382, 'besides': 1383, 'reset': 1384, 'smarter': 1385, 'reports': 1386, 'wow': 1387, 'lose': 1388, \"son's\": 1389, 'normally': 1390, 'exchange': 1391, 'vs': 1392, '39': 1393, \"tv's\": 1394, 'important': 1395, 'met': 1396, 'data': 1397, 'oh': 1398, 'designed': 1399, 'nicely': 1400, 'whenever': 1401, 'calls': 1402, 'separate': 1403, 'holidays': 1404, 'explore': 1405, 'thru': 1406, 'literally': 1407, 'complicated': 1408, 'echos': 1409, 'reasonably': 1410, 'tooth': 1411, 'forever': 1412, 'consider': 1413, 'youngest': 1414, 'monthly': 1415, 'material': 1416, 'certainly': 1417, 'ink': 1418, 'necessary': 1419, 'credit': 1420, 'rating': 1421, 'rate': 1422, 'core': 1423, 'personally': 1424, 'chance': 1425, 'capacity': 1426, '80': 1427, 'air': 1428, 'hardware': 1429, 'slower': 1430, 'sonos': 1431, 'kinds': 1432, 'surprisingly': 1433, 'improve': 1434, 'solution': 1435, 'premium': 1436, 'frequently': 1437, 'occasionally': 1438, 'pool': 1439, 'pull': 1440, 'adequate': 1441, 'particular': 1442, '33': 1443, 'minimal': 1444, 'specs': 1445, 'dedicated': 1446, 'screens': 1447, 'girlfriend': 1448, 'possibilities': 1449, 'dead': 1450, 'random': 1451, 'microsd': 1452, 'girl': 1453, 'doesnt': 1454, 'trivia': 1455, 'intended': 1456, 'shipping': 1457, 'hundreds': 1458, '200': 1459, 'recipes': 1460, 'sense': 1461, 'cloud': 1462, 'requests': 1463, 'properly': 1464, 'reasons': 1465, 'units': 1466, 'ahead': 1467, 'crazy': 1468, 'waste': 1469, 'stays': 1470, 'pair': 1471, 'sit': 1472, 'platform': 1473, 'constant': 1474, 'accurate': 1475, 'thermostats': 1476, 'nearly': 1477, 'appreciate': 1478, 'throughout': 1479, 'nexus': 1480, 'spot': 1481, 'elderly': 1482, 'bose': 1483, 'smoothly': 1484, 'saves': 1485, 'rest': 1486, 'sons': 1487, 'instantly': 1488, 'replacing': 1489, 'form': 1490, 'obviously': 1491, 'curve': 1492, 'moment': 1493, 'appear': 1494, 'physical': 1495, 'downfall': 1496, 'signal': 1497, 'stereo': 1498, 'notes': 1499, 'face': 1500, 'presents': 1501, 'thin': 1502, 'basis': 1503, 'ecosystem': 1504, 'sensitive': 1505, 'series': 1506, 'gadgets': 1507, 'forget': 1508, 'wired': 1509, 'hopefully': 1510, 'further': 1511, 'early': 1512, 'application': 1513, 'utilize': 1514, 'watches': 1515, 'enabled': 1516, 'provided': 1517, 'answering': 1518, 'adapter': 1519, 'dim': 1520, 'grandsons': 1521, 'upon': 1522, 'pop': 1523, 'class': 1524, 'eventually': 1525, 'locked': 1526, 'limitations': 1527, 'philips': 1528, 'protector': 1529, 'six': 1530, 'leather': 1531, 'activities': 1532, 'ebook': 1533, 'weak': 1534, 'sitting': 1535, 'proof': 1536, 'honestly': 1537, 'advertising': 1538, 'moving': 1539, 'push': 1540, 'recipient': 1541, 'password': 1542, 'temperature': 1543, 'equipment': 1544, 'likely': 1545, 'sites': 1546, 'informative': 1547, 'catch': 1548, 'unable': 1549, 'flexibility': 1550, 'bother': 1551, 'ai': 1552, 'middle': 1553, 'advanced': 1554, 'tough': 1555, 'surface': 1556, 'supports': 1557, '60': 1558, 'subscribe': 1559, 'quad': 1560, 'girls': 1561, 'garage': 1562, 'thus': 1563, 'wall': 1564, 'terrible': 1565, 'plex': 1566, 'careful': 1567, 'realized': 1568, 'happen': 1569, 'efficient': 1570, 'baby': 1571, 'stuck': 1572, 'pro': 1573, 'enable': 1574, 'image': 1575, 'wide': 1576, 'cards': 1577, 'pleasantly': 1578, 'pleasant': 1579, 'places': 1580, 'practical': 1581, 'opening': 1582, 'pics': 1583, 'pain': 1584, 'primary': 1585, 'directv': 1586, 'beyond': 1587, 'behind': 1588, 'incredibly': 1589, 'man': 1590, 'menus': 1591, 'pc': 1592, 'demand': 1593, 'thousands': 1594, 'casual': 1595, 'hate': 1596, 'described': 1597, 'floor': 1598, 'nicer': 1599, 'upstairs': 1600, 'yrs': 1601, 'per': 1602, 'outlet': 1603, 'olds': 1604, 'streamer': 1605, 'freezes': 1606, 'readable': 1607, 'integrated': 1608, 'twice': 1609, 'fancy': 1610, 'impressive': 1611, 'w': 1612, 'confusing': 1613, 'didnt': 1614, 'listens': 1615, '2015': 1616, 'beats': 1617, 'delivery': 1618, 'receiver': 1619, 'hot': 1620, 'fingertips': 1621, 'notice': 1622, 'sign': 1623, 'perform': 1624, 'damage': 1625, 'clean': 1626, 'ui': 1627, 'files': 1628, 'batteries': 1629, 'difficulty': 1630, 'barely': 1631, 'terrific': 1632, 'occupied': 1633, 'jeopardy': 1634, 'charm': 1635, 'lasted': 1636, 'hesitant': 1637, 'abilities': 1638, 'afford': 1639, 'cracked': 1640, 'ps': 1641, 'dollar': 1642, 'ios': 1643, 'popular': 1644, 'thanksgiving': 1645, 'throw': 1646, 'correct': 1647, 'wont': 1648, 'con': 1649, 'o': 1650, 'win': 1651, '16gb': 1652, 'bulky': 1653, 'staff': 1654, 'continues': 1655, 'grandma': 1656, \"alexa's\": 1657, 'rear': 1658, 'joy': 1659, 'worried': 1660, 'damaged': 1661, 'straight': 1662, 'protect': 1663, 'preloaded': 1664, 'fills': 1665, 'microphone': 1666, 'clearly': 1667, 'discovered': 1668, 'types': 1669, 'sony': 1670, 'basics': 1671, 'superior': 1672, 'hardly': 1673, 'hurt': 1674, 'sell': 1675, 'total': 1676, 'aware': 1677, 'include': 1678, 'channel': 1679, 'accessible': 1680, 'hoped': 1681, 'stores': 1682, 'finger': 1683, 'fastest': 1684, 'monitor': 1685, 'increase': 1686, 'switched': 1687, 'appointments': 1688, 'became': 1689, 'minute': 1690, 'appears': 1691, 'fall': 1692, 'asleep': 1693, 'b': 1694, 'controlled': 1695, 'glass': 1696, 'require': 1697, 'snappy': 1698, 'mean': 1699, 'unbelievable': 1700, 'fixed': 1701, 'trial': 1702, 'seconds': 1703, '128gb': 1704, 'effective': 1705, \"let's\": 1706, 'extended': 1707, 'hearing': 1708, 'thats': 1709, 'effort': 1710, 'needing': 1711, 'smartphone': 1712, 'operation': 1713, 'recent': 1714, 'smoother': 1715, 'newest': 1716, '300': 1717, 'above': 1718, 'sort': 1719, 'holiday': 1720, 'ran': 1721, 'fraction': 1722, 'artist': 1723, 'backlighting': 1724, 'touchscreen': 1725, 'plastic': 1726, 'growing': 1727, 'exchanged': 1728, 'lacks': 1729, 'mention': 1730, 'guy': 1731, 'bass': 1732, 'wink': 1733, 'track': 1734, 'plugs': 1735, 'granddaughters': 1736, 'feeling': 1737, 'water': 1738, 'public': 1739, 'kinda': 1740, 'travels': 1741, 'pack': 1742, 'skill': 1743, 'points': 1744, 'profiles': 1745, 'silk': 1746, 'concerned': 1747, '90': 1748, 'meant': 1749, 'ive': 1750, 'seamlessly': 1751, 'pricey': 1752, 'wise': 1753, 'technical': 1754, 'ifttt': 1755, 'quiet': 1756, 'thoroughly': 1757, 'noticeable': 1758, 'correctly': 1759, 'pdf': 1760, 'deals': 1761, 'integrates': 1762, 'com': 1763, 'knock': 1764, 'dictionary': 1765, 'follow': 1766, 'led': 1767, \"child's\": 1768, '13': 1769, 'integrate': 1770, '1080p': 1771, 'guide': 1772, 'speaking': 1773, 'suggested': 1774, 'includes': 1775, 'country': 1776, 'teach': 1777, 'happened': 1778, 'def': 1779, 'task': 1780, 'tag': 1781, 'links': 1782, 'recharge': 1783, 'clearer': 1784, 'louder': 1785, 'bb': 1786, 'accessories': 1787, 'funny': 1788, 'fell': 1789, 'directions': 1790, 'improvements': 1791, 'log': 1792, 'initial': 1793, 'windows': 1794, 'events': 1795, 'flawless': 1796, 'occasional': 1797, 'moved': 1798, 'borrow': 1799, 'shield': 1800, 'site': 1801, 'manually': 1802, 'tiny': 1803, 'costs': 1804, 'durability': 1805, 'restart': 1806, 'multi': 1807, 'key': 1808, 'schedule': 1809, 'responses': 1810, 'late': 1811, 'knowledgeable': 1812, 'gone': 1813, 'test': 1814, 'headphones': 1815, 'suppose': 1816, 'recomend': 1817, 'finds': 1818, 'commercials': 1819, 'quit': 1820, 'rarely': 1821, 'lacking': 1822, 'watched': 1823, 'fault': 1824, 'pink': 1825, 'wonderfully': 1826, 'ultra': 1827, 'outlets': 1828, 'hassle': 1829, 'hang': 1830, 'lighted': 1831, 'report': 1832, 'knowing': 1833, 'frustrated': 1834, 'nvidia': 1835, 'refund': 1836, 'location': 1837, 'exact': 1838, 'fee': 1839, 'hers': 1840, 'cancel': 1841, 'antenna': 1842, 'fabulous': 1843, 'forecast': 1844, 'benefit': 1845, 'titles': 1846, 'useless': 1847, 'showed': 1848, \"you'd\": 1849, 'understanding': 1850, 'owner': 1851, 'freezing': 1852, 'commute': 1853, 'factor': 1854, 'covers': 1855, 'style': 1856, 'summer': 1857, 'phillips': 1858, 'comparison': 1859, 'planning': 1860, 'comparable': 1861, '34': 1862, 'engine': 1863, 'depending': 1864, 'systems': 1865, 'serious': 1866, 'bank': 1867, 'instant': 1868, 'teenage': 1869, 'manage': 1870, 'answered': 1871, 'visit': 1872, 'experienced': 1873, 'brighter': 1874, 'offering': 1875, 'accidentally': 1876, 'decide': 1877, 'sources': 1878, 'provider': 1879, 'train': 1880, 're': 1881, 'boyfriend': 1882, 'relatively': 1883, '70': 1884, 'mouse': 1885, 'released': 1886, 'expansion': 1887, 'math': 1888, 'collection': 1889, 'outdoor': 1890, 'playlist': 1891, 'navigating': 1892, 'airplane': 1893, 'upload': 1894, 'buffer': 1895, 'advertisements': 1896, 'santa': 1897, 'transfer': 1898, 'forth': 1899, 'known': 1900, 'aunt': 1901, 'despite': 1902, 'automated': 1903, 'relative': 1904, \"echo's\": 1905, 'crystal': 1906, 'grandmother': 1907, 'seriously': 1908, 'discount': 1909, 'defective': 1910, 'swipe': 1911, 'upgrading': 1912, 'loose': 1913, 'edge': 1914, '2016': 1915, 'missed': 1916, 'becomes': 1917, 'bumper': 1918, 'tabs': 1919, 'tables': 1920, 'oldest': 1921, 'picking': 1922, 'senior': 1923, 'disappoint': 1924, 'season': 1925, 'speedy': 1926, 'speech': 1927, 'lasting': 1928, 'students': 1929, \"you've\": 1930, 'letters': 1931, 'maneuver': 1932, 'sets': 1933, 'easiest': 1934, 'caught': 1935, 'skype': 1936, '3g': 1937, 'lags': 1938, 'arrived': 1939, 'teens': 1940, 'attached': 1941, 'modem': 1942, 'assistance': 1943, 'history': 1944, 'rough': 1945, 'greatly': 1946, 'anybody': 1947, 'disappointing': 1948, 'slim': 1949, 'sufficient': 1950, 'interact': 1951, 'g': 1952, 'firebox': 1953, 'facts': 1954, 'removed': 1955, 'dual': 1956, 'activation': 1957, 'appstore': 1958, 'avoid': 1959, 'placed': 1960, 'comment': 1961, 'tend': 1962, 'silly': 1963, 'bing': 1964, 'daylight': 1965, 'match': 1966, 'comparing': 1967, \"kid's\": 1968, 'delivers': 1969, 'chrome': 1970, 'unlock': 1971, 'lamp': 1972, 'playback': 1973, 'consumption': 1974, 'cousin': 1975, 'layout': 1976, 'breaking': 1977, 'breaks': 1978, 'chargers': 1979, 'regularly': 1980, 'fair': 1981, 'connections': 1982, \"weren't\": 1983, 'acceptable': 1984, 'pixels': 1985, 'dish': 1986, 'output': 1987, 'locks': 1988, 'novelty': 1989, 'installing': 1990, 'gig': 1991, 'selections': 1992, 'rides': 1993, 'concern': 1994, 'starts': 1995, 'searches': 1996, 'delivered': 1997, 'opportunity': 1998, 'offline': 1999, 'calling': 2000, 'convert': 2001, 'student': 2002, 'sideload': 2003, 'techie': 2004, 'smartthings': 2005, 'tied': 2006, 'logitech': 2007, 'voyager': 2008, \"daughter's\": 2009, 'mails': 2010, 'thumbs': 2011, 'sent': 2012, 'exploring': 2013, 'delete': 2014, 'aps': 2015, 'allowing': 2016, 'slowly': 2017, 'activate': 2018, 'shade': 2019, 'finish': 2020, 'increased': 2021, 'cumbersome': 2022, 'changes': 2023, 'dinner': 2024, 'contact': 2025, 'sunshine': 2026, 'action': 2027, 'ipod': 2028, 'performed': 2029, 'sending': 2030, 'god': 2031, 'backup': 2032, 'grown': 2033, \"father's\": 2034, 'appliances': 2035, 'restrictions': 2036, 'hesitate': 2037, \"children's\": 2038, 'sorts': 2039, 'updating': 2040, 'images': 2041, 'preferred': 2042, 'stable': 2043, 'firesticks': 2044, 'head': 2045, 'mentioned': 2046, 'versatility': 2047, 'researched': 2048, 'weekend': 2049, 'junk': 2050, 'orders': 2051, 'bar': 2052, 'noise': 2053, 'wore': 2054, 'aside': 2055, 'versus': 2056, 'customize': 2057, 'environment': 2058, 'write': 2059, 'playstore': 2060, 'recognize': 2061, 'grow': 2062, 'particularly': 2063, 'click': 2064, 'ours': 2065, 'x': 2066, 'protected': 2067, 'results': 2068, 'sucks': 2069, 'blows': 2070, 'theater': 2071, 'aspect': 2072, 'cancelled': 2073, 'learns': 2074, 'vudu': 2075, 'failed': 2076, 'providing': 2077, 'operates': 2078, 'register': 2079, 'periods': 2080, 'virtually': 2081, 'blast': 2082, 'bible': 2083, 'situations': 2084, 'installation': 2085, 'hears': 2086, 'brings': 2087, 'prize': 2088, 'thinks': 2089, 'input': 2090, 'default': 2091, 'downstairs': 2092, 'tips': 2093, \"who's\": 2094, 'sweet': 2095, 'mess': 2096, 'pixel': 2097, 'receiving': 2098, 'terms': 2099, 'comcast': 2100, 'horrible': 2101, 'sorry': 2102, 'powered': 2103, 'sounding': 2104, 'bugs': 2105, 'trigger': 2106, 'fourth': 2107, 'falls': 2108, 'perhaps': 2109, 'relaxing': 2110, 'interaction': 2111, 'website': 2112, 'typing': 2113, 'attractive': 2114, 'extensive': 2115, 'select': 2116, 'language': 2117, 'accessing': 2118, 'enjoyment': 2119, 'upgrades': 2120, 'documents': 2121, 'cast': 2122, 'stories': 2123, 'associate': 2124, 'grandchild': 2125, 'soft': 2126, 'numbers': 2127, '14': 2128, 'discover': 2129, 'contrast': 2130, 'slick': 2131, 'period': 2132, 'itunes': 2133, 'gonna': 2134, 'factory': 2135, 'tho': 2136, 'disappointment': 2137, 'adjusting': 2138, 'levels': 2139, 'couch': 2140, 'losing': 2141, 'afraid': 2142, 'generally': 2143, 'expanding': 2144, 'coffee': 2145, 'deck': 2146, 'briefing': 2147, 'fonts': 2148, 'adjustment': 2149, 'puts': 2150, 'aspects': 2151, 'stolen': 2152, 'block': 2153, 'articles': 2154, 'worst': 2155, 'active': 2156, 'yo': 2157, 'positive': 2158, 'zero': 2159, 'rubber': 2160, 'lil': 2161, 'devise': 2162, 'discovering': 2163, 'lite': 2164, 'heavier': 2165, 'playlists': 2166, 'automatic': 2167, 'amazons': 2168, 'definition': 2169, 'solved': 2170, 'liking': 2171, 'glitches': 2172, 'secure': 2173, 'rocks': 2174, 'unique': 2175, 'locations': 2176, 'interactive': 2177, 'existing': 2178, 'supported': 2179, 'freedom': 2180, 'gripe': 2181, 'coolest': 2182, 'v': 2183, 'par': 2184, 'feedback': 2185, 'regardless': 2186, 'paperback': 2187, 'nabi': 2188, 'meet': 2189, 'heart': 2190, 'eight': 2191, 'admit': 2192, 'talked': 2193, 'adjusts': 2194, 'laggy': 2195, 'winner': 2196, 'proper': 2197, 'flaw': 2198, 'worse': 2199, 'wonder': 2200, 'walk': 2201, 'chat': 2202, 'ps4': 2203, 'instagram': 2204, 'entertain': 2205, 'recommendation': 2206, 'readability': 2207, 'flights': 2208, 'impossible': 2209, 'ups': 2210, 'center': 2211, 'feet': 2212, 'phenomenal': 2213, 'manual': 2214, 'dvd': 2215, 'cook': 2216, 'possibly': 2217, 'glasses': 2218, 'pdfs': 2219, 'till': 2220, 'desktop': 2221, 'elsewhere': 2222, 'draw': 2223, 'bedtime': 2224, 'messages': 2225, 'message': 2226, 'figuring': 2227, 'lap': 2228, 'talks': 2229, 'vocabulary': 2230, 'meaning': 2231, 'hotel': 2232, 'error': 2233, 'companies': 2234, 'challenged': 2235, 'kiddos': 2236, 'overpriced': 2237, 'whatsoever': 2238, 'justify': 2239, 'responsiveness': 2240, 'bored': 2241, 'situation': 2242, '0': 2243, 'ac': 2244, 'evening': 2245, 'preference': 2246, 'advertisement': 2247, 'substitute': 2248, 'tends': 2249, 'managed': 2250, 'natural': 2251, 'regrets': 2252, 'tools': 2253, 'apart': 2254, 'jump': 2255, 'graphic': 2256, 'xm': 2257, 'below': 2258, 'parts': 2259, '64': 2260, 'researching': 2261, 'theirs': 2262, 'saver': 2263, 'selling': 2264, 'aging': 2265, 'grab': 2266, 'weekly': 2267, 'gotta': 2268, '128': 2269, 'debated': 2270, 'related': 2271, 'rely': 2272, 'towards': 2273, 'common': 2274, 'speeds': 2275, \"kindle's\": 2276, 'delighted': 2277, 'absolute': 2278, 'ourselves': 2279, 'temp': 2280, 'boot': 2281, 'desired': 2282, 'practically': 2283, 'voices': 2284, 'band': 2285, 'happens': 2286, 'importantly': 2287, 'imagined': 2288, 'root': 2289, 'buys': 2290, 'group': 2291, 'lightning': 2292, 'checked': 2293, 'neither': 2294, 'dropping': 2295, 'created': 2296, 'transferred': 2297, 'file': 2298, 'lived': 2299, 'nor': 2300, 'hubby': 2301, 'essentially': 2302, 'began': 2303, 'grade': 2304, 'froze': 2305, 'luck': 2306, 'rich': 2307, 'organized': 2308, 'reboot': 2309, 'interest': 2310, 'lately': 2311, 'disturbing': 2312, 'cartoons': 2313, 'fail': 2314, 'filled': 2315, 'pizza': 2316, 'shuts': 2317, 'seamless': 2318, 'fingers': 2319, 'inches': 2320, 'hey': 2321, 'superb': 2322, '2017': 2323, 'materials': 2324, 'eco': 2325, 'trick': 2326, 'distance': 2327, '5th': 2328, 'himself': 2329, 'patient': 2330, 'welcome': 2331, 'ur': 2332, 'snap': 2333, 'reviewed': 2334, 'tested': 2335, 'expense': 2336, 'ppi': 2337, 'training': 2338, 'syncs': 2339, 'dog': 2340, 'invested': 2341, 'iheart': 2342, 'food': 2343, 'heck': 2344, 'helping': 2345, 'iphones': 2346, 'separately': 2347, 'subscriptions': 2348, 'robust': 2349, 'appletv': 2350, 'geared': 2351, 'pressure': 2352, 'amazingly': 2353, '25': 2354, 'simplicity': 2355, 'bathroom': 2356, 'unbeatable': 2357, 'owning': 2358, 'creating': 2359, '32': 2360, 'master': 2361, 'imo': 2362, 'picks': 2363, 'doubt': 2364, 'switching': 2365, 'distracted': 2366, 'dumb': 2367, 'repeat': 2368, 'whim': 2369, 'december': 2370, 'visiting': 2371, 'hype': 2372, 'max': 2373, 'lifx': 2374, 'sleeping': 2375, 'availability': 2376, 'sub': 2377, 'flip': 2378, 'usual': 2379, 'shape': 2380, 'twins': 2381, 'tunes': 2382, 'sized': 2383, 'mic': 2384, 'clunky': 2385, 'travelling': 2386, 'websites': 2387, 'worthy': 2388, 'expanded': 2389, 'asks': 2390, 'drain': 2391, 'lug': 2392, 'plain': 2393, 'dream': 2394, 'therefore': 2395, 'study': 2396, 'sad': 2397, 'ensure': 2398, 'highlight': 2399, 'r': 2400, 'sunny': 2401, 'opens': 2402, 'honest': 2403, 'moderate': 2404, 'employees': 2405, 'seven': 2406, 'simpler': 2407, 'differences': 2408, 'lowest': 2409, '24': 2410, 'abc': 2411, 'leaves': 2412, 'functioning': 2413, 'showing': 2414, 'uhd': 2415, 'encourage': 2416, 'shut': 2417, 'subscribed': 2418, 'teenager': 2419, 'anticipated': 2420, 'pricing': 2421, \"would've\": 2422, 'sisters': 2423, 'greater': 2424, '89': 2425, '18': 2426, 'photo': 2427, 'lines': 2428, 'handles': 2429, 'cutter': 2430, 'ray': 2431, 'alexis': 2432, 'orange': 2433, 'modern': 2434, 'typically': 2435, 'worthwhile': 2436, 'savy': 2437, 'pushing': 2438, 'stupid': 2439, 'displays': 2440, \"we'll\": 2441, 'wished': 2442, 'informed': 2443, 'shipped': 2444, 'wear': 2445, 'programmed': 2446, 'novels': 2447, 'tricks': 2448, 'story': 2449, 'facing': 2450, 'teaching': 2451, 'mothers': 2452, 'copy': 2453, 'closed': 2454, 'sits': 2455, 'flimsy': 2456, 'ten': 2457, 'education': 2458, 'inappropriate': 2459, 'worries': 2460, 'noticeably': 2461, 'shown': 2462, 'vibrant': 2463, 'steaming': 2464, 'minimum': 2465, 'remotes': 2466, 'audiobooks': 2467, 'fence': 2468, 'spends': 2469, 'supplement': 2470, 'unplug': 2471, 'computers': 2472, 'k': 2473, 'specially': 2474, 'sat': 2475, 'vast': 2476, 'rechargeable': 2477, 'becoming': 2478, \"it'll\": 2479, 'transport': 2480, 'bc': 2481, 'grandparents': 2482, 'hundred': 2483, 'replaces': 2484, 'y': 2485, 'requested': 2486, 'customers': 2487, 'tremendous': 2488, 'disable': 2489, 'siblings': 2490, 'heat': 2491, 'event': 2492, 'changing': 2493, 'bye': 2494, 'podcasts': 2495, 'leaving': 2496, 'disney': 2497, 'restricted': 2498, 'additionally': 2499, 'harder': 2500, 'extras': 2501, 'loss': 2502, 'desk': 2503, 'flat': 2504, 'tall': 2505, \"she'll\": 2506, 'overdrive': 2507, 'willing': 2508, 'salesman': 2509, 'release': 2510, 'length': 2511, 'lover': 2512, 'syncing': 2513, 'guest': 2514, 'deciding': 2515, 'gentle': 2516, 'ons': 2517, 'clash': 2518, 'skip': 2519, 'tight': 2520, 'husbands': 2521, 'mood': 2522, 'crack': 2523, 'intelligent': 2524, 'alex': 2525, 'position': 2526, 'laying': 2527, 'beautifully': 2528, 'focus': 2529, 'briefs': 2530, 'wakes': 2531, 'packaging': 2532, 'individual': 2533, 'concept': 2534, 'apparently': 2535, 'pulled': 2536, 'sharing': 2537, 'grabbed': 2538, 'everybody': 2539, 'guarantee': 2540, 'teen': 2541, 'wire': 2542, 'resource': 2543, 'activity': 2544, '95': 2545, 'm': 2546, 'employee': 2547, 'reward': 2548, 'significantly': 2549, 'purple': 2550, 'fb': 2551, 'rep': 2552, 'intercom': 2553, 'lady': 2554, '64gb': 2555, 'somewhere': 2556, 'accent': 2557, 'appreciated': 2558, 'bundle': 2559, 'darn': 2560, 'covered': 2561, 'trust': 2562, 'comics': 2563, 'inability': 2564, 'board': 2565, 'utilizing': 2566, 'pickup': 2567, 'everytime': 2568, 'indoors': 2569, 'management': 2570, 'odd': 2571, 'conversation': 2572, 'insurance': 2573, '75': 2574, 'serve': 2575, 'registered': 2576, 'buyer': 2577, 'bringing': 2578, 'code': 2579, 'sluggish': 2580, 'favor': 2581, 'notifications': 2582, 'herself': 2583, 'reminds': 2584, 'espn': 2585, 'icons': 2586, 'shelf': 2587, 'classes': 2588, 'frequent': 2589, 'abuse': 2590, 'sirius': 2591, 'upcoming': 2592, '150': 2593, 'l': 2594, 'building': 2595, 'flexible': 2596, 'awful': 2597, 'waking': 2598, 'staying': 2599, 'ha': 2600, 'spectacular': 2601, 'pairs': 2602, 'toys': 2603, 'impulse': 2604, 'exceptional': 2605, 'highlights': 2606, 'performing': 2607, 'complains': 2608, 'genre': 2609, 'stated': 2610, 'considered': 2611, 'opposed': 2612, 'recipe': 2613, 'significant': 2614, 'sideloaded': 2615, 'strongly': 2616, 'shot': 2617, 'double': 2618, 'typical': 2619, 'weird': 2620, 'improving': 2621, 'rooting': 2622, 'consistently': 2623, 'spots': 2624, 'gmail': 2625, 'usefulness': 2626, 'hooks': 2627, 'scroll': 2628, 'bedrooms': 2629, 'waterproof': 2630, 'native': 2631, 'highest': 2632, 'steps': 2633, 'communicate': 2634, 'palm': 2635, 'technically': 2636, 'sides': 2637, 'packs': 2638, 'themselves': 2639, 'characters': 2640, 'smarthome': 2641, 'cute': 2642, 'contacted': 2643, 'scrolling': 2644, 'opted': 2645, 'supply': 2646, 'overseas': 2647, 'testing': 2648, 'fees': 2649, 'gifted': 2650, 'lenovo': 2651, '3yr': 2652, 'claim': 2653, 'strictly': 2654, 'refer': 2655, 'xfinity': 2656, 'packed': 2657, 'red': 2658, 'traditional': 2659, 'puzzles': 2660, 'favorites': 2661, 'jacket': 2662, 'teenagers': 2663, 'rated': 2664, 'al': 2665, 'fight': 2666, 'won': 2667, 'dependable': 2668, 'showtime': 2669, 'among': 2670, 'rugged': 2671, 'clutter': 2672, 'forced': 2673, 'owners': 2674, 'wondering': 2675, '6yr': 2676, 'toddlers': 2677, 'continually': 2678, 'convinced': 2679, 'blown': 2680, 'spoiled': 2681, 'spare': 2682, 'suits': 2683, 'walking': 2684, 'accept': 2685, 'condition': 2686, 'enlarge': 2687, 'reduced': 2688, 'briefings': 2689, 'synced': 2690, 'dpi': 2691, 'refresh': 2692, 'vision': 2693, 'patio': 2694, 'listed': 2695, 'route': 2696, 'glitch': 2697, 'touching': 2698, 'organize': 2699, 'responding': 2700, 'managing': 2701, 'post': 2702, 'slingtv': 2703, 'xbox': 2704, 'needless': 2705, 'status': 2706, 'protects': 2707, 'pairing': 2708, 'safety': 2709, 'fool': 2710, 'sing': 2711, 'jack': 2712, 'worn': 2713, \"fire's\": 2714, 'eyesight': 2715, 'reception': 2716, 'miles': 2717, 'wonders': 2718, 'adjusted': 2719, 'handling': 2720, 'prefers': 2721, '17': 2722, 'printed': 2723, 'attention': 2724, 'standing': 2725, 'challenge': 2726, 'bezel': 2727, 'raffle': 2728, 'details': 2729, \"they've\": 2730, 'ambient': 2731, 'limiting': 2732, 'direction': 2733, 'universal': 2734, 'darker': 2735, 'fifty': 2736, 'comfort': 2737, 'randomly': 2738, 'customizable': 2739, 'pause': 2740, 'reach': 2741, 'catching': 2742, 'desire': 2743, 'scratch': 2744, 'wikipedia': 2745, 'record': 2746, 'address': 2747, 'whats': 2748, 'signed': 2749, '4yr': 2750, 'improves': 2751, 'relax': 2752, 'thinner': 2753, 'writing': 2754, 'reminder': 2755, 'recharging': 2756, \"'\": 2757, 'laws': 2758, 'alright': 2759, 'grip': 2760, 'colored': 2761, 'cruise': 2762, 'couldnt': 2763, 'requesting': 2764, 'families': 2765, 'satisfactory': 2766, 'yard': 2767, 'mistake': 2768, 'minecraft': 2769, 'usable': 2770, 'policy': 2771, 'dock': 2772, 'deep': 2773, 'debating': 2774, 'advice': 2775, 'fir': 2776, 'co': 2777, 'pads': 2778, 'breaker': 2779, 'distracting': 2780, 'unnecessary': 2781, '65': 2782, 'cleaning': 2783, 'hi': 2784, 'hits': 2785, 'worrying': 2786, 'scratched': 2787, 'gym': 2788, 'magic': 2789, 'episodes': 2790, 'awkward': 2791, 'requirements': 2792, 'resistant': 2793, 'disposable': 2794, 'park': 2795, 'hardwired': 2796, 'hence': 2797, 'eliminate': 2798, 'stairs': 2799, 'dvr': 2800, 'grows': 2801, 'optional': 2802, 'annoyed': 2803, 'team': 2804, 'citizen': 2805, 'english': 2806, 'c': 2807, 'approved': 2808, 'exception': 2809, '84': 2810, 'sensitivity': 2811, 'economical': 2812, 'networks': 2813, 'comments': 2814, 'folks': 2815, 'necessarily': 2816, 'explain': 2817, 'partner': 2818, 'retina': 2819, 'neice': 2820, 'hated': 2821, 'min': 2822, 'construction': 2823, 'upset': 2824, \"shouldn't\": 2825, 'visible': 2826, 'd': 2827, 'fighting': 2828, 'streamers': 2829, 'players': 2830, 'birthdays': 2831, 'lcd': 2832, 'automate': 2833, 'elite': 2834, 'east': 2835, 'essential': 2836, 'interacting': 2837, 'town': 2838, 'rock': 2839, 'suitable': 2840, 'smile': 2841, 'against': 2842, 'term': 2843, 'progress': 2844, 'forecasts': 2845, 'balance': 2846, 'slight': 2847, 'gps': 2848, 'reported': 2849, 'begun': 2850, 'firmware': 2851, 'completed': 2852, 'ties': 2853, 'located': 2854, 'alike': 2855, 'p': 2856, 'bulk': 2857, 'spouse': 2858, 'entirely': 2859, 'chair': 2860, 'res': 2861, 'twin': 2862, 'ring': 2863, 'awsome': 2864, 'edit': 2865, 'insert': 2866, 'distractions': 2867, 'changer': 2868, 'extreme': 2869, 'textbooks': 2870, 'promised': 2871, 'linking': 2872, 'ridiculous': 2873, 'pieces': 2874, 'unhappy': 2875, 'resources': 2876, 'environments': 2877, 'exceeds': 2878, 'canceled': 2879, 'surround': 2880, 'ecobee': 2881, 'determine': 2882, 'storing': 2883, 'sadly': 2884, 'commercial': 2885, 'disturb': 2886, \"mom's\": 2887, 'luv': 2888, 'glow': 2889, 'clans': 2890, 'habit': 2891, 'spelling': 2892, 'round': 2893, 'server': 2894, 'introduced': 2895, 'clicking': 2896, \"husband's\": 2897, 'minus': 2898, 'tries': 2899, '19': 2900, 'fyi': 2901, 'stored': 2902, 'stylus': 2903, 'combination': 2904, 'appearance': 2905, 'state': 2906, 'techy': 2907, 'title': 2908, 'downloadable': 2909, 'practice': 2910, 'enhance': 2911, 'notch': 2912, 'trade': 2913, 'tutorial': 2914, 'maximize': 2915, 'havent': 2916, 'providers': 2917, 'subscriber': 2918, 'manga': 2919, 'dance': 2920, 'assist': 2921, 'retired': 2922, 'angle': 2923, 'forgotten': 2924, 'delay': 2925, 'carried': 2926, 'ship': 2927, 'limitation': 2928, 'clumsy': 2929, 'digiland': 2930, '32gb': 2931, 'apartment': 2932, 'yesterday': 2933, 'savings': 2934, 'anti': 2935, 'slip': 2936, 'lagging': 2937, 'pops': 2938, 'substantial': 2939, 'moves': 2940, 'definitions': 2941, \"we'd\": 2942, '69': 2943, 'uber': 2944, 'wouldnt': 2945, 'jealous': 2946, 'toss': 2947, 'macbook': 2948, 'kit': 2949, 'twitter': 2950, 'woman': 2951, 'handed': 2952, 'coverage': 2953, 'considerably': 2954, 'handheld': 2955, 'visuals': 2956, 'invest': 2957, 'occasion': 2958, 'mirror': 2959, 'suspect': 2960, 'acts': 2961, 'awake': 2962, 'dislike': 2963, 'paperweight': 2964, 'slingbox': 2965, 'integrating': 2966, 'hotels': 2967, 'hookup': 2968, 'manufacturer': 2969, 'prompt': 2970, 'rca': 2971, 'lovers': 2972, 'guys': 2973, 'proven': 2974, 'refurbished': 2975, 'fifth': 2976, 'impaired': 2977, 'components': 2978, \"google's\": 2979, 'comfortably': 2980, 'queries': 2981, 'harsh': 2982, 'tree': 2983, 'lazy': 2984, 'blu': 2985, 'hack': 2986, 'reliability': 2987, 'buffers': 2988, 'flush': 2989, '45': 2990, 'utilized': 2991, 'hardwire': 2992, 'enables': 2993, 'carries': 2994, 'locate': 2995, 'cash': 2996, 'bothered': 2997, '16g': 2998, 'foreign': 2999, 'hide': 3000, 'taste': 3001, 'heavily': 3002, 'ps3': 3003, 'bet': 3004, 'snappier': 3005, 'microphones': 3006, 'sizes': 3007, 'parties': 3008, 'corner': 3009, 'dimming': 3010, 'autistic': 3011, 'adore': 3012, 'die': 3013, 'dirty': 3014, 'competition': 3015, 'cylinder': 3016, 'tricky': 3017, 'worlds': 3018, 'reviewing': 3019, 'backpack': 3020, 'advertise': 3021, 'attach': 3022, 'advance': 3023, 'spoke': 3024, 'agree': 3025, 'scratches': 3026, 'graduation': 3027, 'contents': 3028, 'doors': 3029, 'sometime': 3030, 'written': 3031, 'pen': 3032, 'mad': 3033, 'ideas': 3034, 'explained': 3035, 'patience': 3036, 'whose': 3037, 'letting': 3038, 'arm': 3039, 'yell': 3040, 'majority': 3041, 'tip': 3042, 'folder': 3043, 'crisper': 3044, 'recognizes': 3045, 'cheapest': 3046, 'ride': 3047, '7yr': 3048, 'threw': 3049, 'document': 3050, 'beware': 3051, 'ebay': 3052, 'seniors': 3053, 'enter': 3054, 'acting': 3055, 'poorly': 3056, 'resist': 3057, 'falling': 3058, \"buy's\": 3059, 'basement': 3060, 'hopes': 3061, 'generic': 3062, 'haha': 3063, 'centric': 3064, 'development': 3065, 'ground': 3066, 'luckily': 3067, 'suggestions': 3068, 'tax': 3069, 'searched': 3070, 'fill': 3071, '2014': 3072, 'echoes': 3073, 'uncle': 3074, 'pin': 3075, 'wanna': 3076, '88': 3077, 'settled': 3078, 'square': 3079, 'stylish': 3080, 'streamed': 3081, '500': 3082, 'bday': 3083, 'pw': 3084, 'summary': 3085, 'mp3': 3086, 'warm': 3087, 'reccomend': 3088, 'productivity': 3089, 'fianc': 3090, 'developed': 3091, '86': 3092, 'hrs': 3093, 'rent': 3094, 'technologically': 3095, 'kindlefire': 3096, 'hotspot': 3097, 'named': 3098, 'btw': 3099, 'driving': 3100, 'frame': 3101, 'uverse': 3102, 'pushes': 3103, 'hair': 3104, 'f': 3105, 'connector': 3106, 'lead': 3107, 'annoyance': 3108, 'hesitation': 3109, 'lugging': 3110, 'degree': 3111, 'indoor': 3112, 'recommending': 3113, 'thick': 3114, \"friend's\": 3115, 'cutters': 3116, 'phrases': 3117, 'curious': 3118, 'coat': 3119, 'secondary': 3120, 'struggle': 3121, 'readily': 3122, 'origami': 3123, \"today's\": 3124, 'immensely': 3125, 'relatives': 3126, 'andriod': 3127, 'headphone': 3128, 'newspaper': 3129, 'chip': 3130, 'peace': 3131, 'frustration': 3132, 'reduce': 3133, 'jail': 3134, 'counter': 3135, 'glitchy': 3136, 'explored': 3137, 'mickey': 3138, 'yours': 3139, 'cables': 3140, 'customized': 3141, 'tuck': 3142, 'treat': 3143, 'throwing': 3144, 'shes': 3145, 'valuable': 3146, 'interfaces': 3147, 'causing': 3148, 'prefect': 3149, 'disconnect': 3150, 'rain': 3151, 'washington': 3152, 'followed': 3153, 'section': 3154, 'prevent': 3155, 'realistic': 3156, 'tivo': 3157, 'challenging': 3158, 'unwanted': 3159, 'microsoft': 3160, 'cake': 3161, 'volumes': 3162, 'competitive': 3163, 'anyways': 3164, 'ereaders': 3165, 'following': 3166, 'increasing': 3167, 'cpu': 3168, 'mo': 3169, 'homes': 3170, 'nervous': 3171, 'novice': 3172, 'lineup': 3173, 'gigs': 3174, 'classroom': 3175, 'assistants': 3176, 'detailed': 3177, 'lan': 3178, 'traded': 3179, 'extend': 3180, 'loses': 3181, 'banking': 3182, 'platforms': 3183, 'closest': 3184, 'custom': 3185, 'planned': 3186, 'discounted': 3187, 'novel': 3188, 'dies': 3189, 'excelent': 3190, 'quirks': 3191, 'unplugged': 3192, 'perks': 3193, 'uploading': 3194, 'bus': 3195, 'taps': 3196, 'passed': 3197, 'effect': 3198, 'expectation': 3199, 'sends': 3200, 'flaws': 3201, 'darkness': 3202, 'ignore': 3203, 'intelligence': 3204, 'wearing': 3205, 'bf': 3206, 'suited': 3207, 'brief': 3208, 'iheartradio': 3209, 'risk': 3210, 'sharper': 3211, 'toward': 3212, 'deliver': 3213, 'definite': 3214, 'paperwhites': 3215, 'utility': 3216, 'mediocre': 3217, 'accessory': 3218, 'fios': 3219, 'tote': 3220, 'satisfying': 3221, 'straightforward': 3222, 'sophisticated': 3223, 'somehow': 3224, 'field': 3225, 'names': 3226, 'beneficial': 3227, 'accessibility': 3228, 'distraction': 3229, 'resume': 3230, 'footprint': 3231, 'million': 3232, 'multitude': 3233, 'inclined': 3234, 'pricy': 3235, 'workers': 3236, 'countless': 3237, 'adaptive': 3238, 'genius': 3239, 'immediate': 3240, 'fold': 3241, 'dust': 3242, 'matters': 3243, 'popping': 3244, 'weekends': 3245, 'standby': 3246, 'compatibility': 3247, 'maximum': 3248, 'ports': 3249, '5w': 3250, 'mornings': 3251, 'boom': 3252, 'bothersome': 3253, '6th': 3254, 'rewards': 3255, 'slide': 3256, 'exclusively': 3257, 'classic': 3258, 'stocking': 3259, '59': 3260, 'punch': 3261, 'indeed': 3262, 'act': 3263, 'claimed': 3264, 'amd': 3265, 'spell': 3266, 'hooking': 3267, 'solve': 3268, 'pulling': 3269, 'overly': 3270, 'result': 3271, 'paperbacks': 3272, 'porch': 3273, 'blank': 3274, 'coupon': 3275, 'focused': 3276, 'count': 3277, 'regretted': 3278, 'hospital': 3279, '600': 3280, 'lying': 3281, 'yeah': 3282, 'shutting': 3283, 'cousins': 3284, 'combined': 3285, 'bloatware': 3286, 'teacher': 3287, 'nearby': 3288, 'tune': 3289, 'bookmark': 3290, 'buddy': 3291, 'solitaire': 3292, 'sole': 3293, 'goals': 3294, 'confused': 3295, 'usability': 3296, 'curfew': 3297, 'technological': 3298, 'fly': 3299, 'edges': 3300, 'mono': 3301, 'continued': 3302, 'whereas': 3303, 'amounts': 3304, 'accident': 3305, 'irritating': 3306, 'hardback': 3307, 'remains': 3308, 'unobtrusive': 3309, 'instruction': 3310, 'brothers': 3311, 'client': 3312, 'fixes': 3313, 'cuz': 3314, 'resolved': 3315, 'south': 3316, 'intrusive': 3317, 'ez': 3318, 'description': 3319, 'landscape': 3320, 'closer': 3321, 'isnt': 3322, 'requiring': 3323, 'vivid': 3324, 'exciting': 3325, 'slides': 3326, 'surprising': 3327, 'lg': 3328, '400': 3329, 'gem': 3330, 'facetime': 3331, 'bout': 3332, 'accustomed': 3333, 'intrigued': 3334, 'obvious': 3335, 'gateway': 3336, 'featured': 3337, \"hadn't\": 3338, 'tp': 3339, 'pinterest': 3340, 'barnes': 3341, 'survived': 3342, 'visual': 3343, 'aka': 3344, 'limitless': 3345, 'virus': 3346, 'operated': 3347, 'cluttered': 3348, 'swiping': 3349, 'nd': 3350, 'grandaughter': 3351, 'sim': 3352, '9yr': 3353, 'plethora': 3354, 'selected': 3355, 'blends': 3356, \"kids'\": 3357, 'unresponsive': 3358, 'dying': 3359, 'listened': 3360, 'competitors': 3361, 'category': 3362, 'sample': 3363, 'invention': 3364, 'component': 3365, 'headlines': 3366, 'filling': 3367, 'thirty': 3368, 'delight': 3369, 'highlighting': 3370, 'fragile': 3371, '85': 3372, 'flight': 3373, 'weighs': 3374, 'mb': 3375, 'clerk': 3376, 'measurements': 3377, 'canceling': 3378, 'hdr': 3379, 'dealing': 3380, 'extensively': 3381, 'pushed': 3382, 'removing': 3383, 'solidly': 3384, 'insignia': 3385, 'vehicle': 3386, 'specifications': 3387, 'rhymes': 3388, 'ap': 3389, 'guides': 3390, 'languages': 3391, 'checks': 3392, 'ergonomic': 3393, 'beating': 3394, 'groups': 3395, 'visually': 3396, 'magazine': 3397, 'fewer': 3398, 'negatives': 3399, 'unsure': 3400, 'narrow': 3401, 'mac': 3402, 'consideration': 3403, 'binge': 3404, 'aux': 3405, 'pure': 3406, 'cnn': 3407, 'fox': 3408, 'clip': 3409, \"money's\": 3410, \"it'd\": 3411, 'leisure': 3412, 'heading': 3413, 'eyestrain': 3414, 'icon': 3415, 'sight': 3416, 'navigates': 3417, 'states': 3418, 'stops': 3419, 'crowd': 3420, 'th': 3421, 'privacy': 3422, 'concerns': 3423, 'intention': 3424, 'served': 3425, 'city': 3426, '4gb': 3427, \"one's\": 3428, 'ditch': 3429, 'worthless': 3430, 'misplaced': 3431, 'theres': 3432, 'brightest': 3433, 'compete': 3434, 'sport': 3435, 'att': 3436, 'possibility': 3437, 'scared': 3438, 'godson': 3439, 'choosing': 3440, 'transaction': 3441, 'messenger': 3442, 'login': 3443, 'helper': 3444, 'lamps': 3445, 'jumped': 3446, 'dressed': 3447, 'recommendations': 3448, 'supplied': 3449, 'compromise': 3450, 'occasions': 3451, 'matte': 3452, 'approve': 3453, 'satisfy': 3454, 'reluctant': 3455, 'ill': 3456, 'experiment': 3457, 'guard': 3458, 'shorter': 3459, 'fails': 3460, 'asus': 3461, \"grandson's\": 3462, 'understood': 3463, 'laptops': 3464, 'proprietary': 3465, '2012': 3466, 'phrase': 3467, 'cords': 3468, 'inconvenience': 3469, 'surgery': 3470, 'pays': 3471, 'backlights': 3472, 'hole': 3473, 'unexpected': 3474, 'corny': 3475, 'assume': 3476, 'hates': 3477, 'florida': 3478, 'filter': 3479, 'according': 3480, 'throws': 3481, 'integral': 3482, 'taught': 3483, 'fiance': 3484, 'foam': 3485, 'pleasing': 3486, 'instance': 3487, 'thoughts': 3488, 'eliminates': 3489, \"apple's\": 3490, 'borrowed': 3491, 'plunge': 3492, 'stepped': 3493, 'headaches': 3494, 'interests': 3495, 'bath': 3496, 'join': 3497, 'street': 3498, 'enhanced': 3499, 'virtual': 3500, 'walked': 3501, 'occupy': 3502, 'fiancé': 3503, 'requirement': 3504, 'magical': 3505, 'readings': 3506, 'babies': 3507, 'nfl': 3508, 'dimmer': 3509, 'accidental': 3510, 'fitbit': 3511, 'vizio': 3512, 'fluid': 3513, 'bothering': 3514, 'stronger': 3515, 'viewed': 3516, 'discounts': 3517, 'placing': 3518, 'recognized': 3519, 'monitoring': 3520, 'aged': 3521, 'complaining': 3522, 'dozens': 3523, 'tone': 3524, 'depends': 3525, 'visits': 3526, \"family's\": 3527, 'kindel': 3528, 'final': 3529, 'rental': 3530, 'remind': 3531, 'electrical': 3532, 'regarding': 3533, 'amp': 3534, 'continuously': 3535, 'receipt': 3536, '179': 3537, 'hp': 3538, 'bandwidth': 3539, 'champ': 3540, 'lightest': 3541, 'solves': 3542, 'handled': 3543, 'crush': 3544, 'death': 3545, 'finicky': 3546, 'mid': 3547, 'grew': 3548, 'texas': 3549, 'directtv': 3550, 'sleeve': 3551, '360': 3552, 'accomplished': 3553, 'investments': 3554, 'quotes': 3555, 'epub': 3556, 'emailed': 3557, 'batter': 3558, 'innovative': 3559, 'complained': 3560, 'confident': 3561, 'creates': 3562, 'routine': 3563, '2gb': 3564, 'effortless': 3565, 'extension': 3566, 'sells': 3567, 'boots': 3568, 'zone': 3569, 'fav': 3570, 'optical': 3571, 'eat': 3572, 'glowlight': 3573, 'reservations': 3574, 'sick': 3575, 'killer': 3576, 'official': 3577, 'configure': 3578, 'regard': 3579, 'ie': 3580, 'capture': 3581, 'equally': 3582, 'crash': 3583, 'buggy': 3584, 'dosent': 3585, 'drains': 3586, 'polished': 3587, 'backward': 3588, '1yr': 3589, 'somebody': 3590, 'blind': 3591, 'carousel': 3592, 'iris': 3593, 'ugly': 3594, 'force': 3595, 'nite': 3596, 'sunday': 3597, 'matching': 3598, 'dependent': 3599, 'stayed': 3600, 'happening': 3601, 'bonuses': 3602, 'airport': 3603, 'iftt': 3604, 'goodies': 3605, '5ghz': 3606, 'perspective': 3607, 'frankly': 3608, '1000': 3609, 'attempts': 3610, 'nursing': 3611, 'rom': 3612, 'rooted': 3613, 'webroot': 3614, \"lot's\": 3615, 'appliance': 3616, 'kobo': 3617, 'complex': 3618, '139': 3619, 'caveat': 3620, 'club': 3621, 'illumination': 3622, 'window': 3623, 'international': 3624, 'simplifies': 3625, 'body': 3626, 'telephone': 3627, 'claims': 3628, 'drawbacks': 3629, 'evolving': 3630, 'pockets': 3631, 'nighttime': 3632, 'motion': 3633, 'ti': 3634, 'refused': 3635, 'twc': 3636, 'outrageous': 3637, 'timely': 3638, 'manner': 3639, 'streamlined': 3640, 'decently': 3641, 'plugging': 3642, 'expands': 3643, 'cross': 3644, 'ratio': 3645, 'attempt': 3646, 'remarkable': 3647, 'quirky': 3648, 'balanced': 3649, 'mark': 3650, 'salesperson': 3651, 'episode': 3652, 'intense': 3653, 'vary': 3654, 'textured': 3655, 'cellphone': 3656, 'dd': 3657, 'remembers': 3658, 'riding': 3659, 'uploaded': 3660, 'integrations': 3661, 'cave': 3662, 'insteon': 3663, 'crashed': 3664, 'efficiently': 3665, 'inspired': 3666, 'introduction': 3667, 'neighbor': 3668, 'empty': 3669, 'solely': 3670, 'arms': 3671, 'finished': 3672, 'january': 3673, 'struggling': 3674, 'converting': 3675, 'tad': 3676, 'score': 3677, 'struggled': 3678, 'goodbye': 3679, 'studying': 3680, 'hitting': 3681, 'dining': 3682, 'science': 3683, 'packaged': 3684, 'stages': 3685, 'goodreads': 3686, 'wider': 3687, 'offerings': 3688, 'cellular': 3689, 'shines': 3690, 'spectrum': 3691, 'regards': 3692, 'goodness': 3693, 'blocks': 3694, 'nights': 3695, 'i’m': 3696, 'tunein': 3697, 'spanish': 3698, 'oem': 3699, 'steroids': 3700, 'moments': 3701, 'encountered': 3702, 'wealth': 3703, 'stood': 3704, 'artists': 3705, 'upper': 3706, 'promotion': 3707, 'overhead': 3708, 'killing': 3709, 'dolby': 3710, 'tuning': 3711, 'surpassed': 3712, 'interactions': 3713, 'indestructible': 3714, 'advantages': 3715, 'treadmill': 3716, 'www': 3717, 'preferences': 3718, 'announced': 3719, 'descent': 3720, 'booting': 3721, 'constructed': 3722, \"love's\": 3723, 'metal': 3724, 'simultaneously': 3725, 'verbal': 3726, '29': 3727, 'personalized': 3728, 'ect': 3729, 'nightstand': 3730, 'sooo': 3731, 'fathers': 3732, '8g': 3733, 'libraries': 3734, 'genres': 3735, 'clever': 3736, 'starters': 3737, 'h': 3738, 'surfs': 3739, 'shocked': 3740, 'fought': 3741, 'produces': 3742, 'scheduled': 3743, 'borrowing': 3744, 'someday': 3745, 'uneven': 3746, 'conventional': 3747, '300ppi': 3748, '78': 3749, 'football': 3750, 'nbc': 3751, 'increases': 3752, 'broadcast': 3753, 'combo': 3754, 'ultimately': 3755, 'console': 3756, 'stating': 3757, 'adjustments': 3758, 'frills': 3759, 'reference': 3760, 'green': 3761, 'entertains': 3762, 'trek': 3763, 'shoulder': 3764, 'tie': 3765, 'subject': 3766, 'packages': 3767, 'fortune': 3768, 'closing': 3769, 'pbs': 3770, 'deleted': 3771, 'compares': 3772, 'tutorials': 3773, \"app's\": 3774, 'messing': 3775, 'samples': 3776, 'lesser': 3777, 'sesame': 3778, '3d': 3779, 'forgot': 3780, 'rapid': 3781, 'seat': 3782, 'outer': 3783, 'backs': 3784, 'responsibility': 3785, 'destroyed': 3786, 'robot': 3787, 'aid': 3788, 'private': 3789, 'wave': 3790, 'indispensable': 3791, 'grandfather': 3792, 'owns': 3793, 'modified': 3794, 'casting': 3795, 'album': 3796, 'expired': 3797, 'flipping': 3798, 'manufacturing': 3799, 'craft': 3800, \"tablet's\": 3801, 'polite': 3802, 'hubs': 3803, '2013': 3804, 'compliment': 3805, 'conjunction': 3806, 'comic': 3807, 'tonight': 3808, 'frozen': 3809, 'gui': 3810, 'addicted': 3811, 'lending': 3812, 'medium': 3813, 'cbs': 3814, 'fortunately': 3815, 'lutron': 3816, 'definately': 3817, 'array': 3818, 'mirroring': 3819, 'jazz': 3820, 'professional': 3821, 'dozen': 3822, 'april': 3823, 'ridiculously': 3824, 'alternatives': 3825, 'housework': 3826, 'walmart': 3827, 'differently': 3828, 'tracking': 3829, 'stands': 3830, \"should've\": 3831, 'conversions': 3832, 'outperforms': 3833, 'heaven': 3834, 'kendal': 3835, '720p': 3836, 'slimmer': 3837, '7th': 3838, 'consumer': 3839, 'grandpa': 3840, \"sister's\": 3841, 'unavailable': 3842, 'candy': 3843, 'bare': 3844, 'plans': 3845, 'restrict': 3846, 'schedules': 3847, 'satisfaction': 3848, 'beforehand': 3849, 's7': 3850, 'tank': 3851, 'foe': 3852, 'booklet': 3853, 'obtain': 3854, 'spotty': 3855, 'nonstop': 3856, 'socket': 3857, 'criticism': 3858, 'smell': 3859, 'personality': 3860, 'baught': 3861, 'stopping': 3862, 'spoken': 3863, '87': 3864, 'cold': 3865, 'august': 3866, 'speaks': 3867, 'eating': 3868, 'success': 3869, 'traveled': 3870, 'manager': 3871, 'youth': 3872, 'faulty': 3873, 'yellow': 3874, 'blurry': 3875, 'pricier': 3876, 'sturdier': 3877, 'pressing': 3878, '6year': 3879, 'economic': 3880, 'registering': 3881, 'ii': 3882, 'powering': 3883, 'misses': 3884, 'grate': 3885, 'suit': 3886, 'shiny': 3887, 'naturally': 3888, 'contacts': 3889, 'til': 3890, '79': 3891, 'laugh': 3892, 'withstand': 3893, '8yr': 3894, 'pluses': 3895, 'encyclopedia': 3896, 'folds': 3897, 'prongs': 3898, 'shining': 3899, 'lucky': 3900, '3x': 3901, 'shock': 3902, 'accuracy': 3903, 'excel': 3904, 'inferior': 3905, 'retrieve': 3906, '4g': 3907, 'tremendously': 3908, 'cabin': 3909, 'chosen': 3910, 'wasnt': 3911, 'sings': 3912, 'thier': 3913, 'recording': 3914, 'amazone': 3915, 'schooler': 3916, 'hardest': 3917, 'prob': 3918, 'proud': 3919, 'mix': 3920, 'closely': 3921, 'exit': 3922, 'nope': 3923, 'apk': 3924, '120': 3925, '000': 3926, 'nicest': 3927, 'nifty': 3928, 'redundant': 3929, 'interruptions': 3930, 'wasting': 3931, 'elementary': 3932, 'meeting': 3933, 'resolve': 3934, 'films': 3935, 'acess': 3936, 'wording': 3937, 'cars': 3938, 'papers': 3939, 'fireos': 3940, 'flagship': 3941, 'central': 3942, 'counting': 3943, 'glued': 3944, 'airline': 3945, 'seeking': 3946, 'rotating': 3947, 'brain': 3948, 'wears': 3949, 'todo': 3950, 'follows': 3951, 'marks': 3952, 'programmable': 3953, 'keys': 3954, 'suitcase': 3955, 'lonely': 3956, 'stunning': 3957, 'aloud': 3958, 'doubles': 3959, 'ample': 3960, 'whom': 3961, 'combines': 3962, 'century': 3963, 'wiring': 3964, '2011': 3965, 'artificial': 3966, 'surely': 3967, 'counts': 3968, \"could've\": 3969, 'cache': 3970, 'accessed': 3971, 'keeper': 3972, 'transitions': 3973, 'painful': 3974, 'bough': 3975, 'de': 3976, 'beauty': 3977, 'antivirus': 3978, 'gifting': 3979, 'uncomfortable': 3980, 'patterns': 3981, 'dishes': 3982, 'developers': 3983, 'fans': 3984, 'teams': 3985, 'groceries': 3986, 'supposedly': 3987, 'costly': 3988, 'timing': 3989, 'condo': 3990, 'develop': 3991, 'se': 3992, 'pressed': 3993, 'bent': 3994, 'jumps': 3995, 'suffice': 3996, '83': 3997, 'bummer': 3998, 'ir': 3999, 'zoom': 4000, '8in': 4001, 'allot': 4002, 'casing': 4003, 'tweaking': 4004, 'workarounds': 4005, 'unknown': 4006, 'sunglasses': 4007, 'europe': 4008, 'clue': 4009, 'blocked': 4010, 'disabled': 4011, 'complement': 4012, 'don’t': 4013, 'camping': 4014, 'temporary': 4015, 'fingerprints': 4016, 'pic': 4017, 'intro': 4018, 'outdated': 4019, 'disappear': 4020, 'televisions': 4021, 'wind': 4022, 'enabling': 4023, 'reached': 4024, 'responded': 4025, 'colorful': 4026, 'dreamed': 4027, 'grader': 4028, 'spring': 4029, 'troubles': 4030, 'soo': 4031, 'sprinkler': 4032, 'washer': 4033, 'reducing': 4034, '5yr': 4035, 'mastered': 4036, 'secret': 4037, 'conversations': 4038, 'perk': 4039, 'associated': 4040, 'appealing': 4041, 'church': 4042, 'standards': 4043, 'defect': 4044, 'warner': 4045, 'angel': 4046, 'devises': 4047, 'similarly': 4048, 'wirelessly': 4049, 'viewer': 4050, 'wins': 4051, 'anniversary': 4052, 'percent': 4053, 'mod': 4054, 'anyday': 4055, 'dime': 4056, 'cup': 4057, 'appointment': 4058, 'drag': 4059, 'worker': 4060, 'fat': 4061, 'matched': 4062, 'equal': 4063, 'alternate': 4064, 'cart': 4065, 'graduate': 4066, 'slips': 4067, 'restarting': 4068, 'misleading': 4069, 'wet': 4070, 'hanging': 4071, 'altogether': 4072, 'purses': 4073, 'classics': 4074, 'tear': 4075, 'maps': 4076, 'advancement': 4077, 'copies': 4078, 'ditched': 4079, 'mas': 4080, 'thumb': 4081, 'seemingly': 4082, 'configured': 4083, 'fed': 4084, 'logo': 4085, 'selecting': 4086, 'recommends': 4087, 'consume': 4088, 'recognizing': 4089, 'yelling': 4090, 'convient': 4091, 'foot': 4092, 'exposed': 4093, 'assignments': 4094, 'angles': 4095, 'newspapers': 4096, 'functioned': 4097, 'eliminated': 4098, 'hd7': 4099, 'coupled': 4100, 'millions': 4101, 'experimenting': 4102, 'rolled': 4103, 'lunch': 4104, 'loudly': 4105, 'fashioned': 4106, 'animation': 4107, 'elegant': 4108, '2yr': 4109, 'lifting': 4110, 'floors': 4111, 'refuse': 4112, 'ue': 4113, 'problematic': 4114, 'logging': 4115, 'engaged': 4116, 'lightly': 4117, 'undecided': 4118, 'bread': 4119, 'proved': 4120, 'remain': 4121, 'consistent': 4122, '250': 4123, 'confined': 4124, 'spaces': 4125, 'gain': 4126, 'projector': 4127, 'reconnect': 4128, 'shower': 4129, 'turner': 4130, 'retirement': 4131, 'shortly': 4132, 'sceptical': 4133, 'arrives': 4134, 'caused': 4135, 'hello': 4136, 'racing': 4137, 'remaining': 4138, 'competitor': 4139, 'dose': 4140, 'beaten': 4141, 'homepage': 4142, 'leading': 4143, '21': 4144, 'reviewers': 4145, 'degrees': 4146, 'sleeker': 4147, 'reply': 4148, 'admittedly': 4149, 'hdtv': 4150, 'asap': 4151, 'individuals': 4152, 'texts': 4153, 'rival': 4154, 'dump': 4155, 'jetsons': 4156, 'speedier': 4157, 'planes': 4158, 'atv': 4159, 'torn': 4160, 'heating': 4161, 'shell': 4162, 'iam': 4163, 'ultraviolet': 4164, 'toshiba': 4165, 'prepared': 4166, 'skipping': 4167, 'steep': 4168, 'supervision': 4169, 'texting': 4170, 'pixelated': 4171, 'questionable': 4172, 'pausing': 4173, 'bookworm': 4174, 'feed': 4175, 'emergency': 4176, 'stone': 4177, 'november': 4178, 'assured': 4179, 'goggle': 4180, 'cd': 4181, 'thrown': 4182, 'killed': 4183, 'lay': 4184, 'bt': 4185, 'qualities': 4186, 'blazing': 4187, 'impress': 4188, 'dyslexic': 4189, 'rokus': 4190, 'rivals': 4191, 'kick': 4192, 'roll': 4193, 'fuss': 4194, 'communication': 4195, 'kicking': 4196, 'prompted': 4197, 'verizon': 4198, 'gf': 4199, 'introductory': 4200, 'driven': 4201, 'obsolete': 4202, 'reflection': 4203, 'erase': 4204, 'siriusxm': 4205, 'workout': 4206, 'operations': 4207, 'dr': 4208, 'sky': 4209, '48': 4210, 'glaring': 4211, 'unaware': 4212, 'hassles': 4213, 'checkout': 4214, 'techies': 4215, 'remotely': 4216, 'necessity': 4217, 'dirt': 4218, 'marketing': 4219, 'disability': 4220, 'enhancements': 4221, '199': 4222, 'alphabet': 4223, 'mobility': 4224, 'animal': 4225, 'popped': 4226, 'tops': 4227, 'emailing': 4228, 'walls': 4229, 'ish': 4230, 'draining': 4231, 'lightbulbs': 4232, 'doctor': 4233, 'heater': 4234, 'recognise': 4235, 'identify': 4236, 'backyard': 4237, 'adapt': 4238, 'pace': 4239, 'audiobook': 4240, 'boost': 4241, 'whilst': 4242, 'downsides': 4243, 'unfamiliar': 4244, 'theaters': 4245, 'casually': 4246, 'sounded': 4247, 'industry': 4248, '91': 4249, 'googleplay': 4250, 'modest': 4251, 'vlc': 4252, 'pauses': 4253, 'damaging': 4254, 'blow': 4255, 'joined': 4256, 'ah': 4257, 'journey': 4258, 'prevents': 4259, 'scary': 4260, 'opener': 4261, 'clips': 4262, 'relevant': 4263, \"'skills'\": 4264, 'arrive': 4265, 'sudden': 4266, 'shapes': 4267, 'stutter': 4268, 'settling': 4269, 'bits': 4270, 'delicate': 4271, 'wound': 4272, 'tint': 4273, '6s': 4274, 'preparing': 4275, 'wishes': 4276, 'guidance': 4277, 'gimmick': 4278, 'restore': 4279, 'arguing': 4280, 'hurting': 4281, 'verses': 4282, 'experiences': 4283, 'dads': 4284, 'fanboy': 4285, 'angry': 4286, 'dull': 4287, 'introducing': 4288, 'reminded': 4289, 'headache': 4290, 'rapidly': 4291, 'map': 4292, '60s': 4293, 'boo': 4294, 'noble': 4295, 'cancelling': 4296, 'peasy': 4297, 'uploads': 4298, 'quarter': 4299, 'categories': 4300, 'cartoon': 4301, 'meetings': 4302, 'stretch': 4303, 'howard': 4304, 'airplanes': 4305, 'wrapped': 4306, 'solutions': 4307, 'trash': 4308, 'powerpoint': 4309, \"pdf's\": 4310, '10x': 4311, 'unusable': 4312, 'holy': 4313, 'poolside': 4314, 'doctors': 4315, 'wood': 4316, 'shared': 4317, 'faces': 4318, 'automating': 4319, 'hmmm': 4320, 'suggestion': 4321, 'drove': 4322, 'amzon': 4323, 'explaining': 4324, 'secondly': 4325, 'awaiting': 4326, 'logged': 4327, 'countries': 4328, 'signing': 4329, 'configuration': 4330, '4yo': 4331, 'nine': 4332, 'uniform': 4333, 'overnight': 4334, 'inserted': 4335, 'blink': 4336, 'honor': 4337, 'referred': 4338, 'mins': 4339, 'addictive': 4340, 'productive': 4341, 'arthritis': 4342, '☺': 4343, 'listings': 4344, 'adware': 4345, 'dry': 4346, 'precise': 4347, 'adaptor': 4348, 'fps': 4349, 'scheduling': 4350, \"video's\": 4351, '8year': 4352, 'dreams': 4353, 'welcomed': 4354, 'manuals': 4355, 'wifes': 4356, 'headline': 4357, 'ratings': 4358, 'garbage': 4359, 'nowhere': 4360, 'conclusion': 4361, 'exclusive': 4362, 'discovery': 4363, 'icloud': 4364, 'astounding': 4365, 'engines': 4366, 'emulators': 4367, 'circle': 4368, 'shopper': 4369, 'noisy': 4370, 'heats': 4371, 'spells': 4372, 'ecobee3': 4373, 'ins': 4374, 'outs': 4375, 'powerhouse': 4376, 'wallet': 4377, 'rc': 4378, 'snug': 4379, 'mileage': 4380, 'minimize': 4381, 'eink': 4382, 'browses': 4383, \"he'd\": 4384, 'cam': 4385, 'calculations': 4386, 'renew': 4387, 'soooo': 4388, 'shall': 4389, 'brick': 4390, 'npr': 4391, 'extent': 4392, 'mlb': 4393, 'lackluster': 4394, 'scan': 4395, 'trusted': 4396, 'relief': 4397, 'notebook': 4398, 'sections': 4399, '8th': 4400, 'breakfast': 4401, 'bike': 4402, 'purchaser': 4403, 'stepdaughter': 4404, \"man's\": 4405, 'launched': 4406, 'overcome': 4407, 'humor': 4408, 'deaf': 4409, 'nooks': 4410, 'target': 4411, 'easter': 4412, 'cortana': 4413, 'gimmicks': 4414, 'laundry': 4415, 'lifetime': 4416, 'slowness': 4417, 'arguments': 4418, 'obscure': 4419, 'xbmc': 4420, 'cheat': 4421, 'era': 4422, 'padded': 4423, 'caring': 4424, 'operator': 4425, 'driver': 4426, 'omg': 4427, 'serbia': 4428, 'avoided': 4429, 'apprehensive': 4430, 'troubleshooting': 4431, 'introduce': 4432, 'hardcore': 4433, 'reaching': 4434, \"100's\": 4435, 'creation': 4436, 'actors': 4437, 'hindsight': 4438, 'picky': 4439, 'hiccups': 4440, 'excels': 4441, 'coworker': 4442, 'namely': 4443, 'kiddo': 4444, 'nas': 4445, 'pocketbook': 4446, 'honeywell': 4447, 'jbl': 4448, 'gathering': 4449, 'bothers': 4450, 'arrival': 4451, 'hawaii': 4452, 'el': 4453, 'navagate': 4454, 'streamline': 4455, 'ubiquitous': 4456, 'cuts': 4457, 'builds': 4458, 'rentals': 4459, 'forums': 4460, 'earth': 4461, 'amusing': 4462, 'kicked': 4463, 'lyrics': 4464, 'formats': 4465, 'evenly': 4466, 'haptic': 4467, 'duty': 4468, 'effectively': 4469, 'avail': 4470, 'cheaply': 4471, 'blocking': 4472, 'christian': 4473, 'hasnt': 4474, 'laughs': 4475, 'chapter': 4476, '32g': 4477, 'produced': 4478, 'genuine': 4479, 'chinese': 4480, 'moderately': 4481, 'washed': 4482, 'verify': 4483, 'amaze': 4484, 'february': 4485, 'financial': 4486, 'restaurants': 4487, 'wishing': 4488, 'fear': 4489, 'rush': 4490, 'disconnected': 4491, '1a': 4492, 'tying': 4493, 'whitepaper': 4494, 'nintendo': 4495, 'roughly': 4496, 'feb': 4497, 'sensors': 4498, 'verbally': 4499, 'accurately': 4500, 'id': 4501, 'holder': 4502, 'firestarter': 4503, 'la': 4504, 'slots': 4505, 'magnet': 4506, 'grainy': 4507, 'fro': 4508, 'ft': 4509, 'kinks': 4510, 'inputs': 4511, 'aftv': 4512, 'clicks': 4513, 'handbag': 4514, 'passwords': 4515, 'exist': 4516, 'reorder': 4517, 'cat': 4518, 'burn': 4519, 'alittle': 4520, 'ar': 4521, \"here's\": 4522, 'nature': 4523, 'youre': 4524, 'ultimate': 4525, 'pcs': 4526, 'bec': 4527, 'errors': 4528, 'method': 4529, 'standpoint': 4530, 'resets': 4531, 'prizes': 4532, 'assumed': 4533, 'displayed': 4534, 'mixed': 4535, 'magenta': 4536, 'bookerly': 4537, 'treble': 4538, 'fave': 4539, 'tapping': 4540, 'transitioning': 4541, 'collections': 4542, 'todays': 4543, 'portion': 4544, 'disposal': 4545, 'authors': 4546, 'panel': 4547, 'bones': 4548, 'intermediate': 4549, 'organization': 4550, 'gizmo': 4551, 'moms': 4552, 'tub': 4553, 'docs': 4554, 'notification': 4555, 'encourages': 4556, 'forcing': 4557, 'gray': 4558, 'begins': 4559, 'convince': 4560, 'laid': 4561, 'haven': 4562, 'roommate': 4563, 'mount': 4564, 'reputation': 4565, 'burning': 4566, 'audiophile': 4567, 'thinnest': 4568, 'remedy': 4569, 'database': 4570, 'becuase': 4571, 'defiantly': 4572, 'slippery': 4573, 'tendency': 4574, \"they'll\": 4575, 'sliced': 4576, 'hoops': 4577, 'printing': 4578, 'loyal': 4579, 'daycare': 4580, 'portal': 4581, 'catalog': 4582, 'processors': 4583, 'accomplish': 4584, 'smartest': 4585, '100s': 4586, 'indicated': 4587, 'dominos': 4588, 'voila': 4589, 'accidently': 4590, 'lastly': 4591, 'kidding': 4592, 'ate': 4593, 'lifestyle': 4594, 'nursery': 4595, 'giant': 4596, 'wasted': 4597, 'brilliant': 4598, 'camper': 4599, 'fields': 4600, 'screensaver': 4601, 'shopped': 4602, 'kicks': 4603, 'entering': 4604, 'recharged': 4605, 'neighbors': 4606, 'jobs': 4607, 'enlarged': 4608, 'consuming': 4609, 'communications': 4610, 'reccommend': 4611, 'musical': 4612, 'foster': 4613, 'blacks': 4614, 'accordingly': 4615, 'lightness': 4616, 'kill': 4617, 'htpc': 4618, 'resetting': 4619, 'activating': 4620, 'static': 4621, 'cooler': 4622, 'calibre': 4623, 'kudos': 4624, 'stuffer': 4625, 'networking': 4626, '7inch': 4627, 'rotate': 4628, 'ugh': 4629, 'ends': 4630, 'reboots': 4631, 'terribly': 4632, 'replies': 4633, 'stepping': 4634, 'firefox': 4635, 's2': 4636, '1gb': 4637, 'ot': 4638, 'bay': 4639, 'canada': 4640, 'art': 4641, 'effortlessly': 4642, 'leap': 4643, 'swap': 4644, 'ruin': 4645, 'health': 4646, 'leds': 4647, 'refined': 4648, 'upgradeable': 4649, 'yay': 4650, 'payment': 4651, 'dropbox': 4652, 'clubhouse': 4653, \"roku's\": 4654, 'git': 4655, 'snapchat': 4656, 'preschoolers': 4657, 'affected': 4658, 'philip': 4659, '9w': 4660, 'handicapped': 4661, 'cradle': 4662, 'beef': 4663, 'lesson': 4664, 'perfection': 4665, 'infant': 4666, 'wrapping': 4667, 'rare': 4668, '180': 4669, 'highs': 4670, 'un': 4671, 'dissatisfied': 4672, 'bug': 4673, 'mile': 4674, 'repeated': 4675, 'appeared': 4676, 'lens': 4677, 'detail': 4678, 'singing': 4679, '4ghz': 4680, 'defaults': 4681, 'meditation': 4682, 'marketplace': 4683, 'blah': 4684, 'sec': 4685, 'lte': 4686, 'facility': 4687, 'apparent': 4688, \"people's\": 4689, 'pod': 4690, 'pun': 4691, 'gal': 4692, 'asset': 4693, 'gamer': 4694, 'carefully': 4695, 'removes': 4696, 'steve': 4697, 'overheat': 4698, 'upgradable': 4699, 'printer': 4700, 'skin': 4701, '1080': 4702, 'subscribing': 4703, 'alerts': 4704, 'elephant': 4705, 'preteen': 4706, 'slowed': 4707, 'transition': 4708, 'competes': 4709, 'cat5': 4710, 'gear': 4711, 'dryer': 4712, 'editing': 4713, 'aggravating': 4714, 'achieve': 4715, 'japanese': 4716, 'adopted': 4717, 'hitch': 4718, 'continuous': 4719, 'soundlink': 4720, 'goddaughter': 4721, 'beside': 4722, '8yo': 4723, 'demanding': 4724, 'department': 4725, 'ticking': 4726, 'ether': 4727, 'physically': 4728, 'grateful': 4729, 'weigh': 4730, 'cookbooks': 4731, 'merchandise': 4732, 'puzzle': 4733, 'twitch': 4734, 'happily': 4735, 'subtle': 4736, 'pose': 4737, 'footnote': 4738, 'reclining': 4739, 'tethered': 4740, 'fabric': 4741, 'freak': 4742, 'disconnecting': 4743, 'grandkid': 4744, 'nearest': 4745, 'iterations': 4746, 'viable': 4747, 'removable': 4748, 'suite': 4749, 'reg': 4750, 'swedish': 4751, 'jailbreak': 4752, 'h265': 4753, 'baseball': 4754, 'nuts': 4755, 'expenses': 4756, '220': 4757, 'autism': 4758, 'replaceable': 4759, 'planet': 4760, 'involved': 4761, 'overjoyed': 4762, 'cheers': 4763, 'alas': 4764, 'techno': 4765, 'chains': 4766, 'cleared': 4767, 'myq': 4768, 'kaspersky': 4769, 'quirk': 4770, \"valentine's\": 4771, 'commuting': 4772, 'nowadays': 4773, 'lawn': 4774, 'newbie': 4775, 'fortunate': 4776, 'humans': 4777, 'yearly': 4778, 'butler': 4779, 'adaptable': 4780, 'belong': 4781, 'scenes': 4782, 'enhances': 4783, 'convinient': 4784, 'podcast': 4785, 'drawing': 4786, 'visited': 4787, 'subsidize': 4788, 'fallen': 4789, 'manages': 4790, 'restricting': 4791, 'st': 4792, 'greenish': 4793, 'scope': 4794, 'alert': 4795, 'donate': 4796, 'certificate': 4797, 'eve': 4798, 'positives': 4799, 'slightest': 4800, 'bless': 4801, \"paperwhite's\": 4802, 'didn’t': 4803, 'decisions': 4804, 'jetson': 4805, 'fri': 4806, 'cabinet': 4807, 'pulse': 4808, 'lengthy': 4809, 'traditionalist': 4810, 'dims': 4811, 'entertainer': 4812, 'lake': 4813, 'reinstall': 4814, 'shortcomings': 4815, 'stern': 4816, 'mouth': 4817, 'chuck': 4818, 'unreliable': 4819, 'visibility': 4820, 'examples': 4821, 'cities': 4822, 'dtv': 4823, 'optimized': 4824, 'disconnects': 4825, 'session': 4826, 'cow': 4827, \"she'd\": 4828, '2year': 4829, 'touchy': 4830, 'largest': 4831, 'googles': 4832, 'york': 4833, 'backwards': 4834, 'arounds': 4835, 'wiki': 4836, 'tweak': 4837, 'swapped': 4838, 'easyer': 4839, 'listener': 4840, 'hindi': 4841, 'tuned': 4842, 'defeats': 4843, 'ls': 4844, 'imho': 4845, 'memberships': 4846, 'tasking': 4847, 'void': 4848, 'insisted': 4849, 'bot': 4850, 'savers': 4851, 'payments': 4852, 'zip': 4853, 'magnetic': 4854, 'ripped': 4855, 'promptly': 4856, 'prepare': 4857, 'servers': 4858, 'utube': 4859, 'pointed': 4860, 'daytime': 4861, 'slows': 4862, 'realm': 4863, 'converted': 4864, 'density': 4865, 'hearts': 4866, 'yep': 4867, 'elmo': 4868, 'destructive': 4869, 'atleast': 4870, 'hefty': 4871, 'stress': 4872, 'idevices': 4873, 'squeeze': 4874, 'presses': 4875, 'decoding': 4876, 'idle': 4877, 'releasing': 4878, 'pokemon': 4879, 'dissapointed': 4880, 'generations': 4881, 'nevertheless': 4882, 'jam': 4883, 'warning': 4884, 'triggers': 4885, 'ranging': 4886, 'anticipate': 4887, 'touches': 4888, 'annoy': 4889, 'bound': 4890, 'ty': 4891, 'believer': 4892, 'posts': 4893, 'ds': 4894, 'disliked': 4895, 'persuaded': 4896, 'keywords': 4897, 'initialize': 4898, 'reviewer': 4899, 'relationship': 4900, 'neatly': 4901, 'addict': 4902, 'raise': 4903, \"month's\": 4904, 'seams': 4905, 'centered': 4906, 'spine': 4907, 'closure': 4908, 'mods': 4909, 'mailed': 4910, 'watcher': 4911, 'lurve': 4912, \"lil'\": 4913, '21st': 4914, 'recieved': 4915, 'advert': 4916, 'acct': 4917, 'optimal': 4918, 'notepad': 4919, 'fireplace': 4920, 'definetly': 4921, 'actions': 4922, 'simplify': 4923, 'hill': 4924, 'downgraded': 4925, 'bedside': 4926, 'indicator': 4927, 'bleeding': 4928, 'repossess': 4929, 'clearing': 4930, 'staple': 4931, 'eliminating': 4932, 'hurry': 4933, 'bbq': 4934, 'advise': 4935, 'hidden': 4936, 'futuristic': 4937, 'heads': 4938, 'maker': 4939, 'repeating': 4940, 'attempted': 4941, 'launch': 4942, 'los': 4943, 'hardcover': 4944, 'darkened': 4945, 'approximately': 4946, 'bulb': 4947, 'advances': 4948, 'fanatic': 4949, 'contract': 4950, 'recommendable': 4951, 'author': 4952, 'whispersync': 4953, 'realy': 4954, \"speaker's\": 4955, 'lows': 4956, 'implemented': 4957, 'ntfs': 4958, 'standalone': 4959, 'varied': 4960, 'sheet': 4961, 'flow': 4962, 'reaction': 4963, 'starz': 4964, 'unclear': 4965, 'concrete': 4966, 'blotches': 4967, 'shadows': 4968, 'marvelous': 4969, 'behave': 4970, 'everday': 4971, 'brainier': 4972, 'mexico': 4973, 'hopper': 4974, 'alexi': 4975, 'independent': 4976, 'engage': 4977, 'unnecessarily': 4978, 'antiquated': 4979, 'es': 4980, 'expert': 4981, 'sue': 4982, 'repair': 4983, 'shades': 4984, 'absolutly': 4985, 'shine': 4986, 'nonetheless': 4987, 'highlighted': 4988, 'tedious': 4989, 'muy': 4990, 'watt': 4991, 'crashes': 4992, 'gas': 4993, 'energy': 4994, 'recessed': 4995, 'renting': 4996, 'conveniences': 4997, 'wonky': 4998, 'rave': 4999, 'fiddle': 5000, 'weighing': 5001, 'complications': 5002, 'phillip': 5003, 'demonstrates': 5004, 'smudge': 5005, 'promises': 5006, 'affect': 5007, 'shattered': 5008, 'dimly': 5009, 'inbuilt': 5010, 'charts': 5011, 'nose': 5012, 'moneys': 5013, 'unlocked': 5014, 'watts': 5015, 'control4': 5016, 'article': 5017, 'http': 5018, 'biased': 5019, 'awesomeness': 5020, 'instructed': 5021, 'reduction': 5022, 'stuffers': 5023, 'pitch': 5024, 'minimally': 5025, 'toggle': 5026, 'addressed': 5027, 'q': 5028, '1000ma': 5029, 'lightens': 5030, 'dictate': 5031, 'assuming': 5032, 'discontinued': 5033, 'arent': 5034, 'remembering': 5035, 'dsl': 5036, 'becareful': 5037, 'fidelity': 5038, 'backorder': 5039, 'thankful': 5040, 'imagination': 5041, 'startup': 5042, 'topic': 5043, 'sewing': 5044, 'prompts': 5045, 'demo': 5046, 'costumer': 5047, 'freaking': 5048, 'upright': 5049, 'bumps': 5050, 'verified': 5051, 'insane': 5052, 'juice': 5053, 'beast': 5054, 'actor': 5055, 'pintrest': 5056, 'raising': 5057, 'tine': 5058, 'refrigerator': 5059, '1000s': 5060, 'advised': 5061, 'keyboards': 5062, 'alleviate': 5063, 'sis': 5064, 'transferring': 5065, 'appropriately': 5066, 'gigabytes': 5067, 'flag': 5068, '9th': 5069, 'restrictive': 5070, 'nagging': 5071, '53': 5072, 'react': 5073, 'ise': 5074, 'interfere': 5075, 'jeans': 5076, 'builder': 5077, 'burden': 5078, 'addons': 5079, 'steady': 5080, 'letter': 5081, 'tones': 5082, 'spy': 5083, 'den': 5084, 'repurchase': 5085, 'homeschool': 5086, 'chromcast': 5087, 'hesitated': 5088, 'measured': 5089, 'tempting': 5090, 'crucial': 5091, 'headset': 5092, 'wotks': 5093, 'grades': 5094, 'sporadic': 5095, 'forgets': 5096, 'entered': 5097, 'exercise': 5098, 'messed': 5099, 'competing': 5100, 'packing': 5101, 'estate': 5102, 'housewarming': 5103, 'ota': 5104, 'mbps': 5105, \"niece's\": 5106, 'paced': 5107, 'stability': 5108, 'satisfies': 5109, 'unfortunate': 5110, 'luggage': 5111, 'deserves': 5112, 'guests': 5113, 'iot': 5114, 'splurged': 5115, 'programing': 5116, 'booted': 5117, 'seam': 5118, 'novices': 5119, 'income': 5120, 'displaying': 5121, '–': 5122, 'straining': 5123, 'innovation': 5124, 'taller': 5125, 'dice': 5126, 'cleaner': 5127, 'lovely': 5128, 'swore': 5129, 'premiere': 5130, 'relaxation': 5131, 'spreadsheets': 5132, 'stationary': 5133, 'horizontal': 5134, '200gb': 5135, 'tailored': 5136, 'dang': 5137, 'hurts': 5138, 'damages': 5139, 'hall': 5140, 'rushed': 5141, 'classical': 5142, 'jr': 5143, 'amc': 5144, 'passes': 5145, 'precision': 5146, 'restriction': 5147, 'theft': 5148, 'bust': 5149, 'granted': 5150, 'rename': 5151, 'combine': 5152, 'remarkably': 5153, 'explains': 5154, 'countertop': 5155, 'guru': 5156, 'yahoo': 5157, 'sucked': 5158, 'universe': 5159, 'repeatedly': 5160, 'experimental': 5161, '1024': 5162, 'abroad': 5163, 'restricts': 5164, 'unbelievably': 5165, 'loudness': 5166, 'officially': 5167, \"day's\": 5168, 'serving': 5169, 'knitting': 5170, 'conveniently': 5171, \"granddaughter's\": 5172, 'existent': 5173, 'struggles': 5174, 'tape': 5175, 'intensity': 5176, 'understandable': 5177, 'reconnecting': 5178, 'samsungs': 5179, 'formatted': 5180, 'delightful': 5181, 'ending': 5182, 'tomorrow': 5183, \"domino's\": 5184, 'intact': 5185, '70s': 5186, 'attachment': 5187, 'define': 5188, 'defined': 5189, 'shutdown': 5190, 'interacts': 5191, 'splurge': 5192, 'designs': 5193, 'mommy': 5194, 'tha': 5195, 'chores': 5196, \"ipad's\": 5197, 'dos': 5198, 'grabbing': 5199, 'trials': 5200, 'exited': 5201, 'jumping': 5202, 'plagued': 5203, '67': 5204, 'electronically': 5205, 'strange': 5206, 'glowing': 5207, \"picture's\": 5208, 'mute': 5209, 'screaming': 5210, 'saavy': 5211, 'closes': 5212, 'exterior': 5213, \"60's\": 5214, 'anyhow': 5215, 'stubborn': 5216, 'reputable': 5217, 'z': 5218, 'acquainted': 5219, 'pointless': 5220, \"phone's\": 5221, 'elated': 5222, 'failure': 5223, 'clients': 5224, 'suffers': 5225, 'upward': 5226, 'submit': 5227, 'reflective': 5228, 'wether': 5229, 'stinks': 5230, 'diverse': 5231, 'synched': 5232, 'laughed': 5233, 'courses': 5234, 'distinguish': 5235, 'critical': 5236, 'permanently': 5237, 'fantastically': 5238, 'destroys': 5239, 'backing': 5240, 'gor': 5241, 'appts': 5242, 'adapters': 5243, 'snugly': 5244, 'bookbub': 5245, 'ice': 5246, 'inquiry': 5247, 'fridge': 5248, 'multitasking': 5249, 'raises': 5250, 'role': 5251, 'assure': 5252, 'expandability': 5253, 'manufactured': 5254, 'jewel': 5255, 'contacting': 5256, 'processes': 5257, 'unreal': 5258, 'manipulate': 5259, 'directional': 5260, 'severely': 5261, 'locking': 5262, 'stumped': 5263, 'receptive': 5264, 'swipes': 5265, 'uncertain': 5266, 'warrant': 5267, 'googling': 5268, 'abcmouse': 5269, 'rachio': 5270, 'shoot': 5271, 'buses': 5272, 'criteria': 5273, 'commonly': 5274, 'labeled': 5275, '160': 5276, 'ya': 5277, 'creepy': 5278, 'legs': 5279, 'blame': 5280, 'rounded': 5281, 'settle': 5282, 'controllers': 5283, 'cheep': 5284, 'understatement': 5285, 'opt': 5286, 'fatigue': 5287, 'webpage': 5288, 'dimmed': 5289, 'tour': 5290, 'ver': 5291, 'translation': 5292, \"menu's\": 5293, 'forwarding': 5294, 'sum': 5295, 'rising': 5296, 'apply': 5297, 'habits': 5298, 'appearing': 5299, 'promise': 5300, 'restarted': 5301, 'pinch': 5302, 'shoulders': 5303, 'pluto': 5304, 'heartbroken': 5305, 'daugther': 5306, 'completing': 5307, 'slowing': 5308, 'earphones': 5309, 'securely': 5310, 'elastic': 5311, 'drinks': 5312, 'corners': 5313, 'bubble': 5314, 'suddenly': 5315, 'fiction': 5316, \"'ve\": 5317, 'lettering': 5318, 'hw': 5319, 'getjar': 5320, 'vendors': 5321, 'assists': 5322, 'keypad': 5323, 'fo': 5324, 'zippy': 5325, 'bleed': 5326, 'grey': 5327, 'obsessed': 5328, 'fresh': 5329, 'youngster': 5330, 'disk': 5331, 'interruption': 5332, 'mtv': 5333, 'toilet': 5334, 'walks': 5335, 'maintenance': 5336, 'cracks': 5337, 'hes': 5338, 'flixster': 5339, 'detached': 5340, 'purchasers': 5341, 'bags': 5342, 'skyping': 5343, 'designated': 5344, 'partial': 5345, 'projects': 5346, 'lifesaver': 5347, 'casino': 5348, 'smallest': 5349, 'sleeps': 5350, '10yr': 5351, 'corrected': 5352, 'hoc': 5353, 'resisted': 5354, 'leaning': 5355, 'earned': 5356, 'lifestyles': 5357, 'textbook': 5358, \"ol'\": 5359, 'raining': 5360, 'drives': 5361, 'thomas': 5362, 'women': 5363, 'operational': 5364, 'don': 5365, 'records': 5366, 'don´t': 5367, '125': 5368, 'amusement': 5369, 'biggie': 5370, 'readin': 5371, 'seasons': 5372, 'nightly': 5373, 'rains': 5374, 'mi': 5375, 'engineered': 5376, 'responsible': 5377, 'surprises': 5378, 'iffy': 5379, 'musics': 5380, 'dearly': 5381, 'psvue': 5382, 'mp4': 5383, 'convincing': 5384, 'seldom': 5385, 'thrones': 5386, 'subscribers': 5387, 'educated': 5388, 'awe': 5389, 'award': 5390, 'ghz': 5391, 'forcast': 5392, 'meh': 5393, 'gorgeous': 5394, 'schooling': 5395, 'bravo': 5396, 'failing': 5397, 'exceptionally': 5398, 'proves': 5399, 'bundled': 5400, 'sensation': 5401, 'hollow': 5402, 'wrap': 5403, 'babysitter': 5404, 'experiencing': 5405, 'worm': 5406, 'assisted': 5407, \"7'\": 5408, \"led's\": 5409, 'collecting': 5410, 'visa': 5411, 'et': 5412, 'raised': 5413, 'calendars': 5414, 'project': 5415, \"play's\": 5416, 'customization': 5417, 'abundance': 5418, 'instrumental': 5419, 'exodus': 5420, 'installs': 5421, 'ecstatic': 5422, 'forty': 5423, 'puck': 5424, 'chromebook': 5425, 'portrait': 5426, 'illuminated': 5427, 'marriage': 5428, 'reduces': 5429, 'electricity': 5430, 'travelers': 5431, 'sees': 5432, 'context': 5433, 'tier': 5434, 'ancient': 5435, 'vacations': 5436, 'knowledgable': 5437, 'inconvenient': 5438, '—': 5439, 'mall': 5440, 'queen': 5441, 'directed': 5442, 'onboard': 5443, 'elements': 5444, 'ball': 5445, 'sticky': 5446, \"old's\": 5447, 'recreational': 5448, 'committed': 5449, 'playstaion': 5450, 'temporarily': 5451, 'androids': 5452, 'economist': 5453, 'incorporate': 5454, \"nephew's\": 5455, 'dig': 5456, 'gimmicky': 5457, 'consolidate': 5458, 'american': 5459, 'lounge': 5460, 'unused': 5461, 'decor': 5462, 'meaningful': 5463, 'arena': 5464, \"buyer's\": 5465, 'align': 5466, 'rates': 5467, 'rings': 5468, 'razor': 5469, 'usd': 5470, 'sensor': 5471, 'pulls': 5472, 'charter': 5473, 'safer': 5474, 'mobi': 5475, 'confirm': 5476, 'weighted': 5477, 'pet': 5478, 'schooled': 5479, 'fitness': 5480, 'flying': 5481, 'contest': 5482, \"cd's\": 5483, 'king': 5484, 'tapes': 5485, 'fork': 5486, \"dot's\": 5487, 'satified': 5488, 'calculator': 5489, 'passable': 5490, 'tangerine': 5491, 'depot': 5492, 'periodically': 5493, 'production': 5494, 'hunt': 5495, 'bummed': 5496, 'loooooove': 5497, 'tower': 5498, 'les': 5499, 'livres': 5500, 'additions': 5501, 'smells': 5502, 'mild': 5503, 'pillow': 5504, 'raved': 5505, 'thankfully': 5506, 'grandbaby': 5507, 'depth': 5508, 'dispute': 5509, 'goal': 5510, 'birds': 5511, 'tumblr': 5512, 'separated': 5513, 'mines': 5514, 'unread': 5515, 'eagles': 5516, 'scriptures': 5517, 'destroy': 5518, 'hints': 5519, 'refuses': 5520, \"get's\": 5521, 'dynamic': 5522, \"doctor's\": 5523, 'restaurant': 5524, 'locally': 5525, 'stump': 5526, '·': 5527, 'competent': 5528, 'timeline': 5529, 'attempting': 5530, 'enterprise': 5531, 'pesky': 5532, 'briefcase': 5533, 'disconcerting': 5534, '140': 5535, 'thr': 5536, 'reliably': 5537, 'korean': 5538, 'north': 5539, 'swear': 5540, 'paste': 5541, 'tire': 5542, 'stutters': 5543, 'exposure': 5544, 'estimate': 5545, 'crunchyroll': 5546, 'shares': 5547, 'intimidating': 5548, 'overwhelming': 5549, 'hangs': 5550, 'dictionaries': 5551, 'farther': 5552, 'offices': 5553, 'emby': 5554, 'italian': 5555, 'sacrifice': 5556, 'friendliness': 5557, 'registration': 5558, 'prepaid': 5559, 'superfun': 5560, 'hilarious': 5561, 'recycling': 5562, 'herd': 5563, 'fiire': 5564, 'tan': 5565, 'investing': 5566, 'implementing': 5567, 'smiling': 5568, 'useable': 5569, 'aftermarket': 5570, 'adopter': 5571, 'styles': 5572, 'varying': 5573, 'comprehensive': 5574, 'lark': 5575, 'lotta': 5576, 'downs': 5577, 'dialog': 5578, 'kool': 5579, 'equipments': 5580, 'heather': 5581, 'chistmas': 5582, 'amazom': 5583, 'concierge': 5584, 'comedian': 5585, 'pounds': 5586, 'theatre': 5587, 'headsets': 5588, 'illiterate': 5589, 'embarrassing': 5590, '01': 5591, 'transformer': 5592, 'eighth': 5593, 'occur': 5594, 'flashy': 5595, 'decades': 5596, 'dangerous': 5597, 'absence': 5598, 'functionally': 5599, 'calender': 5600, 'neatest': 5601, '93': 5602, 'married': 5603, 'deeply': 5604, 'interfaced': 5605, 'charity': 5606, 'disappoints': 5607, 'capacitive': 5608, 'kindell': 5609, 'ol': 5610, 'obsessive': 5611, 'permits': 5612, 'economy': 5613, 'sweat': 5614, 'secured': 5615, 'underlined': 5616, 'v1': 5617, 'adt': 5618, 'cordless': 5619, 'approach': 5620, 'chances': 5621, 'dial': 5622, 'skins': 5623, 'drinking': 5624, 'ofgreat': 5625, 'moth': 5626, 'arrangement': 5627, 'specialized': 5628, \"x'mas\": 5629, 'iceland': 5630, 'rainy': 5631, 'wipe': 5632, 'circling': 5633, 'bite': 5634, 'fascinating': 5635, \"'m\": 5636, 'billing': 5637, 'rules': 5638, 'dilemma': 5639, 'suffer': 5640, 'battle': 5641, 'outshout': 5642, 'adapts': 5643, 'nighthawk': 5644, 'antiglare': 5645, 'richer': 5646, 'sonce': 5647, '3s': 5648, 'returns': 5649, 'unparalleled': 5650, 'loosing': 5651, 'bingo': 5652, 'launcher': 5653, 'firm': 5654, 'muted': 5655, 'musicians': 5656, 'bby': 5657, 'developing': 5658, 'desent': 5659, 'silicone': 5660, 'arrow': 5661, 'foray': 5662, 'cry': 5663, 'accepted': 5664, 'kiosk': 5665, 'trys': 5666, 'plugins': 5667, 'lame': 5668, 'shy': 5669, \"speakers'\": 5670, 'moral': 5671, 'accommodating': 5672, 'scissors': 5673, 'redo': 5674, 'gracious': 5675, 'repetitive': 5676, 'importance': 5677, 'twelve': 5678, 'continuing': 5679, 'rolling': 5680, 'gen1': 5681, 'apks': 5682, 'belkin': 5683, 'divice': 5684, 'character': 5685, 'convienent': 5686, 'buffered': 5687, '64g': 5688, 'madden': 5689, 'relieved': 5690, 'army': 5691, 'knife': 5692, 'drawer': 5693, 'vanished': 5694, 'amazin': 5695, 'sheer': 5696, 'controllable': 5697, \"year's\": 5698, 'tabet': 5699, 'harm': 5700, 'cent': 5701, 'tract': 5702, 'obtrusive': 5703, 'nurse': 5704, 'neck': 5705, 'handful': 5706, 'rebooted': 5707, '37': 5708, 'sticker': 5709, 'defected': 5710, 'promos': 5711, 'ehhh': 5712, 'sand': 5713, 'lightnings': 5714, 'inquire': 5715, 'balloon': 5716, 'july': 5717, 'preferring': 5718, 'vanilla': 5719, 'fulfill': 5720, 'desires': 5721, 'respective': 5722, 'monopoly': 5723, 'favorable': 5724, 'kindergarten': 5725, 'stickers': 5726, 'rail': 5727, 'backpacking': 5728, 'forms': 5729, 'jarvis': 5730, 'iron': 5731, 'deduct': 5732, 'instructional': 5733, 'bump': 5734, 'mate': 5735, 'mario': 5736, 'prove': 5737, 'motivated': 5738, 'manufacture': 5739, '98': 5740, 'butter': 5741, 'tubular': 5742, 'taining': 5743, \"'listening'\": 5744, 'sequence': 5745, 'sofa': 5746, 'aplication': 5747, 'godmother': 5748, 'tryed': 5749, 'spirit': 5750, 'mics': 5751, 'memorize': 5752, 'animals': 5753, 'directnow': 5754, 'thinness': 5755, 'thickness': 5756, 'crispy': 5757, 'reworking': 5758, 'afordable': 5759, 'bandwith': 5760, 'humble': 5761, \"mini's\": 5762, 'dji': 5763, '3gb': 5764, 'chapters': 5765, 'dress': 5766, 'caveats': 5767, 'pile': 5768, 'dash': 5769, 'wars': 5770, 'multiplayer': 5771, 'recovered': 5772, 'harry': 5773, 'potter': 5774, '1984': 5775, 'knocking': 5776, 'ws': 5777, 'conversational': 5778, 'guatemala': 5779, 'freeing': 5780, 'digitizer': 5781, 'digitally': 5782, 'hbogo': 5783, 'roku2': 5784, 'shuffle': 5785, 'ca': 5786, 'customizations': 5787, 'bend': 5788, 'emanating': 5789, 'insight': 5790, 'listing': 5791, 'involve': 5792, 'pipe': 5793, 'dear': 5794, 'gpu': 5795, 'lessons': 5796, 'it���s': 5797, 'graduating': 5798, 'inaccurate': 5799, 'velcro': 5800, 'buffing': 5801, \"'i\": 5802, 'instruct': 5803, 'tapped': 5804, 'element': 5805, 'riddles': 5806, 'eggs': 5807, 'concerts': 5808, 'routinely': 5809, 'robots': 5810, 'ordinary': 5811, 'bluray': 5812, 'reinvigorated': 5813, 'chamberlin': 5814, 'informs': 5815, 'longing': 5816, 'furnace': 5817, 'oriented': 5818, 'granddaugther': 5819, 'seller': 5820, '82': 5821, 'doorbell': 5822, 'rocket': 5823, 'excellence': 5824, \"it'\": 5825, 'sidetracked': 5826, 'fat32': 5827, \"girlfriend's\": 5828, 'subjects': 5829, 'woodchuck': 5830, 'payed': 5831, 'accompany': 5832, 'grouping': 5833, 'gold': 5834, \"that'll\": 5835, 'syndrome': 5836, 'ces': 5837, 'confirmed': 5838, 'launching': 5839, 'upfront': 5840, 'functionalities': 5841, 'ships': 5842, 'weightless': 5843, '26': 5844, 'dated': 5845, 'respects': 5846, 'notified': 5847, 'crime': 5848, 'revolution': 5849, 'fanciest': 5850, 'quieter': 5851, 'cracking': 5852, 'internally': 5853, 'biographies': 5854, 'ounces': 5855, 'messy': 5856, 'alight': 5857, 'diversity': 5858, 'fullest': 5859, 'conducive': 5860, 'partnership': 5861, 'performer': 5862, 'diabetic': 5863, 'regulated': 5864, 'voltage': 5865, 'stack': 5866, 'avaliable': 5867, \"'alexa\": 5868, 'certificates': 5869, 'healthy': 5870, 'helpfull': 5871, 'equipped': 5872, 'disadvantage': 5873, 'isn’t': 5874, 'won’t': 5875, 'passages': 5876, 'merlot': 5877, 'longest': 5878, 'landed': 5879, 'radios': 5880, 'deeper': 5881, 'storm': 5882, 'passing': 5883, 'insure': 5884, 'retailers': 5885, 'conection': 5886, 'procesor': 5887, 'quilty': 5888, 'swimming': 5889, 'xda': 5890, 'naming': 5891, 'readeri': 5892, 'freed': 5893, 'interfacing': 5894, 'distributed': 5895, 'comforting': 5896, 'posting': 5897, 'hottest': 5898, '12yr': 5899, 'dan': 5900, 'outperformed': 5901, 'powerfast': 5902, 'idiot': 5903, 'gratification': 5904, 'effects': 5905, 'lullabies': 5906, 'afar': 5907, \"master's\": 5908, 'chargeable': 5909, \"nook's\": 5910, 'unreadable': 5911, \"book's\": 5912, 'cont': 5913, 'agreat': 5914, '73': 5915, 'elder': 5916, 'routes': 5917, 'everynight': 5918, 'miracle': 5919, '23': 5920, 'war': 5921, 'kidproof': 5922, 'rights': 5923, 'recorded': 5924, 'abundant': 5925, 'swears': 5926, 'rack': 5927, 'booklights': 5928, 'merely': 5929, 'dcor': 5930, 'ranked': 5931, 'applicable': 5932, 'truck': 5933, 'savior': 5934, 'unlocks': 5935, 'shortcoming': 5936, 'vacuum': 5937, 'drone': 5938, 'hiccup': 5939, 'argue': 5940, 'hacked': 5941, 'scaling': 5942, 'blessing': 5943, 'everthing': 5944, 'shooting': 5945, 'calmly': 5946, 'chemo': 5947, 'hardbacks': 5948, '5v': 5949, 'recomended': 5950, 'brake': 5951, 'looses': 5952, 'grandbabies': 5953, 'strenuous': 5954, 'preteens': 5955, 'matricom': 5956, 'customizing': 5957, '17th': 5958, 'warned': 5959, 'priority': 5960, 'contains': 5961, 'addiction': 5962, 'pearl': 5963, 'nyt': 5964, 'advancing': 5965, 'detergent': 5966, \"word's\": 5967, 'breakable': 5968, 'kindled': 5969, 'temperatures': 5970, 'baking': 5971, 'accesible': 5972, 'theses': 5973, 'promote': 5974, 'subpar': 5975, 'interpreted': 5976, 'replied': 5977, 'trending': 5978, 'supplies': 5979, 'surfacing': 5980, 'coworkers': 5981, 'cyanogen': 5982, 'fooled': 5983, 'resembles': 5984, 'packet': 5985, 'forgiven': 5986, 'popup': 5987, 'defense': 5988, 'freely': 5989, 'fare': 5990, '6yrs': 5991, 'carpet': 5992, 'kickstand': 5993, 'soundbar': 5994, 'secretary': 5995, 'doc': 5996, 'convienient': 5997, 'steelbook': 5998, 'cents': 5999, 'firetvstick': 6000, 'homerun': 6001, 'bloat': 6002, 'rushing': 6003, 'spotifly': 6004, \"'okay\": 6005, \"google'\": 6006, 'annual': 6007, 'stink': 6008, 'phonograph': 6009, 'disc': 6010, 'i3': 6011, 'reactions': 6012, 'dealt': 6013, 'unrestricted': 6014, 'kiddie': 6015, 'lied': 6016, 'appreciation': 6017, 'apps2fire': 6018, 'cruising': 6019, 'funky': 6020, 'lookup': 6021, 'touched': 6022, 'serf': 6023, 'transformed': 6024, 'chooses': 6025, 'aswell': 6026, 'patents': 6027, 'gap': 6028, 'furniture': 6029, 'hd10': 6030, 'productively': 6031, 'unanswered': 6032, \"'s\": 6033, 'vocal': 6034, 'identifying': 6035, 'informational': 6036, 'dec': 6037, 'fulfills': 6038, 'woks': 6039, 'needy': 6040, 'supporting': 6041, 'ereading': 6042, \"playstation's\": 6043, 'resting': 6044, 'nextflix': 6045, 'camara': 6046, 'megapixels': 6047, 'breakage': 6048, 'diagrams': 6049, 'marvel': 6050, 'gamers': 6051, \"they'd\": 6052, 'redemption': 6053, 'browsers': 6054, 'ignorant': 6055, 'cores': 6056, 'accesses': 6057, '64gig': 6058, 'infinitely': 6059, 'drained': 6060, 'tx': 6061, 'mimi': 6062, 'dancing': 6063, 'suggesting': 6064, 'produce': 6065, 'networked': 6066, 'resistance': 6067, 'systen': 6068, 'supporter': 6069, 'calander': 6070, 'dumped': 6071, 'agent': 6072, 'concise': 6073, 'inform': 6074, 'centurylink': 6075, 'sufficiently': 6076, 'grest': 6077, 'wroth': 6078, 'quadcore': 6079, 'outcome': 6080, 'theyll': 6081, 'advocate': 6082, 'ware': 6083, 'addicting': 6084, 'referring': 6085, 'vivint': 6086, 'abd': 6087, 'roku4': 6088, 'golden': 6089, 'misinformed': 6090, 'lieu': 6091, 'screencasting': 6092, 'disrupt': 6093, '5yo': 6094, 'sprout': 6095, 'silicon': 6096, 'enclosure': 6097, 'intending': 6098, 'documentation': 6099, 'ixl': 6100, 'tiles': 6101, 'structure': 6102, 'bridge': 6103, 'genie': 6104, 'rhe': 6105, 'disturbed': 6106, 'savor': 6107, 'electric': 6108, 'sharpener': 6109, 'hr': 6110, '55': 6111, 'curling': 6112, 'favourite': 6113, '15min': 6114, 'appt': 6115, 'paces': 6116, 'phase': 6117, 'underestimate': 6118, 'sang': 6119, 'classy': 6120, 'loyalty': 6121, 'nonexistent': 6122, 'movers': 6123, 'mucic': 6124, '36': 6125, \"it'sgreat\": 6126, 'devicegood': 6127, 'instantaneous': 6128, 'nap': 6129, 'crowded': 6130, 'periodicals': 6131, 'maintains': 6132, 'compatability': 6133, 'obtained': 6134, 'loadout': 6135, 'crossing': 6136, 'pricegood': 6137, 'citizens': 6138, 'loop': 6139, 'instances': 6140, 'parameters': 6141, 'snob': 6142, '100x': 6143, 'availabe': 6144, 'recharges': 6145, 'ala': 6146, 'promising': 6147, 'respectable': 6148, 'candle': 6149, 'recipients': 6150, 'dj': 6151, 'minis': 6152, '5gb': 6153, 'upbeat': 6154, 'quantity': 6155, 'tuff': 6156, 'favortie': 6157, 'kindly': 6158, 'informing': 6159, \"em'\": 6160, 'schoolwork': 6161, 'excellant': 6162, 'amazontv': 6163, 'annoyingly': 6164, 'draws': 6165, \"ad's\": 6166, 'imported': 6167, 'underpowered': 6168, 'lovin': 6169, 'approached': 6170, 'statement': 6171, 'jeff': 6172, 'bezos': 6173, 'abandoned': 6174, 'hobby': 6175, 'surpasses': 6176, 'kindal': 6177, 'occurred': 6178, 'salon': 6179, 'puppy': 6180, 'chewed': 6181, 'clasp': 6182, 'published': 6183, 'amazonbasics': 6184, 'folio': 6185, 'ed': 6186, 'analysis': 6187, 'detect': 6188, 'bandwagon': 6189, 'fountains': 6190, 'graphs': 6191, 'cds': 6192, 'lightening': 6193, 'cruzing': 6194, 'fashion': 6195, 'critter': 6196, 'lightweigh': 6197, 'rite': 6198, 'verry': 6199, 'accomplishes': 6200, 'nailed': 6201, 'halo': 6202, 'deficated': 6203, 'paoerwhite': 6204, 'bevel': 6205, 'constantantly': 6206, 'returing': 6207, 'rice': 6208, 'goodnight': 6209, 'witch': 6210, 'catalogs': 6211, 'mundane': 6212, 'negligible': 6213, 'border': 6214, 'diy': 6215, 'peaceful': 6216, 'augment': 6217, 'flickers': 6218, 'planets': 6219, 'clocks': 6220, 'housing': 6221, 'microwave': 6222, 'stovetop': 6223, 'grill': 6224, 'confirms': 6225, 'conditioner': 6226, 'playstationvue': 6227, 'shampoo': 6228, 'unsuccessful': 6229, 'fort': 6230, 'comparisons': 6231, 'throughly': 6232, \"user's\": 6233, 'luxury': 6234, 'halfway': 6235, 'incomplete': 6236, '76': 6237, 'voiding': 6238, 'patiently': 6239, 'reproduction': 6240, 'layer': 6241, 'encryption': 6242, 'shortcuts': 6243, 'extender': 6244, 'fantasy': 6245, 'united': 6246, 'branding': 6247, 'handing': 6248, 'mission': 6249, 'percentage': 6250, 'malfunction': 6251, 'therapy': 6252, 'juts': 6253, 'priceless': 6254, 'warming': 6255, 'dauther': 6256, 'bookmarks': 6257, 'useit': 6258, 'insists': 6259, \"grandma's\": 6260, 'refreshes': 6261, 'shadow': 6262, 'engineering': 6263, 'generous': 6264, \"'smart'\": 6265, 'notches': 6266, 'china': 6267, 'personalization': 6268, 'grandbabie': 6269, 'domain': 6270, 'durning': 6271, 'baked': 6272, 'pales': 6273, 'bookreader': 6274, 'godsend': 6275, 'blitz': 6276, 'batch': 6277, 'foward': 6278, 'netfix': 6279, 'thorough': 6280, 'gameroom': 6281, 'reservation': 6282, 'synchronize': 6283, 'humour': 6284, 'converts': 6285, 'tim': 6286, 'specify': 6287, 'neiece': 6288, 'cycle': 6289, 'mircosd': 6290, 'eg': 6291, 'firehd': 6292, 'teaches': 6293, 'malfunctioning': 6294, 'execute': 6295, '670': 6296, 'recommed': 6297, 'reluctantly': 6298, 'stocked': 6299, 'overheating': 6300, 'rea': 6301, \"camera's\": 6302, 'someones': 6303, '30fps': 6304, 'sincerely': 6305, 'warrantee': 6306, 'sessions': 6307, '71': 6308, 'kurio': 6309, 'render': 6310, 'crown': 6311, \"cousin's\": 6312, 'hdcp': 6313, 'appeal': 6314, 'lockscreen': 6315, 'ensures': 6316, 'transportation': 6317, 'worship': 6318, 'billboard': 6319, 'auxiliary': 6320, 'ligths': 6321, 'demonstrated': 6322, 'supervise': 6323, 'weekday': 6324, 'apparatus': 6325, 'gathers': 6326, 'cried': 6327, 'yea': 6328, 'affordability': 6329, 'rj45': 6330, 'transportable': 6331, 'hmm': 6332, \"i'ts\": 6333, 'treated': 6334, 'relaxed': 6335, 'hint': 6336, 'raving': 6337, 'definitively': 6338, 'mindless': 6339, 'induce': 6340, 'anxiety': 6341, 'useage': 6342, 'messaging': 6343, 'commented': 6344, 'royale': 6345, 'digging': 6346, 'badly': 6347, 'trains': 6348, 'occurs': 6349, 'demonstrate': 6350, 'disneyworld': 6351, 'ahem': 6352, '3000': 6353, 'trackr': 6354, 'warmer': 6355, 'chrismas': 6356, '72': 6357, \"computer's\": 6358, 'facebooking': 6359, 'steals': 6360, 'caved': 6361, 'volts': 6362, 'thereafter': 6363, 'nails': 6364, 'hockey': 6365, 'shelled': 6366, 'icing': 6367, 'bogged': 6368, 'engaging': 6369, 'inevitably': 6370, 'forgetting': 6371, 'highway': 6372, 'moon': 6373, 'chords': 6374, 'annoys': 6375, 'consoles': 6376, 'conversion': 6377, 'wrote': 6378, 'earning': 6379, 'yellowish': 6380, 'coloring': 6381, 'dvds': 6382, 'calmness': 6383, 'repaired': 6384, 'bombarded': 6385, 'roots': 6386, 'costing': 6387, \"pro's\": 6388, 'adequately': 6389, 'hog': 6390, 'strip': 6391, 'quibble': 6392, 'upscale': 6393, 'goo': 6394, 'doe': 6395, 'vegas': 6396, 'fintie': 6397, 'antennae': 6398, 'excedes': 6399, 'detracts': 6400, 'doesn': 6401, 'polaroid': 6402, 'aimed': 6403, 'ita': 6404, 'incentives': 6405, 'russian': 6406, 'hastle': 6407, 'philosophy': 6408, 'demon': 6409, 'justification': 6410, 'couples': 6411, 'delays': 6412, 'sporting': 6413, 'grt': 6414, 'loooong': 6415, 'specials': 6416, 'rf': 6417, 'skypes': 6418, 'baggage': 6419, 'repairs': 6420, 'playtime': 6421, 'intimidated': 6422, 'rubberized': 6423, 'prong': 6424, 'cardboard': 6425, 'notion': 6426, 'strap': 6427, 'notifies': 6428, 'hides': 6429, '7yrs': 6430, 'winding': 6431, 'vids': 6432, 'tucked': 6433, '61': 6434, 'formatting': 6435, 'brightly': 6436, 'grands': 6437, '\\uf8ff': 6438, 'homepod': 6439, 'opera': 6440, 'participate': 6441, 'dorms': 6442, 'ounce': 6443, 'fore': 6444, 'transfered': 6445, 'roadtrip': 6446, 'buff': 6447, 'ghost': 6448, 'graduates': 6449, 'march': 6450, '149': 6451, 'minnie': 6452, 'hooray': 6453, 'wine': 6454, 'sore': 6455, 'adorable': 6456, '2010': 6457, 'individually': 6458, 'pureflix': 6459, 'zwave': 6460, 'sone': 6461, 'stark': 6462, 'dp': 6463, 'tcm': 6464, 'concert': 6465, 'pict': 6466, 'servive': 6467, 'piggyback': 6468, 'unfair': 6469, 'pot': 6470, 'sided': 6471, 'soothing': 6472, 'potato': 6473, 'sims': 6474, 'ditching': 6475, 'strikes': 6476, 'cease': 6477, 'excelente': 6478, 'retail': 6479, 'persons': 6480, 'codes': 6481, 'winning': 6482, 'texture': 6483, 'zooming': 6484, 'exercising': 6485, 'recall': 6486, 'reaches': 6487, 'centerpiece': 6488, 'multipurpose': 6489, 'backpacks': 6490, 'waits': 6491, 'costed': 6492, 'kitten': 6493, 'addtion': 6494, 'sprinklers': 6495, 'parred': 6496, 'attracted': 6497, 'hues': 6498, 'seek': 6499, 'expecially': 6500, 'optimum': 6501, 'fiancee': 6502, 'lowering': 6503, 'aroumd': 6504, 'caribbean': 6505, 'represents': 6506, 'designing': 6507, 'facilities': 6508, 'sceen': 6509, 'depend': 6510, 'triple': 6511, 'compacted': 6512, 'stuffs': 6513, 'fl': 6514, 'freebies': 6515, 'excitement': 6516, 'riddled': 6517, 'noting': 6518, 'incident': 6519, 'relying': 6520, 'accents': 6521, 'discharges': 6522, 'sketchy': 6523, 'david': 6524, 'branch': 6525, 'fifteen': 6526, 'advisor': 6527, 'tiresome': 6528, 'fingerprint': 6529, 'doa': 6530, 'nasty': 6531, 'difficulties': 6532, 'thicker': 6533, 'unauthorized': 6534, 'painfully': 6535, 'caching': 6536, 'unsatisfied': 6537, 'grafics': 6538, 'achievements': 6539, 'dealership': 6540, 'meantime': 6541, 'applied': 6542, 'smarthings': 6543, 'issued': 6544, 'loft': 6545, 'surfed': 6546, 'frees': 6547, 'ear': 6548, 'memeber': 6549, 'childproof': 6550, 'credited': 6551, 'ut': 6552, 'equivalent': 6553, 'applying': 6554, 'greats': 6555, 'decode': 6556, 'amason': 6557, 'misunderstanding': 6558, 'speeker': 6559, 'hearthstone': 6560, 'silky': 6561, 'discussing': 6562, 'thanking': 6563, 'sleekness': 6564, 'paw': 6565, 'hybrid': 6566, 'existed': 6567, 'shipment': 6568, 'ipad2': 6569, 'diference': 6570, 'cox': 6571, 'modify': 6572, 'walled': 6573, 'garden': 6574, 'reporting': 6575, 'uninterrupted': 6576, 'traveler': 6577, 'spacing': 6578, 'corporate': 6579, 'giveaways': 6580, 'ohio': 6581, 'modules': 6582, 'ore': 6583, 'gigabit': 6584, 'dx': 6585, 'daddy': 6586, 'galore': 6587, 'simplified': 6588, 'communicating': 6589, 'snuff': 6590, 'deter': 6591, 'mkv': 6592, 'tactile': 6593, 'distortion': 6594, 'complimentary': 6595, 'temptation': 6596, 'guided': 6597, 'educate': 6598, 'coating': 6599, 'attract': 6600, 'frequencies': 6601, 'cure': 6602, 'recurring': 6603, 'attribute': 6604, 'discreet': 6605, 'amz': 6606, 'tastes': 6607, 'restock': 6608, 'region': 6609, 'subway': 6610, 'seemless': 6611, 'manufacturers': 6612, 'owe': 6613, 'banner': 6614, 'bridal': 6615, 'geeks': 6616, 'ly': 6617, 'rehab': 6618, 'enrolled': 6619, 'toolbar': 6620, 'indefinite': 6621, 'butt': 6622, 'elaborate': 6623, 'girlfriends': 6624, 'extraordinary': 6625, 'whe': 6626, 'cycles': 6627, 'earn': 6628, 'june': 6629, 'precious': 6630, 'bookstore': 6631, 'biting': 6632, 'thy': 6633, 'freinds': 6634, 'adb': 6635, 'spam': 6636, 'excessive': 6637, 'withstands': 6638, 'workaround': 6639, 'squirrelly': 6640, 'wires': 6641, 'navigateperfect': 6642, 'docking': 6643, 'techs': 6644, '10th': 6645, 'relays': 6646, 'massive': 6647, 'formy': 6648, 'livingroom': 6649, 'loan': 6650, 'netflixs': 6651, 'inclusion': 6652, 'giveaway': 6653, '300dpi': 6654, 'gaining': 6655, 'cooks': 6656, \"70's\": 6657, 'breadth': 6658, 'schlage': 6659, 'escape': 6660, 'assortment': 6661, 'uncommon': 6662, 'obnoxious': 6663, 'iy': 6664, 'compliments': 6665, 'spur': 6666, 'aaa': 6667, 'happiest': 6668, 'noob': 6669, 'wash': 6670, 'tiring': 6671, 'uodates': 6672, 'caveman': 6673, 'friendlier': 6674, 'scoop': 6675, 'veteran': 6676, 'mm': 6677, 'alexas': 6678, 'unconditional': 6679, 'camp': 6680, 'exclaimed': 6681, 'cats': 6682, 'scattered': 6683, 'dates': 6684, 'unplugging': 6685, 'buds': 6686, 'headed': 6687, 'preschool': 6688, 'fascinated': 6689, \"try's\": 6690, 'dragging': 6691, 'sf': 6692, 'seals': 6693, 'delayed': 6694, 'confusion': 6695, '50s': 6696, 'repeats': 6697, 'simplistic': 6698, 'afternoon': 6699, 'dogs': 6700, 'bullet': 6701, 'obey': 6702, 'curved': 6703, \"bee's\": 6704, 'topics': 6705, 'heft': 6706, 'johnny': 6707, 'thousand': 6708, '94': 6709, 'nobles': 6710, 'interrupt': 6711, 'alter': 6712, 'tamron': 6713, 'proofing': 6714, 'zoo': 6715, 'eyeing': 6716, 'discontinue': 6717, 'zeepad': 6718, 'morris': 6719, 'knight': 6720, 'vj': 6721, 'virgin': 6722, 'filters': 6723, 'ceased': 6724, 'preset': 6725, 'prises': 6726, 'bull': 6727, 'prone': 6728, 'genuinely': 6729, 'accidents': 6730, 'papperwhite': 6731, 'surpass': 6732, 'amzn': 6733, 'albums': 6734, 'paperless': 6735, 'childrens': 6736, 'certified': 6737, 'discoloration': 6738, 'inserting': 6739, 'sticking': 6740, '256': 6741, 'earbuds': 6742, 'duh': 6743, 'shoots': 6744, 'sooooo': 6745, 'ia': 6746, 'literature': 6747, 'sw': 6748, 'mimic': 6749, 'transfers': 6750, 'edited': 6751, 'ecosphere': 6752, 'bam': 6753, 'upped': 6754, 'upside': 6755, 'ourgroceries': 6756, 'hanks': 6757, 'jumpy': 6758, 'causes': 6759, 'macular': 6760, 'degeneration': 6761, 'redbox': 6762, \"'tablets'\": 6763, 'directvnow': 6764, 'dandy': 6765, 'precisely': 6766, 'branded': 6767, 'mths': 6768, 'hire': 6769, 'ingrate': 6770, 'challenges': 6771, 'community': 6772, 'forego': 6773, 'producing': 6774, 'stylist': 6775, 'preschooler': 6776, 'awseome': 6777, 'associates': 6778, 'leary': 6779, 'replacements': 6780, 'elizabeth': 6781, 'backed': 6782, \"aunt's\": 6783, 'funtionality': 6784, 'achieved': 6785, 'dare': 6786, '6gb': 6787, 'catholic': 6788, 'spreadsheet': 6789, 'segment': 6790, 'ms': 6791, 'fitted': 6792, 'parted': 6793, 'objective': 6794, 'defintely': 6795, 'paperwite': 6796, 'protocols': 6797, \"10'\": 6798, 'gret': 6799, 'blew': 6800, 'logs': 6801, 'stole': 6802, 'loveit': 6803, 'fade': 6804, 'drastically': 6805, 'preinstalled': 6806, 'workmanship': 6807, 'minimizes': 6808, 'alexsa': 6809, 'prongy': 6810, 'excuse': 6811, 'sq': 6812, 'van': 6813, 'wrist': 6814, 'raves': 6815, 'attitude': 6816, 'successful': 6817, 'squeezy': 6818, 'chnls': 6819, 'fujitv': 6820, 'bomb': 6821, 'predecessor': 6822, 'snaps': 6823, 'bd': 6824, 'slipped': 6825, 'motivates': 6826, 'smartwatch': 6827, 'doubled': 6828, 'chris': 6829, 'coz': 6830, 'ips': 6831, 'doubts': 6832, 'chromecasts': 6833, 'exceedingly': 6834, 'desperately': 6835, 'shame': 6836, 'archived': 6837, 'vendor': 6838, 'inadvertently': 6839, 'intend': 6840, 'deff': 6841, 'impression': 6842, 'placement': 6843, 'sponsored': 6844, 'approaching': 6845, 'blinds': 6846, 'generate': 6847, 'tabelt': 6848, 'nba': 6849, 'regulating': 6850, 'pagepress': 6851, 'host': 6852, 'treasure': 6853, 'invasive': 6854, 'lacked': 6855, \"competitor's\": 6856, 'marketed': 6857, 'stripped': 6858, 'amongst': 6859, 'gradually': 6860, '10in': 6861, 'appreciates': 6862, 'england': 6863, \"90's\": 6864, \"product's\": 6865, 'en': 6866, 'sur': 6867, 'crank': 6868, 'assess': 6869, 'ex': 6870, 'fumbling': 6871, 'chord': 6872, 'positional': 6873, 'bottle': 6874, 'useeasy': 6875, 'ought': 6876, 'spmc': 6877, 'interconnects': 6878, 'singer': 6879, 'flap': 6880, 'ruins': 6881, 'choppy': 6882, 'missus': 6883, 'smoothing': 6884, 'mailing': 6885, 'noice': 6886, 'cautious': 6887, 'olympics': 6888, 'snd': 6889, 'natively': 6890, 'thetap': 6891, 'disclosure': 6892, 'spares': 6893, 'voracious': 6894, 'reordering': 6895, 'knocks': 6896, 'basketball': 6897, 'spite': 6898, 'breezy': 6899, 'established': 6900, 'intentions': 6901, 'preferably': 6902, 'showcase': 6903, 'object': 6904, 'brown': 6905, 'popularity': 6906, 'fruit': 6907, 'sea': 6908, 'inanimate': 6909, 'signals': 6910, 'isp': 6911, 'reflects': 6912, 'mexican': 6913, 'bars': 6914, 'rocking': 6915, 'dongle': 6916, 'sorta': 6917, 'scratching': 6918, 'annotate': 6919, 'annotation': 6920, 'commentaries': 6921, 'messes': 6922, 'manageable': 6923, 'toting': 6924, 'encouraged': 6925, 'bounced': 6926, 'graphical': 6927, 'subsidized': 6928, 'migrate': 6929, 'netlfix': 6930, 'remorse': 6931, 'fatigued': 6932, 'dreaded': 6933, 'dorm': 6934, 'boss': 6935, 'resulting': 6936, 'unboxing': 6937, 'mike': 6938, 'persistence': 6939, 'shelve': 6940, 'imperative': 6941, 'naby': 6942, 'newby': 6943, 'algorithms': 6944, 'stage': 6945, 'compensates': 6946, 'i’ve': 6947, 'doesn’t': 6948, 'reread': 6949, 'warranties': 6950, 'continent': 6951, 'monday': 6952, 'dell': 6953, 'invented': 6954, 'washing': 6955, 'thunderstorm': 6956, 'delegated': 6957, 'releases': 6958, 'tile': 6959, 'oracle': 6960, 'troubleshoot': 6961, 'tease': 6962, 'flowers': 6963, 'amozon': 6964, 'highschool': 6965, 'safely': 6966, '60fps': 6967, 'exaggerating': 6968, 'chagrin': 6969, 'noises': 6970, 'diapointed': 6971, 'screensavers': 6972, 'sideloading': 6973, 'stats': 6974, 'viber': 6975, 'variable': 6976, 'airlines': 6977, '81': 6978, 'interfering': 6979, 'apples': 6980, 'wondered': 6981, 'theyre': 6982, 'tuner': 6983, 'rendered': 6984, 'accounting': 6985, 'shorted': 6986, 'permission': 6987, 'chore': 6988, 'proce': 6989, 'starbucks': 6990, '22': 6991, 'warehouse': 6992, 'it’s': 6993, 'airplay': 6994, 'aug': 6995, 'powers': 6996, 'bricked': 6997, 'explanatory': 6998, 'yoga': 6999, 'raga': 7000, 'withe': 7001, 'sleepy': 7002, 'inner': 7003, 'fastener': 7004, 'casts': 7005, 'cec': 7006, 'positioned': 7007, 'ministry': 7008, 'fad': 7009, \"that'\": 7010, 'meal': 7011, 'resolutions': 7012, 'wit': 7013, 'pry': 7014, 'thruout': 7015, 'monster': 7016, '“x”': 7017, 'sdhc': 7018, 'authorized': 7019, 'peppa': 7020, 'pig': 7021, 'heartbeat': 7022, 'weekdays': 7023, 'portrate': 7024, '7in': 7025, 'ouch': 7026, 'buyers': 7027, 'sponsors': 7028, 'phrasing': 7029, 'flashlight': 7030, 'realizing': 7031, 'accommodate': 7032, '5mm': 7033, 'expansive': 7034, 'seemlessly': 7035, 'fronts': 7036, 'tween': 7037, 'gardening': 7038, 'duarable': 7039, 'rented': 7040, 'omni': 7041, 'witty': 7042, 'ingredients': 7043, 'distant': 7044, 'amused': 7045, 'nieceshe': 7046, 'accepts': 7047, 'customs': 7048, 'potatoe': 7049, 'chanel': 7050, 'anazon': 7051, 'ro': 7052, 'leappad': 7053, 'sentences': 7054, 'masses': 7055, 'goofy': 7056, 'thereby': 7057, 'wad': 7058, 'executive': 7059, 'que': 7060, 'tanks': 7061, 'avr': 7062, 'inlaws': 7063, 'cookies': 7064, 'improvment': 7065, 'stephanie': 7066, 'clutches': 7067, 'specifics': 7068, 'fs1': 7069, '3yo': 7070, 'humidity': 7071, '747': 7072, 'jet': 7073, 'iso': 7074, 'eh': 7075, 'strength': 7076, 's5': 7077, 'commutes': 7078, 'chucks': 7079, 'routines': 7080, \"phone'ish\": 7081, 'complaintssome': 7082, 'gallery': 7083, 'simulating': 7084, 'upholstery': 7085, 'stain': 7086, 'plaform': 7087, 'monstrosties': 7088, 'usefulto': 7089, 'hackers': 7090, 'hung': 7091, 'impede': 7092, 'expressed': 7093, 'flixst': 7094, 'chunk': 7095, 'remot': 7096, 'imaginable': 7097, 'advirtized': 7098, 'unto': 7099, '16yr': 7100, \"6's\": 7101, 'firsthand': 7102, 'advent': 7103, 'replicates': 7104, 'enhancing': 7105, 'wikis': 7106, 'fish': 7107, 'anther': 7108, 'weatger': 7109, 'brushing': 7110, 'trendy': 7111, 'drs': 7112, 'movement': 7113, 'foor': 7114, 'websurfing': 7115, 'soup': 7116, 'addedand': 7117, 'inquiring': 7118, 'submitted': 7119, '❤❤': 7120, 'dusk': 7121, 'leads': 7122, 'intern': 7123, 'eventual': 7124, 'inventions': 7125, \"'parent'\": 7126, \"'hack'\": 7127, 'toe': 7128, 'boggling': 7129, '240gb': 7130, 'misunderstand': 7131, 'feasible': 7132, 'circumstances': 7133, 'stampede': 7134, 'ttje': 7135, 'overtime': 7136, 'suiting': 7137, 'dinosaur': 7138, 'phobe': 7139, 'contril': 7140, 'shake': 7141, 'cree': 7142, 'ts': 7143, 'cheesy': 7144, 'hugging': 7145, 'bloodhound': 7146, 'gang': 7147, 'coll': 7148, 'answe': 7149, 'grrreeat': 7150, 'paprewhite': 7151, 'overlooked': 7152, 'dreaming': 7153, 'bland': 7154, 'equates': 7155, 'nterface': 7156, 'wen': 7157, 'lounger': 7158, 'paretal': 7159, 'thos': 7160, 'boring': 7161, 'stupendous': 7162, 'journals': 7163, 'intent': 7164, 'navigated': 7165, 'bumpers': 7166, '1of': 7167, 'boos': 7168, 'undiscovered': 7169, 'waters': 7170, 'contestant': 7171, 'planty': 7172, 'outperform': 7173, 'weakens': 7174, 'subtitles': 7175, 'disabilities': 7176, 'painstakingly': 7177, 'compaters': 7178, 'grossly': 7179, 'broughtt': 7180, 'redesign': 7181, 'comedy': 7182, 'musician': 7183, 'safeguards': 7184, 'transactions': 7185, 'tix': 7186, 'yokod': 7187, 'guts': 7188, 'nerve': 7189, 'diapers': 7190, 'brenda': 7191, 'disrespectful': 7192, 'rude': 7193, 'representing': 7194, 'salary': 7195, 'interns': 7196, 'especiall': 7197, 'compalibility': 7198, 'zoomed': 7199, 'tinted': 7200, 'z3': 7201, 's3': 7202, 's4': 7203, 'g4': 7204, 'fierce': 7205, 'defintly': 7206, 'assitant': 7207, 'outclasses': 7208, '0ne': 7209, 'rally': 7210, 'ina': 7211, 'te': 7212, 'chats': 7213, 'mxiii': 7214, 'ouya': 7215, 'beachbag': 7216, 'constructive': 7217, 'seond': 7218, 'cot': 7219, 'relationships': 7220, 'interrupted': 7221, 'edgewise': 7222, 'mini2': 7223, 'junkie': 7224, 'purchashed': 7225, 'notably': 7226, 'leggy': 7227, 'timerssets': 7228, 'goverment': 7229, 'hacks': 7230, 'controllong': 7231, 'sugg': 7232, 'gretat': 7233, 'lib': 7234, 'inexpensiveexpandable': 7235, 'storagegood': 7236, 'shopperscons': 7237, 'performancelack': 7238, 'installedtouch': 7239, 'freezesscreen': 7240, 'huetoo': 7241, 'thingssound': 7242, 'goodwifi': 7243, 'onlyconclusion': 7244, 'entries': 7245, 'prety': 7246, 'gan': 7247, 'cliche': 7248, \"i'am\": 7249, 'markets': 7250, 'mere': 7251, 'mathematically': 7252, 'equation': 7253, 'auction': 7254, 'sought': 7255, 'treasures': 7256, 'whoe': 7257, 'prine': 7258, 'helpedalways': 7259, 'terminals': 7260, 'judi': 7261, 'droid': 7262, 'anticipating': 7263, 'figuratively': 7264, 'was3nt': 7265, 'wasent': 7266, 'panasonic': 7267, 'handsets': 7268, 'ppv': 7269, 'lockups': 7270, '4x': 7271, 'reputed': 7272, 'usei': 7273, 'artistgreat': 7274, 'blurring': 7275, 'cheapo': 7276, 'underlines': 7277, 'scene': 7278, 'programmer': 7279, 'repaved': 7280, 'boxwish': 7281, 'betterspeed': 7282, 'chemotherapy': 7283, 'radiation': 7284, 'facinated': 7285, 'helicopters': 7286, 'cheap2': 7287, 'handy3': 7288, 'kidscons': 7289, 'running2': 7290, 'sufficient3': 7291, 'deletion': 7292, 'consice': 7293, 'chime': 7294, 'trilogies': 7295, \"lowe's\": 7296, 'pedro': 7297, 'device4k': 7298, 'nicegreat': 7299, 'supportnegative': 7300, 'cach': 7301, 'begiiner': 7302, 'funtional': 7303, 'gpad': 7304, 'firs': 7305, 'sorted': 7306, 'qualitycons': 7307, '¡': 7308, 'sahre': 7309, 'axcess': 7310, 'cnbc': 7311, 'thisbinsteadbof': 7312, 'thrive': 7313, 'developer': 7314, 'protectors': 7315, 'sensi': 7316, 'ahold': 7317, 'solitare': 7318, 'sodoko': 7319, 'slr': 7320, 'tsa': 7321, 'screening': 7322, 'political': 7323, 'hurricane': 7324, 'matthew': 7325, 'atlantic': 7326, \"fire7's\": 7327, \"matthew's\": 7328, 'northern': 7329, 'starshine': 7330, 'norris': 7331, 'endlessly': 7332, 'addresses': 7333, 'playroom': 7334, 'calories': 7335, 'tart': 7336, 'calculating': 7337, 'hmmmm': 7338, \"this'\": 7339, 'befor': 7340, 'b00oqvzdjm': 7341, 'carta': 7342, 'epaper': 7343, 'loader': 7344, 'boops': 7345, 'netfkix': 7346, 'criends': 7347, 'docsis': 7348, \"firetv's\": 7349, 'muddy': 7350, 'rugrat': 7351, 'ruined': 7352, 'crossword': 7353, 'tihs': 7354, 'prblems': 7355, 'agian': 7356, 'nova': 7357, 'flung': 7358, 'sensible': 7359, 'lung': 7360, '1969': 7361, 'terminology': 7362, 'evrything': 7363, 'fearing': 7364, 'gamehis': 7365, 'congrats': 7366, 'respect': 7367, 'wizard': 7368, 'hardwood': 7369, 'stair': 7370, \"b'day\": 7371, 'indicators': 7372, '75th': 7373, 'cluttering': 7374, 'menial': 7375, 'weaker': 7376, 'wrecks': 7377, 'gun': 7378, 'convienence': 7379, 'warps': 7380, 'iton': 7381, 'phasing': 7382, 'fwd': 7383, 'bedt': 7384, 'youand': 7385, 'charlie': 7386, 'motions': 7387, 'groaners': 7388, 'easliy': 7389, 'presume': 7390, 'specfic': 7391, 'supera': 7392, 'gentleman': 7393, 'decade': 7394, 'life2': 7395, 'clarity3': 7396, 'circumstances4': 7397, '1005': 7398, 'document6': 7399, 'weightbelieve': 7400, 'oneself': 7401, 'theyit': 7402, 'fire1': 7403, 'claus': 7404, 'france': 7405, 'xxx': 7406, 'pound': 7407, 'retains': 7408, '65mbps': 7409, 'gen2': 7410, 'chocked': 7411, '9yrs': 7412, 'ypu': 7413, 'ike': 7414, 'snarky': 7415, 'campus': 7416, 'every1': 7417, 'phonics': 7418, 'muchbfor': 7419, 'girts': 7420, 'appreciating': 7421, 'qvc': 7422, \"tell's\": 7423, 'capitol': 7424, 'instrument': 7425, 'clairity': 7426, 'fledgling': 7427, 'reconsider': 7428, 'flicker': 7429, 'extemely': 7430, 'impacts': 7431, 'twist': 7432, 'tsnley': 7433, 'abort': 7434, 'relies': 7435, 'dl': 7436, 'gifffft': 7437, 'swiss': 7438, 'theipad': 7439, 'mny': 7440, 'identically': 7441, '20x': 7442, 'lollipop': 7443, 'basicly': 7444, 'ciunter': 7445, 'innthe': 7446, 'cashier': 7447, 'frames': 7448, 'connectable': 7449, 'union': 7450, 'café': 7451, 'hazard': 7452, 'allocate': 7453, 'granny': 7454, 'facets': 7455, 'presence': 7456, 'touchly': 7457, 'rephrase': 7458, 'preciousness': 7459, 'thee': 7460, 'othe': 7461, 'glitching': 7462, 'inspect': 7463, 'profrssional': 7464, 'cues': 7465, 'cue': 7466, 'destinations': 7467, 'cocktail': 7468, 'gh': 7469, 'helium': 7470, 'granularity': 7471, 'greta': 7472, 'authomation': 7473, 'hevc': 7474, '264': 7475, 'hi10p': 7476, 'decoded': 7477, 'coded': 7478, 'bitrate': 7479, 'cpus': 7480, 'spike': 7481, 'alertanative': 7482, 'gott': 7483, 'impresses': 7484, 'cruises': 7485, 'attack': 7486, 'ovoo': 7487, 'shd': 7488, 'superbowl': 7489, 'ignores': 7490, 'kerplot': 7491, 'gona': 7492, 'unforeseen': 7493, 'aduquate': 7494, 'rocketfish': 7495, 'appetite': 7496, 'enhancement': 7497, 'pootering': 7498, 'poot': 7499, 'gist': 7500, 'depressing': 7501, 'boufgt': 7502, 'spected': 7503, 'handly': 7504, 'deviations': 7505, 'override': 7506, 'deduction': 7507, 'alterations': 7508, 'maintain': 7509, 'macos': 7510, 'ocasional': 7511, 'lad': 7512, 'tweens': 7513, 'mature': 7514, 'homescreen': 7515, 'increideble': 7516, 'onclude': 7517, 'ooose': 7518, 'cynical': 7519, 'pump': 7520, 'profits': 7521, 'contributes': 7522, 'deny': 7523, \"unit's\": 7524, \"photo's\": 7525, 'sms': 7526, 'accessble': 7527, 'protecter': 7528, '14yo': 7529, \"'side\": 7530, \"load'\": 7531, 'wheel': 7532, 'lays': 7533, 'zelda': 7534, \"dvr's\": 7535, '182': 7536, 'ayer': 7537, 'writer': 7538, '11yr': 7539, 'sega': 7540, 'someting': 7541, 'holey': 7542, 'moley': 7543, 'productgoing': 7544, 'quickest': 7545, 'pandorra': 7546, 'folded': 7547, 'chugs': 7548, 'stalls': 7549, 'lease': 7550, 'functioanality': 7551, 'infinity': 7552, 'forgave': 7553, 'upworks': 7554, 'awesomeno': 7555, 'durabale': 7556, 'fantasticly': 7557, 'uc': 7558, 'irvine': 7559, 'answears': 7560, 'momma': 7561, 'laggs': 7562, 'hinge': 7563, 'folding': 7564, 'oversight': 7565, 'nreices': 7566, 'summed': 7567, 'finnally': 7568, 'helful': 7569, \"'read\": 7570, \"aloud'\": 7571, 'wellbad': 7572, 'buried': 7573, 'iiiiiiiiiiiiiiiiiiiiiiiiiiiiiiii': 7574, 'nsc': 7575, 'plant': 7576, 'authorities': 7577, 'happenings': 7578, 'abode': 7579, 'screws': 7580, 'teblets': 7581, 'rr': 7582, 'smallfootprint': 7583, 'sicnce': 7584, 'dmv': 7585, 'bifocals': 7586, 'september': 7587, 'joband': 7588, 'cramped': 7589, 'litchi': 7590, 'mavic': 7591, 'inexspensivd': 7592, 'medical': 7593, 'anime': 7594, 'fickle': 7595, \"arm's\": 7596, 'justright': 7597, 'aweomse': 7598, \"'stylus'\": 7599, \"'font'\": 7600, 'hiwever': 7601, 'theach': 7602, 'abt': 7603, 'painlessly': 7604, 'beneath': 7605, 'saavier': 7606, 'caséta': 7607, 'sensory': 7608, 'arithmatic': 7609, 'philps': 7610, 'commander': 7611, 'props': 7612, 'forme': 7613, 'preface': 7614, 'dragon': 7615, 'tattoo': 7616, 'brave': 7617, 'relate': 7618, 'hunger': 7619, 'trilogy': 7620, 'divergent': 7621, 'hindered': 7622, 'dive': 7623, 'inspire': 7624, 'kindall': 7625, 'kimball': 7626, 'jut': 7627, 'fond': 7628, 'hands…you': 7629, 'centre': 7630, 'gravity': 7631, '80s': 7632, 'arlo': 7633, 'ay': 7634, 'smashed': 7635, 'thet': 7636, 'vice': 7637, 'vga': 7638, 'barcodes': 7639, 'pricerange': 7640, 'usefulnot': 7641, 'ridding': 7642, 'boingo': 7643, 'bufferinggreat': 7644, 'qualityendless': 7645, 'programmingif': 7646, 'sofar': 7647, 'turkey': 7648, 'uh': 7649, 'ohs': 7650, 'mush': 7651, 'kody': 7652, 'exists': 7653, 'peeved': 7654, 'mor': 7655, 'maze': 7656, 'runner': 7657, 'actively': 7658, 'inperfections': 7659, 'gbss': 7660, 'interfaceneeds': 7661, 'progrant': 7662, 'reconment': 7663, \"'7\": 7664, 'op': 7665, 'bloomberg': 7666, 'reuters': 7667, 'concerning': 7668, 'cary': 7669, 'ffeature': 7670, 'metro': 7671, 'commuters': 7672, 'riders': 7673, \"amazon'\": 7674, 'kills': 7675, 'slimlp': 7676, 'bugger': 7677, 'giftee': 7678, 'prodigious': 7679, 'urself': 7680, 'arguement': 7681, 'tun': 7682, 'kinkle': 7683, 'amuses': 7684, 'endured': 7685, 'cheeky': 7686, 'dlls': 7687, 'joint': 7688, 'suppsed': 7689, 'lane': 7690, 'okly': 7691, 'valueble': 7692, 'magnify': 7693, 'undeniably': 7694, 'slate': 7695, 'confortable': 7696, 'tetevision': 7697, 'wasy': 7698, \"know's'\": 7699, 'elected': 7700, 'dominican': 7701, 'rebublic': 7702, 'missionaries': 7703, 'mondays': 7704, 'chill': 7705, 'ans': 7706, '190': 7707, 'oversees': 7708, 'maximal': 7709, 'aroud': 7710, 'shouting': 7711, 'cheating': 7712, '50lbs': 7713, 'cookie': 7714, 'dough': 7715, 'unfold': 7716, 'brunsch': 7717, 'comparrison': 7718, \"relative's\": 7719, 'sequentially': 7720, 'thermos': 7721, 'weekswith': 7722, 'settles': 7723, 'litte': 7724, 'ical': 7725, 'pluged': 7726, 'patch': 7727, 'thing…': 7728, 'potentially': 7729, 'bat': 7730, 'itpersonally': 7731, 'gosh': 7732, 'misinterpretation': 7733, 'mp': 7734, 'maneuvering': 7735, 'wag': 7736, 'heartily': 7737, \"set's\": 7738, 'marekting': 7739, 'creative': 7740, 'warriors': 7741, 'simplisafe': 7742, 'slowpoke': 7743, 'venture': 7744, 'lovethe': 7745, 'untimely': 7746, 'unusual': 7747, 'spews': 7748, '5year': 7749, 'sloppy': 7750, 'forte': 7751, 'aethetic': 7752, 'bouth': 7753, 'thn': 7754, 'og': 7755, 'pff': 7756, 'frozed': 7757, 'finance': 7758, 'referenced': 7759, 'quote': 7760, 'cabls': 7761, 'scream': 7762, 'attended': 7763, 'batery': 7764, 'arranged': 7765, 'programmes': 7766, 'primeits': 7767, 'memebr': 7768, 'glance': 7769, \"night's\": 7770, 'carpal': 7771, 'tunnel': 7772, 'arthritic': 7773, 'joints': 7774, 'advisable': 7775, 'exactlo': 7776, \"kobo's\": 7777, 'cadillac': 7778, 'ives': 7779, 'dent': 7780, 'afterbeing': 7781, '05': 7782, 'sunroom': 7783, 'coroporate': 7784, 'hermetically': 7785, '2005': 7786, \"friends'\": 7787, '2007': 7788, 'itso': 7789, 'disperses': 7790, 'funcion': 7791, 'deviae': 7792, 'lisp': 7793, 'believed': 7794, 'storming': 7795, 'downloead': 7796, 'xray': 7797, 'brightnesses': 7798, 'mived': 7799, 'overrated': 7800, 'youngsters': 7801, 'choldren': 7802, 'teriffic': 7803, 'excellently': 7804, 'eligible': 7805, 'tracker': 7806, 'reliabe': 7807, 'vlash': 7808, 'thhought': 7809, 'pandera': 7810, 'describe': 7811, 'annticapated': 7812, 'survey': 7813, 'gety': 7814, 'bascially': 7815, '2also': 7816, 'actresses': 7817, 'darkest': 7818, 'upgradeslove': 7819, 'preoccupied': 7820, 'covenient': 7821, 'departments': 7822, 'goodbuy': 7823, '110': 7824, '120v': 7825, '240v': 7826, 'asia': 7827, 'retrieving': 7828, 'reserve': 7829, 'fester': 7830, \"pause'\": 7831, \"play'\": 7832, 'newly': 7833, 'rural': 7834, 'revolutionize': 7835, 'jars': 7836, 'female': 7837, 'fiber': 7838, 'optic': 7839, 'havoc': 7840, '25mgb': 7841, 'pointer': 7842, 'systemes': 7843, 'replacedvoice': 7844, 'madeno': 7845, 'featurestill': 7846, 'telly': 7847, 'lefthand': 7848, 'fastbooth': 7849, 'adhd': 7850, 'malicious': 7851, 'wuestions': 7852, 'recites': 7853, 'hs': 7854, 'updatesshe': 7855, 'yetlove': 7856, 'trucks': 7857, 'seasin': 7858, 'awfully': 7859, 'elliptical': 7860, 'orientation': 7861, 'laston': 7862, '“dual': 7863, '”': 7864, 'remembered': 7865, 'succeed': 7866, 'aren’t': 7867, 'wouldn’t': 7868, 'batterey': 7869, 'worldwide': 7870, 'crestron': 7871, 'paging': 7872, 'littetly': 7873, 'debice': 7874, 'citation': 7875, 'libro': 7876, 'electrónico': 7877, 'práctico': 7878, 'puedes': 7879, 'tener': 7880, 'todos': 7881, 'libros': 7882, 'ahí': 7883, 'dirtying': 7884, 'reside': 7885, 'registers': 7886, 'ge': 7887, 'conditioners': 7888, 'academics': 7889, '7year': 7890, \"work's\": 7891, 'usages': 7892, 'unsatisfactory': 7893, '100m': 7894, 'prayers': 7895, 'eyeglasses': 7896, 'includeing': 7897, 'praises': 7898, 'ager': 7899, 'memorable': 7900, 'polka': 7901, 'generas': 7902, 'polkas': 7903, 'keen': 7904, 'conservation': 7905, 'outdid': 7906, 'facedown': 7907, 'showtimes': 7908, 'forewarning': 7909, 'aligning': 7910, 'signup': 7911, 'onternet': 7912, 'investigate': 7913, 'configurable': 7914, 'weighteasy': 7915, 'wooo': 7916, 'sizegood': 7917, 'andy': 7918, 'opitions': 7919, 'endure': 7920, 'customet': 7921, 'ireader': 7922, 'vesion': 7923, 'designer': 7924, 'lullabys': 7925, 'minions': 7926, 'forcasts': 7927, 'sustaining': 7928, 'toexpand': 7929, 'fitting': 7930, 'gliches': 7931, 'inter': 7932, 'blended': 7933, 'reclaimed': 7934, 'jwbroadcasting': 7935, 'peoria': 7936, 'tge': 7937, 'preorder': 7938, 'slept': 7939, 'unsnaps': 7940, 'usablity': 7941, \"features…don't\": 7942, 'eases': 7943, 'coarse': 7944, 'peperwhite': 7945, 'miniature': 7946, 'resides': 7947, 'island': 7948, 'thatyou': 7949, \"'adequate'\": 7950, 'talent': 7951, 'limites': 7952, 'anecdotes': 7953, 'fantastics': 7954, 'longtime': 7955, 'inaccessible': 7956, 'strem': 7957, 'comical': 7958, 'searchable': 7959, 'puchased': 7960, 'capabilties': 7961, 'drier': 7962, 'gather': 7963, 'amat': 7964, 'tivi': 7965, 'accedently': 7966, 'experimentation': 7967, 'voicecast': 7968, 'reaponse': 7969, 'auidobooks': 7970, 'overviews': 7971, 'recaps': 7972, 'cartwheel': 7973, 'ihart': 7974, 'weightcons': 7975, 'deviceoverall': 7976, 'madman': 7977, 'honesty': 7978, 'multimedia': 7979, 'advertized': 7980, 'stepson': 7981, 'batterry': 7982, 'gre': 7983, 'inverse': 7984, 'beatings': 7985, 'alaska': 7986, \"clippings'\": 7987, 'rests': 7988, 'tabletyou': 7989, 'usin': 7990, 'grownup': 7991, 'cooperate': 7992, 'quikrev': 7993, 'fiiiiiiyah': 7994, 'cheddar': 7995, 'rectangle': 7996, 'interwebz': 7997, 'wo': 7998, 'beefy': 7999, 'proprietory': 8000, 'luke': 8001, 'counterparts': 8002, 'ungraded': 8003, 'squeaking': 8004, 'overwhelmed': 8005, 'convoluted': 8006, 'scribed': 8007, \"week's\": 8008, 'stressful': 8009, 'lecture': 8010, 'recommeneded': 8011, 'differencemuch': 8012, 'goofing': 8013, 'minimized': 8014, 'spreed': 8015, 'especialyl': 8016, 'unbelievible': 8017, 'oomph': 8018, 'freatures': 8019, 'rubs': 8020, 'nerds': 8021, 'tutoring': 8022, 'thear': 8023, 'clams': 8024, 'astonishing': 8025, 'unrivaled': 8026, 'african': 8027, 'baskey': 8028, 'giftlistening': 8029, 'paws': 8030, 'priorities': 8031, '52': 8032, 'generously': 8033, 'thread': 8034, 'challange': 8035, 'ul': 8036, 'listeda': 8037, '04': 8038, 'distinction': 8039, 'onsale': 8040, 'dale': 8041, 'discontinuing': 8042, 'dimension': 8043, 'remodel': 8044, 'paperwight': 8045, 'primer': 8046, 'friendas': 8047, 'temperamental': 8048, 'sneakily': 8049, 'donation': 8050, 'undoubtedly': 8051, 'envy': 8052, 'serfing': 8053, 'fitthat': 8054, 'grille': 8055, 'mesh': 8056, 'grilles': 8057, 'micrphones': 8058, 'flex': 8059, 'drug': 8060, 'shortfalls': 8061, 'heres': 8062, 'andcis': 8063, 'feeds': 8064, 'ican': 8065, 'rearvision': 8066, 'mounts': 8067, 'magnetically': 8068, 'vent': 8069, 'frontier': 8070, 'concisely': 8071, 'qualityonly': 8072, 'struck': 8073, 'fiddling': 8074, 'lowlight': 8075, 'elk': 8076, 'grove': 8077, 'surcharges': 8078, 'bby01': 8079, '800223005180': 8080, 'intercome': 8081, 'viedos': 8082, 'verification': 8083, 'administrator': 8084, 'tossing': 8085, '3m': 8086, 'recordings': 8087, 'bolt': 8088, 'wil': 8089, 'moneyenough': 8090, 'gamesdecent': 8091, 'lifecons': 8092, 'weekslow': 8093, 'frankfort': 8094, 'inthe': 8095, 'simplty': 8096, 'catagories': 8097, 'putchase': 8098, 'crooked': 8099, 'ponder': 8100, 'smudged': 8101, 'googlke': 8102, 'avway': 8103, 'acceptance': 8104, 'somthing': 8105, 'agood': 8106, 'expunged': 8107, 'projected': 8108, 'thirds': 8109, 'realistically': 8110, 'biiger': 8111, 'wells': 8112, 'socketsss': 8113, 'societyit': 8114, 'covenant': 8115, 'nickjr': 8116, 'vday': 8117, 'pricinr': 8118, 'f8nd': 8119, 'cert': 8120, 'millionaire': 8121, 'questioned': 8122, 'programmings': 8123, 'enrolls': 8124, 'fundamental': 8125, 'peoduct': 8126, 'it2': 8127, 'flips': 8128, 'uncertainty': 8129, \"'bout\": 8130, 'reliance': 8131, 'loveeeeeeeee': 8132, 'protrvtion': 8133, 'male': 8134, 'gp': 8135, 'allthe': 8136, 'bombardment': 8137, 'himsince': 8138, 'hoopla': 8139, 'exploit': 8140, 'squint': 8141, 'measures': 8142, 'svc': 8143, 'privilege': 8144, \"plex's\": 8145, 'excetera': 8146, 'import': 8147, 'docx': 8148, 'whatsover': 8149, 'modifiable': 8150, 'aand': 8151, 'saveing': 8152, 'toown': 8153, 'videochat': 8154, 'unleash': 8155, 'advises': 8156, 'didn���t': 8157, 'rig': 8158, 'assumwd': 8159, 'hover': 8160, 'rj': 8161, 'logically': 8162, 'snacks': 8163, 'beverages': 8164, 'spindle': 8165, 'dwindle': 8166, 'wheni': 8167, 'hasmore': 8168, 'activations': 8169, 'rattle': 8170, 'prepping': 8171, 'attire': 8172, 'toldpeople': 8173, 'canle': 8174, 'clogs': 8175, 'timed': 8176, 'woul': 8177, 'loudest': 8178, 'shelp': 8179, 'unions': 8180, 'stepkids': 8181, 'origanally': 8182, 'whip': 8183, 'receives': 8184, 'babysit': 8185, 'stil': 8186, 'overview': 8187, 'livetv': 8188, 'discplayer': 8189, 'aliza': 8190, 'ignorance': 8191, 'kiss': 8192, 'indigenous': 8193, 'utilizes': 8194, 'documenting': 8195, 'awsomo': 8196, 'educationally': 8197, 'rolls': 8198, 'dramatically': 8199, 'coo': 8200, 'putin': 8201, 'bedtimes': 8202, 'claiming': 8203, 'ruining': 8204, 'recuperating': 8205, 'synchs': 8206, 'daighter': 8207, 'floating': 8208, 'resultion': 8209, '3mb': 8210, '720': 8211, 'tranfer': 8212, 'workhorse': 8213, 'summaries': 8214, 'horse': 8215, \"echoi'm\": 8216, 'dudes': 8217, 'linger': 8218, 'poetry': 8219, 'wholeheartedly': 8220, 'paralyzed': 8221, 'steamed': 8222, 'shadings': 8223, 'amazonproducts': 8224, 'farmers': 8225, 'almanac': 8226, 'industrial': 8227, 'blend': 8228, '1200': 8229, 'behemoth': 8230, 'carting': 8231, 'lamplight': 8232, 'eagerness': 8233, 'warrants': 8234, 'revolving': 8235, 'motivation': 8236, 'dismay': 8237, 'ip': 8238, 'itnow': 8239, 'unschooled': 8240, 'osmo': 8241, 'usking': 8242, 'guft': 8243, 'everside': 8244, 'papa': 8245, 'toddlerseasy': 8246, 'carryeasy': 8247, 'realise': 8248, 'wwan': 8249, 'esay': 8250, 'observe': 8251, 'powerpoints': 8252, \"'grown\": 8253, \"up'\": 8254, 'advising': 8255, 'begging': 8256, 'rebooting': 8257, 'afforable': 8258, 'memberkodi': 8259, 'kf': 8260, 'declined': 8261, 'booksdoes': 8262, 'blackfriday': 8263, '\\u200bis': 8264, 'tab2': 8265, 'hight': 8266, 'fugured': 8267, '5star': 8268, 'promices': 8269, 'expire': 8270, 'wedsite': 8271, 'di': 8272, 'champions': 8273, 'strike': 8274, 'tickets': 8275, 'bert': 8276, 'usecheapexpandable': 8277, 'cardcons': 8278, 'loadscheap': 8279, 'everythings': 8280, 'rhougjt': 8281, 'paperwhits': 8282, 'jury': 8283, 'mercy': 8284, 'downsize': 8285, 'cad': 8286, 'farfield': 8287, 'asr': 8288, 'gurantee': 8289, 'resulted': 8290, 'comparability': 8291, 'versital': 8292, 'lottery': 8293, '450': 8294, 'hop': 8295, 'finances': 8296, 'privileged': 8297, 'district': 8298, 'watche': 8299, 'duplicates': 8300, 'camerakids': 8301, 'stomach': 8302, 'centerpoint': 8303, 'craigslist': 8304, 'itwhat': 8305, \"girl's\": 8306, 'housecleaning': 8307, \"don's\": 8308, 'sink': 8309, 'surfingnewsreaderaudio': 8310, 'playernetflix': 8311, \"etcwhat's\": 8312, 'gpsscreen': 8313, 'glarefree': 8314, 'kindergartener': 8315, 'proving': 8316, 'colorado': 8317, 'kdis': 8318, 'emailand': 8319, 'astronomical': 8320, 'swems': 8321, 'purchasei': 8322, 'hyped': 8323, 'smartmode': 8324, 'amazan': 8325, 'credible': 8326, 'enlargable': 8327, 'multiplied': 8328, 'functinality': 8329, 'iof': 8330, 'cheapies': 8331, 'sixty': 8332, 'smarts': 8333, 'avarage': 8334, 'featuring': 8335, 'tvits': 8336, 'metaphorical': 8337, 'verities': 8338, 'skipped': 8339, 'passion': 8340, 'usenet': 8341, 'dualcore': 8342, 'intenet': 8343, '2days': 8344, '30sec': 8345, 'spongbob': 8346, 'tk': 8347, 'bix': 8348, 'mot': 8349, 'askin': 8350, 'solidified': 8351, 'yhis': 8352, '5x': 8353, 'wemu': 8354, 'posibilities': 8355, 'controler': 8356, 'dived': 8357, 'heartedly': 8358, 'costco': 8359, 'cares': 8360, 'exho': 8361, 'lunches': 8362, 'backseat': 8363, 'iteration': 8364, 'slgihtly': 8365, 'tomany': 8366, 'timeverything': 8367, 'spofity': 8368, 'perfectbattery': 8369, 'greatease': 8370, 'omnidirectional': 8371, 'orederd': 8372, 'adjoining': 8373, 'mounted': 8374, 'reportsalso': 8375, 'amazement': 8376, 'reentering': 8377, 'smartness': 8378, 'enhanse': 8379, 'sre': 8380, 'mire': 8381, 'embedded': 8382, 'cubby': 8383, 'unnoticeable': 8384, 'defender': 8385, 'disallow': 8386, 'dangers': 8387, 'crippled': 8388, 'kernel': 8389, 'goings': 8390, 'maine': 8391, 'simp': 8392, 'backloght': 8393, 'screencons': 8394, 'frustratingwith': 8395, 'grad': 8396, 'api': 8397, \"uri's\": 8398, 'replacemwnt': 8399, 'morealso': 8400, 'product…': 8401, 'fiddled': 8402, 'possessing': 8403, 'craving': 8404, 'pencil': 8405, 'pencils': 8406, 'bee': 8407, 'preformed': 8408, 'lightened': 8409, 'ranting': 8410, 'gecksqd': 8411, 'accomplishing': 8412, \"kindle'family'\": 8413, 'pave': 8414, 'eady': 8415, 'aesthetically': 8416, 'tasked': 8417, 'placemnt': 8418, \"din't\": 8419, 'staples': 8420, 'wan': 8421, 'samsaung': 8422, 'bided': 8423, 'bloom': 8424, 'increasingly': 8425, 'preconfigured': 8426, 'apron': 8427, 'surrounded': 8428, 'proposition': 8429, 'prefered': 8430, 'respectively': 8431, 'unwrapped': 8432, 'truely': 8433, 'wnjoyed': 8434, 'layovers': 8435, 'withyour': 8436, 'lifelike': 8437, 'shipboard': 8438, 'defeat': 8439, 'expirience': 8440, 'kiosks': 8441, 'pta': 8442, 'flowing': 8443, 'fuzzy': 8444, 'personnel': 8445, 'miore': 8446, 'gate': 8447, 'miro': 8448, 'dizzying': 8449, 'delegating': 8450, 'foremost': 8451, 'alleviating': 8452, 'considerate': 8453, '2thumbs': 8454, 'prodcut': 8455, 'fixtures': 8456, 'visio': 8457, 'unstoppable': 8458, 'connell': 8459, 'tilted': 8460, 'lid': 8461, 'ata': 8462, 'freedoms': 8463, 'enouph': 8464, 'suck': 8465, 'fm': 8466, 'slates': 8467, '15yr': 8468, '14yr': 8469, 'stuffing': 8470, 'stockers': 8471, 'aver': 8472, 'prop': 8473, 'reciprocate': 8474, 'karaoke': 8475, 'apt': 8476, 'starng': 8477, 'friendlyi': 8478, 'teachers': 8479, 'photograher': 8480, 'amout': 8481, 'sdmini': 8482, 'wrk': 8483, 'shifts': 8484, 'highlygreat': 8485, 'competitively': 8486, 'sentence': 8487, \"'tell\": 8488, 'computerized': 8489, 'unintelligible': 8490, 'composers': 8491, 'abruptly': 8492, 'singers': 8493, 'ste': 8494, \"'echo\": 8495, \"dot'\": 8496, 'qualify': 8497, 'purist': 8498, 'googled': 8499, 'googlehome': 8500, 'hahahahahahahhahahahahahahahhaha': 8501, 'alexus': 8502, 'rationalize': 8503, 'matted': 8504, 'san': 8505, 'antonio': 8506, 'spurs': 8507, 'overalls': 8508, 'daughterthere': 8509, 'nick': 8510, 'carte': 8511, 'widowed': 8512, \"80's\": 8513, 'hulk': 8514, 'progressing': 8515, 'contorl': 8516, 'phon': 8517, 'pe': 8518, 'supportive': 8519, 'perferomance': 8520, 'paris': 8521, 'identity': 8522, 'prevalent': 8523, 'gaget': 8524, 'minuses': 8525, 'leveraging': 8526, 'exotic': 8527, 'courteous': 8528, 'feaures': 8529, 'recomendable': 8530, 'burns': 8531, 'forecaster': 8532, 'multiroom': 8533, 'brows': 8534, 'unintuitive': 8535, 'megaboom': 8536, 'goods': 8537, 'squenting': 8538, 'phne': 8539, 'rundown': 8540, 'fustrution': 8541, 'gbox': 8542, 'servesany': 8543, 'yetfastestand': 8544, 'yield': 8545, 'bop': 8546, 'snatched': 8547, 'appletvs': 8548, 'permeated': 8549, 'rectify': 8550, 'tabletsas': 8551, 'br': 8552, 'lr': 8553, 'yourbedmate': 8554, 'shill': 8555, 'personification': 8556, \"woman's\": 8557, 'shoe': 8558, 'serena': 8559, \"williams'\": 8560, 'guns': 8561, 'ruger': 8562, 'maturity': 8563, 'hd6': 8564, 'excellentwireless': 8565, 'upgreat': 8566, 'musicamazinggreat': 8567, 'mackbook': 8568, 'airs': 8569, 'tvsi': 8570, 'modding': 8571, 'freakin': 8572, 'html': 8573, 'pinks': 8574, 'survive': 8575, 'multifunction': 8576, 'summons': 8577, 'piled': 8578, 'browsethis': 8579, 'deepy': 8580, 'barry': 8581, \"diller's\": 8582, 'richest': 8583, 'admits': 8584, 'gloss': 8585, 'ond': 8586, 'beggnners': 8587, 'determination': 8588, \"stations'\": 8589, \"lists'\": 8590, 'cleverly': 8591, 'devised': 8592, 'slipping': 8593, \"2's\": 8594, 'heckpros': 8595, 'prettyfunctionalcons': 8596, 'slipperyexpensive': 8597, 'brakes': 8598, 'obly': 8599, \"hearts'\": 8600, 'goodwas': 8601, 'pennybought': 8602, 'houses': 8603, 'fascinates': 8604, \"fiance's\": 8605, \"chicago's\": 8606, 'hamilton': 8607, 'chernow': 8608, 'writes': 8609, 'worksheets': 8610, 'colleagues': 8611, 'actly': 8612, 'ridcously': 8613, 'ifap': 8614, 'cs': 8615, 'steel': 8616, 'itmstore': 8617, \"where'd\": 8618, 'phantom': 8619, 'hisband': 8620, 'resent': 8621, 'escalated': 8622, 'mcsd': 8623, 'duck': 8624, 'imply': 8625, 'parlor': 8626, 'sillly': 8627, 'furthermore': 8628, 'everyones': 8629, 'thaler': 8630, 'thsee': 8631, 'commend': 8632, 'mindset': 8633, 'arte': 8634, 'thrilledwith': 8635, 'disadvantages': 8636, 'steamer': 8637, 'tweeks': 8638, 'joystick': 8639, 'becouse': 8640, 'aforedabul': 8641, 'cuvenet': 8642, 'whites': 8643, 'multiform': 8644, 'simultaneousso': 8645, 'stab': 8646, 'efficicient': 8647, 'recommenf': 8648, 'duly': 8649, '129': 8650, 'itttttt': 8651, 'whispered': 8652, 'fridaypros': 8653, 'soundwell': 8654, 'builtcons': 8655, 'storenet': 8656, 'sheild': 8657, 'milk': 8658, 'thanked': 8659, 'greeting': 8660, 'enchanced': 8661, 'noticing': 8662, 'determined': 8663, 'evaluating': 8664, 'unpair': 8665, 'beater': 8666, 'steamy': 8667, 'expansionfor': 8668, '7”': 8669, 'can’t': 8670, 'contemplation': 8671, 'fot': 8672, 'newbies': 8673, 'receipts': 8674, 'backups': 8675, 'lotmore': 8676, 'affortable': 8677, 'interractions': 8678, 'grayish': 8679, 'wasteful': 8680, 'anticipation': 8681, 'impending': 8682, 'jean': 8683, 'busted': 8684, 'puncture': 8685, \"screen's\": 8686, 'epad': 8687, 'lies': 8688, 'disarm': 8689, 'desciples': 8690, 'byod': 8691, 'howto': 8692, 'meanwhile': 8693, 'moko': 8694, 'fruition': 8695, 'riverbank': 8696, 'upto': 8697, 'acceries': 8698, 'wheelchair': 8699, 'habe': 8700, \"brother's\": 8701, 'prieo': 8702, 'vanity': 8703, 'unavoidable': 8704, 'tappy': 8705, 'famous': 8706, 'paperwork': 8707, 'screenlike': 8708, 'feachers': 8709, 'goodexcellent': 8710, 'hq': 8711, 'beacuse': 8712, 'sorely': 8713, 'allied': 8714, 'cushioning': 8715, 'orpaperback': 8716, 'recomment': 8717, \"game's\": 8718, 'grabs': 8719, 'flashes': 8720, 'decreased': 8721, 'plate': 8722, 'whos': 8723, 'miserably': 8724, 'zeus': 8725, 'schoolers': 8726, 'watchlist': 8727, 'faves': 8728, 'gouged': 8729, 'dropcam': 8730, \"sport's\": 8731, 'misorder': 8732, 'crisus': 8733, 'haul': 8734, 'comfy': 8735, 'fire8': 8736, 'und': 8737, 'wwere': 8738, 'townhouse': 8739, 'hemming': 8740, 'hawing': 8741, \"t's\": 8742, 'diffuses': 8743, 'demos': 8744, \"'playing'\": 8745, 'tango': 8746, '2yo': 8747, 'downcovert': 8748, 'legacy': 8749, 'everyboby': 8750, 'favoite': 8751, 'crying': 8752, 'doesnwhat': 8753, 'intentionally': 8754, 'impact': 8755, 'director': 8756, 'deadbolts': 8757, 'temps': 8758, 'chews': 8759, 'snapshot': 8760, 'scraping': 8761, 'library…finds': 8762, 'experiment…': 8763, 'voraciously': 8764, 'outlr': 8765, 'boight': 8766, 'charming': 8767, 'lakers': 8768, 'vidios': 8769, 'teeny': 8770, 'seats': 8771, 'selects': 8772, 'feedbackthe': 8773, 'pixelation': 8774, 'zigbee': 8775, 'summarize': 8776, \"l'il\": 8777, 'entratainment': 8778, 'disappears': 8779, 'disallows': 8780, 'manipulating': 8781, 'thiers': 8782, 'weakest': 8783, 'jaggies': 8784, 'siriamazon': 8785, 'adopt': 8786, 'hangouts': 8787, 'spiffy': 8788, 'gatherings': 8789, 'buzz': 8790, 'suffering': 8791, '1week': 8792, \"'okay'\": 8793, 'indicate': 8794, \"'shadow'\": 8795, 'explanation': 8796, 'conclusions': 8797, \"'disposable'\": 8798, 'efficacy': 8799, 'humbly': 8800, 'tilt': 8801, 'recap': 8802, 'boundbook': 8803, 'baser': 8804, 'paypal': 8805, 'fictions': 8806, 'corresponding': 8807, 'preffered': 8808, 'matches': 8809, 'browsingnetflixemail': 8810, 'sincei': 8811, 'invocations': 8812, 'squinting': 8813, 'knockoff': 8814, \"this'll\": 8815, 'spouserecommend': 8816, 'excessively': 8817, 'sir': 8818, 'goog': 8819, 'ther': 8820, 'semester': 8821, 'undergraduate': 8822, 'biology': 8823, '750': 8824, '92': 8825, 'bejewled': 8826, 'peoples': 8827, 'announcedherself': 8828, 'conversing': 8829, 'wordless': 8830, 'pictorialstart': 8831, 'primitive': 8832, 'vague': 8833, 'thisdevice': 8834, 'thatfills': 8835, 'protocol': 8836, 'toattach': 8837, 'bladerunner': 8838, 'retrieves': 8839, 'cringed': 8840, 'exhaust': 8841, 'fahrenheit': 8842, 'celsius': 8843, 'perforrm': 8844, 'mathematical': 8845, 'timeit': 8846, 'lastlonger': 8847, 'cringing': 8848, 'everythig': 8849, 'figertips': 8850, 'usd50': 8851, 'jackpot': 8852, 'depleted': 8853, 'yoi': 8854, 'kendall': 8855, 'obstinate': 8856, 'adverse': 8857, 'adores': 8858, 'tempature': 8859, 'row': 8860, 'consecutive': 8861, 'havint': 8862, 'sean': 8863, 'fluff': 8864, 'opportunities': 8865, 'knob': 8866, \"'voice\": 8867, 'boasts': 8868, 'easel': 8869, 'vote': 8870, 'onable': 8871, 'brochure': 8872, 'aint': 8873, 'purchsed': 8874, 'commanded': 8875, 'smokes': 8876, 'proponent': 8877, 'clap': 8878, 'holler': 8879, 'developes': 8880, 'insall': 8881, 'anxiously': 8882, 'judiemae': 8883, 'huawei': 8884, \"nieces'\": 8885, \"nephews'\": 8886, 'purchaed': 8887, 'disappointedpros': 8888, 'slotcons': 8889, 'pdif': 8890, 'pol': 8891, 'totalling': 8892, 'heaper': 8893, 'concentrated': 8894, 'putchased': 8895, 'protest': 8896, 'onrs': 8897, 'outweighed': 8898, 'bugging': 8899, 'alt': 8900, 'nation': 8901, 'destination': 8902, 'mumble': 8903, 'multile': 8904, 'interactivity': 8905, 'rumored': 8906, 'marketamazon': 8907, 'quailty': 8908, 'creaks': 8909, 'persists': 8910, 'sourced': 8911, 'preditable': 8912, 'locating': 8913, 'wastes': 8914, 'expiring': 8915, 'flixter': 8916, 'assisting': 8917, 'poeerfyul': 8918, 'fastet': 8919, 'technilogical': 8920, 'circular': 8921, 'goody': 8922, 'stove': 8923, 'grasp': 8924, 'lightswish': 8925, 'grandniece': 8926, 'thks': 8927, 'minuscule': 8928, 'prenatal': 8929, 'carter': 8930, 'alwyas': 8931, 'fishtank': 8932, 'composer': 8933, 'instantaneously': 8934, 'allegedly': 8935, 'misbehaving': 8936, 'kennedy': 8937, 'complimented': 8938, 'prepay': 8939, 'complantes': 8940, 'shockproof': 8941, 'drawl': 8942, 'bedsides': 8943, 'nonexpensive': 8944, 'roadtrips': 8945, 'prefere': 8946, 'slugginess': 8947, 'sinced': 8948, 'multitask': 8949, 'matured': 8950, 'labtop': 8951, 'imaging': 8952, 'versility': 8953, 'conditioning': 8954, 'firegreat': 8955, 'formated': 8956, 'xfat': 8957, 'werent': 8958, 'coc': 8959, 'wayyyyy': 8960, 'portablebility': 8961, 'lithium': 8962, 'wasd': 8963, 'credenza': 8964, 'readand': 8965, 'transmitted': 8966, 'downsizing': 8967, 'stare': 8968, 'blinded': 8969, 'scanned': 8970, 'woo': 8971, 'xs': 8972, 'stupidly': 8973, 'dts': 8974, 'inpatient': 8975, 'ourvsed': 8976, 'simpliar': 8977, \"tab's\": 8978, 'availablesare': 8979, 'an3': 8980, 'darkens': 8981, 'transforming': 8982, 'afterwards': 8983, 'shuttle': 8984, 'mitsubishi': 8985, 'minimalist': 8986, 'rediscovered': 8987, 'clog': 8988, 'shelves': 8989, 'rehearsal': 8990, 'accommodates': 8991, 'use6': 8992, 'graphics7': 8993, 'dislikes': 8994, 'provision': 8995, '2x': 8996, 'abandon': 8997, \"were't\": 8998, 'movable': 8999, 'extreamly': 9000, 'lightweright': 9001, 'readale': 9002, 'suckered': 9003, \"parents'\": 9004, 'difiitioin': 9005, 'yous': 9006, 'deleting': 9007, 'triplet': 9008, 'qwerks': 9009, 'bes': 9010, 'themail': 9011, 'assignmentshe': 9012, 'baggie': 9013, 'havei': 9014, 'stockpiling': 9015, 'ocean': 9016, 'blotware': 9017, 'cap': 9018, 'buggers': 9019, 'issuing': 9020, 'pariah': 9021, 'crossy': 9022, 'clearness': 9023, 'barebones': 9024, 'ineternet': 9025, 'thunder': 9026, 'rewording': 9027, 'aweosme': 9028, '16th': 9029, 'enroll': 9030, 'sinking': 9031, 'brighten': 9032, 'lightswitch': 9033, 'arbitrarily': 9034, 'radius': 9035, 'unending': 9036, 'geographical': 9037, 'backgound': 9038, 'egg': 9039, 'carton': 9040, 'restate': 9041, 'mojo': 9042, 'prohibitive': 9043, 'outdose': 9044, 'crochet': 9045, 'md': 9046, 'continiasly': 9047, 'fustrating': 9048, 'recreation': 9049, 'bashing': 9050, 'thatis': 9051, 'quiz': 9052, 'fussy': 9053, 'burnt': 9054, 'caseta': 9055, 'speechless': 9056, 'bluish': 9057, 'distracts': 9058, 'particuly': 9059, 'reserved': 9060, 'kathleen': 9061, 'stroyek': 9062, 'mu': 9063, 'otoh': 9064, 'offended': 9065, 'arch': 9066, 'crosby': 9067, 'infrequently': 9068, 'mpbs': 9069, 'kingroot': 9070, 'roms': 9071, 'needgood': 9072, 'ninety': 9073, 'expectionations': 9074, 'topped': 9075, 'workable': 9076, 'alternatve': 9077, 'teenaged': 9078, 'graded': 9079, '1mobile': 9080, 'orbo': 9081, 'wimo': 9082, \"xbmc's\": 9083, \"kodi's\": 9084, 'shrugs': 9085, 'capacities': 9086, 'admin': 9087, 'upcons': 9088, 'unspectacular': 9089, 'overflowing': 9090, 'accomodate': 9091, 'surrounding': 9092, 'narrower': 9093, \"amazons's\": 9094, 'weatherman': 9095, 'snot': 9096, 'lookout': 9097, 'genera': 9098, 'ummmmmmm': 9099, 'wth': 9100, 'cw': 9101, 'contenders': 9102, 'giftcards': 9103, 'fab': 9104, 'wand': 9105, 'applience': 9106, 'suppos': 9107, 'tosses': 9108, 'throttling': 9109, 'rcase': 9110, 'obeyed': 9111, 'barley': 9112, 'potty': 9113, 'triplets': 9114, 'apocalypse': 9115, 'commenting': 9116, 'unrelated': 9117, 'goggleplay': 9118, 'syfy': 9119, 'bogging': 9120, 'udated': 9121, 'wev': 9122, 'expections': 9123, 'remarked': 9124, 'speedcons': 9125, 'cardthe': 9126, '8hd': 9127, '32mb': 9128, 'valentines': 9129, 'gobbling': 9130, 'wpuldnt': 9131, \"prime's\": 9132, 'touring': 9133, 'honda': 9134, 'valkyrie': 9135, 'famaily': 9136, 'logic': 9137, 'cramps': 9138, 'maxing': 9139, 'populates': 9140, 'conveniet': 9141, 'onside': 9142, 'grudgingly': 9143, 'affording': 9144, 'unwraps': 9145, 'naught': 9146, 'reappearance': 9147, 'pinched': 9148, 'shifting': 9149, 'positions': 9150, \"oasis'\": 9151, 'originalkindle': 9152, 'cromecast': 9153, 'gra': 9154, 'medication': 9155, 'casei': 9156, 'steam': 9157, '3streaming': 9158, 'sil': 9159, 'disappeared': 9160, 'magnified': 9161, 'masters': 9162, 'picturespower': 9163, 'speedeasy': 9164, 'unintentional': 9165, \"uncle's\": 9166, 'tick': 9167, 'goad': 9168, 'conceal': 9169, 'filler': 9170, 'frog': 9171, 'kidz': 9172, 'streamlines': 9173, 'kindleized': 9174, 'drama': 9175, 'fever': 9176, 'cinema': 9177, 'transportability': 9178, 'leverage': 9179, 'rake': 9180, 'hectic': 9181, 'unheard': 9182, 'quetion': 9183, 'warenty': 9184, 'captured': 9185, '50mbps': 9186, 'infrequent': 9187, 'undo': 9188, 'ticket': 9189, 'queenie': 9190, 'tokd': 9191, 'wfi': 9192, 'infection': 9193, 'roof': 9194, 'beginers': 9195, 'withouto': 9196, 'descriptive': 9197, \"store's\": 9198, 'souped': 9199, 'spectacularly': 9200, 'magnolia': 9201, 'bugged': 9202, 'justifies': 9203, 'umm': 9204, 'grips': 9205, 'untextured': 9206, 'unpadded': 9207, 'scrape': 9208, 'floppy': 9209, 'mechanism': 9210, 'doorbuster': 9211, 'representatives': 9212, 'k8d': 9213, 'bookaholic': 9214, \"'smokey'\": 9215, 'reverse': 9216, 'reversing': 9217, 'prtability': 9218, 'instructibles': 9219, 'spongy': 9220, 'stripes': 9221, 'aquired': 9222, 'browny': 9223, 'woods': 9224, \"20's\": 9225, 'dev': 9226, 'label': 9227, 'guarantees': 9228, 'spilled': 9229, 'qulaity': 9230, 'loops': 9231, 'groove': 9232, 'evenin': 9233, 'commandable': 9234, 'scrutiny': 9235, 'seatmate': 9236, 'whichever': 9237, 'usr': 9238, \"'amazon\": 9239, \"case'\": 9240, 'pricer': 9241, 'builtin': 9242, 'youreyes': 9243, 'iv': 9244, 'spendy': 9245, 'ebookson': 9246, 'flipboard': 9247, 'richard': 9248, 'swing': 9249, 'nonsense': 9250, 'permissions': 9251, 'nigeria': 9252, 'eleven': 9253, 'techo': 9254, 'informationtimers': 9255, 'stranger': 9256, 'nysecond': 9257, 'avoids': 9258, 'smartphones': 9259, 'thatn': 9260, 'wrongly': 9261, 'independence': 9262, 'blackliontravel': 9263, 'barney': 9264, 'somethings': 9265, 'exchanging': 9266, 'impose': 9267, 'limiter': 9268, 'youngers': 9269, 'soccer': 9270, 'lacrosse': 9271, 'backlot': 9272, 'scribd': 9273, 'foldover': 9274, 'phablet': 9275, '500ish': 9276, '96': 9277, 'recorder': 9278, 'uniformity': 9279, 'invitation': 9280, 'kno': 9281, 'theme': 9282, 'mixes': 9283, 'redirect': 9284, 'melt': 9285, 'surge': 9286, 'toughing': 9287, 'specialties': 9288, 'bitten': 9289, 'spins': 9290, 'conpaired': 9291, \"timer's\": 9292, 'factoring': 9293, 'knitted': 9294, 'reallyread': 9295, 'bette': 9296, 'superbly': 9297, 'yearbook': 9298, 'jamaica': 9299, 'amaazing': 9300, 'septagenarian': 9301, 'financially': 9302, 'exc': 9303, 'mandates': 9304, '5h': 9305, '8h': 9306, 'withdraw': 9307, 'delte': 9308, 'tony': 9309, 'singular': 9310, \"'apps\": 9311, \"sources'\": 9312, 'forwards': 9313, 'rewinds': 9314, 'irresistible': 9315, 'ultraportable': 9316, 'inc': 9317, 'b004y1wcde': 9318, 'bikerider': 9319, 'attend': 9320, 'salvation': 9321, 'fsntastic': 9322, 'essentials': 9323, 'mixture': 9324, 'insult': 9325, 'cement': 9326, 'perfit': 9327, 'boat': 9328, 'hom': 9329, 'proudly': 9330, 'proclaims': 9331, '2m': 9332, 'andi': 9333, 'cal': 9334, 'saggy': 9335, 'dungeons': 9336, 'dragons': 9337, 'algebra': 9338, 'aired': 9339, 'chest': 9340, 'incidentaly': 9341, 'starwars': 9342, 'pleases': 9343, 'fuctions': 9344, 'le': 9345, 'hoo': 9346, 'eager': 9347, 'recovering': 9348, 'cancer': 9349, 'tongue': 9350, 'pronouncing': 9351, \"aiden's\": 9352, 'expectd': 9353, 'ittt': 9354, 'tok': 9355, 'airfare': 9356, \"reservation's\": 9357, 'differents': 9358, 'amaxon': 9359, 'formate': 9360, 'tjis': 9361, 'unpacked': 9362, 'pie': 9363, 'mum': 9364, 'boon': 9365, 'setu': 9366, 'snapped': 9367, 'bold': 9368, 'nices': 9369, 'horrific': 9370, 'aiming': 9371, 'expirence': 9372, 'cheaped': 9373, \"yesterday's\": 9374, 'appeares': 9375, 'camcorder': 9376, 'deceased': 9377, 'cbz': 9378, 'comiccat': 9379, 'intially': 9380, 'don���t': 9381, 'oodles': 9382, 'stacking': 9383, 'paperbook': 9384, 'alarming': 9385, 'compromised': 9386, 'gizmos': 9387, 'forthcoming': 9388, 'asstounding': 9389, 'mindfulness': 9390, 'blueray': 9391, 'toodler': 9392, 'fire7': 9393, 'flex8': 9394, 'procrastinated': 9395, 'fried': 9396, 's6': 9397, 'j7': 9398, 'tidbits': 9399, 'sharpness': 9400, 'alessa': 9401, 'underhanded': 9402, 'happerier': 9403, 'careless': 9404, 'alread': 9405, '8y': 9406, 'mitigate': 9407, 'catastrophic': 9408, 'downer': 9409, 'lovethis': 9410, 'scenario': 9411, 'recomed': 9412, 'controled': 9413, 'hsnds': 9414, 'coordinate': 9415, 'ou': 9416, 'esy': 9417, 'optimistic': 9418, 'divorced': 9419, 'merry': 9420, 'bella': 9421, 'hiking': 9422, 'musically': 9423, 'spontaneously': 9424, 'strolling': 9425, 'gens': 9426, 'safeguard': 9427, 'circadian': 9428, 'rhythm': 9429, 'onext': 9430, 'ipadeasy': 9431, 'completly': 9432, 'polarized': 9433, 'smoke': 9434, 'innovating': 9435, 'kidsvery': 9436, 'pkus': 9437, 'problemscamera': 9438, 'ny': 9439, 'ceases': 9440, 'marry': 9441, 'inception': 9442, 'agile': 9443, 'doodling': 9444, 'coach': 9445, 'ech': 9446, 'soumds': 9447, 'shhhtuff': 9448, 'orally': 9449, 'catalogue': 9450, 'angeles': 9451, 'centralized': 9452, 'enriched': 9453, 'enrich': 9454, 'charitable': 9455, 'hopeful': 9456, 'attendance': 9457, 'indirect': 9458, 'refreshing': 9459, 'discomfort': 9460, 'throught': 9461, 'intuitive\\u200b': 9462, 'chatging': 9463, 'accelerometer': 9464, 'buttton': 9465, \"ha's\": 9466, 'beatprice': 9467, 'valuehighly': 9468, 'roadi': 9469, 'extenders': 9470, 'reachable': 9471, 'assistive': 9472, 'greets': 9473, 'devotion': 9474, 'medley': 9475, 'tng': 9476, 'unexceptionable': 9477, 'samaumg': 9478, \"required'\": 9479, \"hookups'\": 9480, 'myers': 9481, 'yera': 9482, 'daughterworks': 9483, 'vueso': 9484, 'eathernet': 9485, 'crave': 9486, 'neko': 9487, 'atsume': 9488, 'talber': 9489, 'relibility': 9490, 'simplest': 9491, '4yrs': 9492, 'mucheasy': 9493, 'arriving': 9494, 'praying': 9495, 'inconvenienced': 9496, 'disbursed': 9497, 'mortar': 9498, '7tablet': 9499, \"do's\": 9500, 'maneuvers': 9501, \"nest's\": 9502, 'assessible': 9503, 'ownership': 9504, 'infinite': 9505, 'museum': 9506, 'kindie': 9507, 'dismissed': 9508, 'dominance': 9509, 'hepatic': 9510, 'satchel': 9511, 'quantify': 9512, 'rader': 9513, 'vid': 9514, 'regualur': 9515, 'hats': 9516, '22nd': 9517, 'reasoning': 9518, '540': 9519, 'orginall': 9520, 'thief': 9521, 'stabilization': 9522, 'ballon': 9523, 'poppinggames': 9524, 'billion': 9525, 'cooperative': 9526, 'marking': 9527, 'mozilla': 9528, 'ironically': 9529, 'makeup': 9530, 'overloaded': 9531, 'carefree': 9532, 'underway': 9533, 'with6': 9534, 'suppirior': 9535, 'compitetive': 9536, 'joule': 9537, 'popups': 9538, 'childthis': 9539, 'impressions': 9540, 'kindke': 9541, 'fairest': 9542, 'bonding': 9543, 'trunk': 9544, 'blackvery': 9545, 'solo': 9546, '1024x600': 9547, \"8'\": 9548, 'nakes': 9549, 'shatter': 9550, \"'zero\": 9551, 'tolerance': 9552, 'boiling': 9553, 'taplet': 9554, 'processed': 9555, 'wirelees': 9556, 'survives': 9557, 'daybag': 9558, 'reopens': 9559, 'firei': 9560, 'noted': 9561, '13th': 9562, 'nano': 9563, 'summarizes': 9564, 'tapered': 9565, 'bypassed': 9566, 'entrenched': 9567, 'bending': 9568, \"else's\": 9569, 'furbished': 9570, 't5o': 9571, 'lear4n': 9572, 'balky': 9573, 'dexterity': 9574, 'wouldve': 9575, 'noticible': 9576, 'dip': 9577, 'spills': 9578, 'foxfire': 9579, 'disappointments': 9580, 'inventory': 9581, 'woodworking': 9582, 'fre': 9583, 'pac': 9584, 'averaged': 9585, 'servise': 9586, 'waranty': 9587, 'strict': 9588, 'gutter': 9589, 'bcuz': 9590, 'mathematics': 9591, 'disapproval': 9592, 'notices': 9593, \"everything's\": 9594, 'unlink': 9595, 'reloaded': 9596, 'paided': 9597, 'finctional': 9598, 'excellentlty': 9599, 'it´s': 9600, 'isn´t': 9601, 'shone': 9602, 'misunderstands': 9603, 'jacked': 9604, 'msrp': 9605, 'tore': 9606, 'speakerworks': 9607, 'hubworks': 9608, 'feather': 9609, 'printable': 9610, 'vidoes': 9611, 'vc': 9612, 'seein': 9613, 'wows': 9614, 'retailer': 9615, \"'simon\": 9616, \"says'\": 9617, 'homer': 9618, 'resupplying': 9619, \"'iron\": 9620, \"man'\": 9621, 'decks': 9622, 'duel': 9623, 'trackers': 9624, 'snooty': 9625, 'strean': 9626, 'ming': 9627, 'questioning': 9628, 'motives': 9629, 'wld': 9630, 'briught': 9631, 'parentallocks': 9632, 'probobly': 9633, 'lagginess': 9634, 'bearly': 9635, 'spider': 9636, 'paso': 9637, 'tickled': 9638, 'bargained': 9639, 'mlbtv': 9640, 'coast': 9641, 'puerto': 9642, 'rico': 9643, 'xiaomi': 9644, 'cheaping': 9645, 'kim': 9646, 'denon': 9647, '123': 9648, 'granddad': 9649, 'limbaugh': 9650, 'merchant': 9651, 'duration': 9652, '44': 9653, 'agnostic': 9654, 'pane': 9655, 'presented': 9656, 'conference': 9657, 'alduts': 9658, \"'excited\": 9659, \"factor'\": 9660, 'rood': 9661, 'jesus': 9662, 'christ': 9663, 'nazareth': 9664, 'voyages': 9665, 'backlid': 9666, 'verb': 9667, 'netfis': 9668, 'andl': 9669, 'ahe': 9670, 'dyslexics': 9671, 'margins': 9672, 'helvetica': 9673, 'niles': 9674, 'remedial': 9675, 'vastly': 9676, 'cozy': 9677, 'resale': 9678, 'anniversaries': 9679, 'conquered': 9680, 'flattered': 9681, 'audios': 9682, 'enuf': 9683, 'charities': 9684, '1each': 9685, 'alien': 9686, 'shotty': 9687, 'perfoms': 9688, 'shaving': 9689, 'autofill': 9690, 'whit': 9691, 'smoothest': 9692, 'thermo': 9693, 'pove': 9694, 'stellar': 9695, 'willynilly': 9696, 'dvi': 9697, 'lodi': 9698, 'mx': 9699, 'unbearably': 9700, 'funnier': 9701, 'uo': 9702, 'believing': 9703, 'graders': 9704, '700': 9705, 'comforatble': 9706, '2yrs': 9707, 'alterior': 9708, 'motive': 9709, 'gigabyte': 9710, 'relaunch': 9711, 'twisting': 9712, 'querying': 9713, 'mentions': 9714, 'alurek': 9715, 'facilitate': 9716, 'monochromatic': 9717, 'discipline': 9718, 'arctic': 9719, 'dojo': 9720, 'moby': 9721, 'noone': 9722, 'smudges': 9723, 'achieves': 9724, 'frustrate': 9725, 'conflicting': 9726, 'tunable': 9727, 'vox': 9728, 'naples': 9729, 'tweaks': 9730, 'precede': 9731, 'accomplishment': 9732, 'danger': 9733, 'bur': 9734, '1m': 9735, 'accountss': 9736, 'llife': 9737, 'griendly': 9738, 'trail': 9739, 'establishment': 9740, 'observations': 9741, 'varies': 9742, 'bypass': 9743, 'portfolio': 9744, '85yr': 9745, 'efficiency': 9746, 'unresponsiveness': 9747, 'dud': 9748, 'disengaged': 9749, \"sorcerer's\": 9750, 'dimensions': 9751, 'resolves': 9752, 'commons': 9753, 'deserted': 9754, 'land': 9755, 'fundraiser': 9756, 'merrillville': 9757, 'smartify': 9758, 'showroomevery': 9759, 'remarks': 9760, 'supper': 9761, 'dooper': 9762, 'tasker': 9763, 'ruled': 9764, 'semi': 9765, 'mancave': 9766, 'specified': 9767, 'buyback': 9768, 'inflated': 9769, 'tempter': 9770, 'joked': 9771, 'distribute': 9772, 'frequency': 9773, 'flashing': 9774, 'freetme': 9775, 'wallpaper': 9776, 'trump': 9777, 'takeout': 9778, 'jeapordy': 9779, 'misled': 9780, 'tickle': 9781, 'fluke': 9782, 'https': 9783, 'b01j2g4vbg': 9784, 'refcmcrrypprdttlsol4': 9785, 'iwhatever': 9786, 'kidzbop': 9787, 'adulting': 9788, 'despise': 9789, 'selfish': 9790, 'existence': 9791, '10w': 9792, 'sonfor': 9793, 'boxed': 9794, 'funtions': 9795, 'enet': 9796, 'ruko': 9797, 'hoarding': 9798, 'alaxa': 9799, 'analog': 9800, 'stroke': 9801, 'portland': 9802, 'phoenix': 9803, 'bueno': 9804, 'wildlife': 9805, 'alexander': 9806, 'kpdi': 9807, 'recipies': 9808, 'dlna': 9809, 'crashing': 9810, 'tuesday': 9811, 'hospitalized': 9812, 'jub': 9813, 'ticks': 9814, 'crews': 9815, \"show's\": 9816, 'thanx': 9817, 'kindlepaper': 9818, 'reps': 9819, 'fwiw': 9820, 'thi': 9821, 'military': 9822, 'nit': 9823, 'footnotes': 9824, 'addictions': 9825, 'advertisers': 9826, 'subsidizing': 9827, \"system's\": 9828, 'bluelight': 9829, 'slider': 9830, 'squarish': 9831, 'rectangular': 9832, 'photography': 9833, 'french': 9834, 'prominent': 9835, 'cabable': 9836, \"her's\": 9837, 'anymorte': 9838, 'briefcases': 9839, 'carrasoul': 9840, 'engagements': 9841, 'understandably': 9842, \"pod's\": 9843, 'owing': 9844, 'undertake': 9845, 'hassel': 9846, 'uv': 9847, 'visibilty': 9848, 'slecting': 9849, 'and1st': 9850, 'proficient': 9851, 'prevoius': 9852, 'walahhh': 9853, 'splotchy': 9854, 'ale': 9855, 'tabletperforms': 9856, 'fordo': 9857, 'afte': 9858, 'ipdad': 9859, 'suri': 9860, 'unproductive': 9861, 'scratchy': 9862, 'execution': 9863, 'gleeful': 9864, 'sever': 9865, 'thermometer': 9866, 'wtf': 9867, 'aggravation': 9868, 'temosta': 9869, 'influence': 9870, 'andhave': 9871, \"didn'thave\": 9872, 'society': 9873, 'profound': 9874, 'horsepower': 9875, 'altho': 9876, 'corroded': 9877, 'insidewe': 9878, 'remoteskind': 9879, '25mbps': 9880, 'blockers': 9881, 'sidney': 9882, 'michelle': 9883, 'wold': 9884, '7yo': 9885, 'twos': 9886, 'reinstalled': 9887, 'expendable': 9888, 'sugar': 9889, 'boils': 9890, 'hick': 9891, 'concealable': 9892, 'grrrrr': 9893, 'prurple': 9894, 'autofocus': 9895, 'activites': 9896, 'booking': 9897, 'thise': 9898, 'constanrly': 9899, 'reconnnet': 9900, 'intensly': 9901, 'stater': 9902, 'spousal': 9903, 'rablet': 9904, 'smail': 9905, 'pinsharp': 9906, 'forfpor': 9907, 'deserved': 9908, \"grocery's\": 9909, \"ability's\": 9910, 'refueling': 9911, 'tail': 9912, 'smar': 9913, 'hay': 9914, 'cashing': 9915, 'annuity': 9916, 'shoddy': 9917, 'androidos': 9918, 'debit': 9919, 'automatons': 9920, 'conferences': 9921, 'taxes': 9922, 'georgia': 9923, 'qualifying': 9924, 'progressed': 9925, '♡♡♡♡♡': 9926, 'gir': 9927, 'booth': 9928, 'nosise': 9929, 'silence': 9930, 'mappable': 9931, 'dissappointing': 9932, 'cleans': 9933, 'uhdtv': 9934, \"spotify's\": 9935, 'resellers': 9936, 'interconnected': 9937, 'circlers': 9938, 'dystopia': 9939, 'eggers': 9940, 'hail': 9941, 'thursday': 9942, 'poloroid': 9943, 'purposefully': 9944, 'canaccess': 9945, 'tabket': 9946, 'vacuums': 9947, 'dries': 9948, 'uncanny': 9949, 'u450': 9950, 'againhave': 9951, 'heaviness': 9952, 'rang': 9953, 'netfliz': 9954, 'serach': 9955, 'ilovemy': 9956, 'clamps': 9957, 'surrounds': 9958, 'laods': 9959, 'quic': 9960, 'checklists': 9961, 'beech': 9962, 'lockscreenhowever': 9963, 'fledged': 9964, 'indefinitely': 9965, 'behold': 9966, 'releived': 9967, 'compromises': 9968, 'bro': 9969, 'baffled': 9970, 'pills': 9971, 'miracast': 9972, '9yo': 9973, 'identical': 9974, 'devour': 9975, 'bach': 9976, 'slideview': 9977, 'personslly': 9978, 'operarion': 9979, 'pleanty': 9980, 'arnt': 9981, \"'set\": 9982, \"forget'\": 9983, 'anonymous': 9984, 'rejected': 9985, 'mis': 9986, 'interpret': 9987, 'outright': 9988, \"an't\": 9989, 'adobe': 9990, 'scheme': 9991, 'sparkle': 9992, 'promotions': 9993, 'prerfict': 9994, 'themostat': 9995, \"he'll\": 9996, 'trivial': 9997, 'hinders': 9998, 'bloggers': 9999, 'writers': 10000, 'morn': 10001, 'caption': 10002, 'mystical': 10003, 'skeptic': 10004, 'lamented': 10005, 'unskilled': 10006, 'wayyy': 10007, 'jokingly': 10008, \"life's\": 10009, 'proceeded': 10010, 'forgo': 10011, 'sticksbut': 10012, 'mcafee': 10013, 'chtistmas': 10014, \"handlings'\": 10015, 'ithighly': 10016, 'shoved': 10017, 'tb': 10018, '5min': 10019, '15mins': 10020, 'qualitygood': 10021, 'moneycan': 10022, 'inexperienced': 10023, 'myth': 10024, 'collected': 10025, 'inadvertant': 10026, 'twitchy': 10027, 'rabbit': 10028, 'emergence': 10029, 'leaks': 10030, 'emerging': 10031, 'pinhole': 10032, 'speck': 10033, 'surrendering': 10034, 'deteriorates': 10035, 'yopu': 10036, 'suppprt': 10037, 'loans': 10038, 'copyrights': 10039, 'lyric': 10040, 'my9': 10041, 'hood': 10042, 'cult': 10043, 'trashing': 10044, 'triby': 10045, 'partnerships': 10046, 'racked': 10047, 'passthough': 10048, \"'parental\": 10049, \"controls'\": 10050, 'accessable': 10051, 'powrful': 10052, 'bluetoothdecent': 10053, 'decrease': 10054, 'movee': 10055, 'strips': 10056, '56': 10057, 'umbrella': 10058, 'sweetheart': 10059, \"gym's\": 10060, 'recycled': 10061, 'prominently': 10062, 'usecons': 10063, 'machines': 10064, 'dat': 10065, 'smash': 10066, \"'google'\": 10067, 'reacts': 10068, 'disappointingly': 10069, 'mildly': 10070, 'cyanogenmod': 10071, 'glimpse': 10072, 'spinning': 10073, 'blood': 10074, 'rises': 10075, 'minority': 10076, 'yanked': 10077, 'acquired': 10078, 'indexing': 10079, 'ted': 10080, 'deprogrammed': 10081, 'preachers': 10082, 'broadcasters': 10083, '165': 10084, 'asmaking': 10085, 'comply': 10086, \"keep'n\": 10087, \"w'em\": 10088, 'joneses': 10089, 'inexspensive': 10090, 'lifeless': 10091, 'leg': 10092, 'dentist': 10093, 'ijnfo': 10094, 'inquisitive': 10095, 'las': 10096, 'speakes': 10097, 'battert': 10098, 'u2': 10099, 'peripheral': 10100, 'booming': 10101, 'viewers': 10102, 'mr': 10103, 'automobile': 10104, 'knees': 10105, 'kasa': 10106, 'displaynice': 10107, 'marketchild': 10108, 'ration': 10109, '46': 10110, 'somwthing': 10111, 'thoughtnwould': 10112, 'shaft': 10113, 'ew': 10114, 'sew': 10115, 'trough': 10116, 'bookstores': 10117, 'shehelps': 10118, 'ofmy': 10119, 'scoff': 10120, 'finishing': 10121, 'chanes': 10122, 'skittle': 10123, 'enlarges': 10124, 'resize': 10125, 'radily': 10126, 'erased': 10127, 'fenomenal': 10128, 'imitations': 10129, 'dramatic': 10130, 'posible': 10131, 'firetv1': 10132, 'firetv2': 10133, 'mbr': 10134, 'allllll': 10135, '30am': 10136, 'repositioned': 10137, 'nikon': 10138, 'sigma': 10139, 'equivalents': 10140, \"lens'\": 10141, '600mm': 10142, 'dissecting': 10143, 'd810': 10144, 'territory': 10145, 'loathe': 10146, '105': 10147, 'unbecoming': 10148, 'pronto': 10149, 'studies': 10150, 'lunchtime': 10151, 'freaky': 10152, 'spin': 10153, 'confidence': 10154, 'recommeded': 10155, 'seventy': 10156, \"sin't\": 10157, 'growth': 10158, 'infra': 10159, '—\\xa0opening': 10160, 'lever': 10161, 'joan': 10162, 'collins': 10163, 'plague': 10164, 'reverses': 10165, 'liquid': 10166, 'offsprings': 10167, 'sunrise': 10168, 'sunset': 10169, 'servives': 10170, 'rime': 10171, 'guppies': 10172, 'sorting': 10173, 'minors': 10174, 'stepmother': 10175, 'defines': 10176, 'experiance': 10177, 'figures': 10178, 'luster': 10179, 'temper': 10180, 'satisfiedeasier': 10181, 'despicable': 10182, 'plz': 10183, 'unsuspecting': 10184, 'perpetually': 10185, 'stickum': 10186, 'rescue': 10187, 'inducing': 10188, \"murphy's\": 10189, 'thingredients': 10190, 'ttry': 10191, 'qlty': 10192, 'wry': 10193, 'inabled': 10194, 'kindlegreat': 10195, 'satisify': 10196, 'curfews': 10197, 'gooooood': 10198, 'smart5': 10199, 'addon': 10200, 'previews': 10201, 'unibody': 10202, 'pkg': 10203, 'crushed': 10204, 'sooon': 10205, 'fights': 10206, 'strings': 10207, 'pbskids': 10208, 'excells': 10209, 'controolled': 10210, 'grandnephew': 10211, 'aspergers': 10212, 'tryout': 10213, \"lost'\": 10214, '0ghz': 10215, \"'unknown\": 10216, \"boot'\": 10217, 'cycled': 10218, 'kevin': 10219, 'spacey': 10220, 'serive': 10221, 'squirly': 10222, 'yearsand': 10223, 'transported': 10224, 'warentee': 10225, 'orangeish': 10226, 'blueish': 10227, 'mighty': 10228, 'copperish': 10229, 'toned': 10230, 'prettymuch': 10231, '3yrs': 10232, 'fondly': 10233, 'fiancée': 10234, 'amazn': 10235, 'allowes': 10236, 'everyhting': 10237, 'outputs': 10238, 'ignored': 10239, 'pm': 10240, 'reliant': 10241, 'navagating': 10242, 'play…': 10243, 'shareware': 10244, 'converters': 10245, 'qiestions': 10246, 'dawn': 10247, 'steadfast': 10248, '122': 10249, 'nextbook': 10250, 'spoiler': 10251, \"13'\": 10252, 'byee': 10253, 'substantially': 10254, 'simpl': 10255, 'reeboot': 10256, 'definitley': 10257, 'defusing': 10258, 'vintage': 10259, 'wy': 10260, 'themone': 10261, 'uswe': 10262, 'adaptation': 10263, 'routing': 10264, '1299': 10265, '1275': 10266, 'hierarchy': 10267, 'whistle': 10268, 'mesmerized': 10269, 'honey': 10270, 'lightingweight': 10271, 'wandering': 10272, 'tabletperfect': 10273, 'greatfor': 10274, 'werelacking': 10275, 'intertainment': 10276, 'aprox': 10277, 'clueless': 10278, 'echobee': 10279, 'initally': 10280, 'moore': 10281, 'abook': 10282, 'downgrade': 10283, 'thd': 10284, 'fird': 10285, 'deems': 10286, 'shaped': 10287, 'heaver': 10288, 'perfetly': 10289, 'america': 10290, 'sa': 10291, 'grilling': 10292, 'ga': 10293, 'ecah': 10294, 'abnormal': 10295, 'drawn': 10296, 'husbandand': 10297, 'shoves': 10298, 'hroat': 10299, 'haveit': 10300, 'phenomenally': 10301, 'october': 10302, 'seperate': 10303, 'proportioned': 10304, 'cellophane': 10305, 'diligence': 10306, 'entirety': 10307, 'loophole': 10308, 'chunks': 10309, 'mindlessly': 10310, 'liberating': 10311, 'unfathomable': 10312, 'wedding': 10313, 'yuh': 10314, 'weary': 10315, 'breathtaking': 10316, 'bbc': 10317, 'ynab': 10318, \"countriesi'm\": 10319, 'wat': 10320, 'childeren': 10321, 'systym': 10322, 'connectively': 10323, \"'free\": 10324, \"time'\": 10325, 'freeplay': 10326, 'shakey': 10327, '3mbps': 10328, 'easytocarry': 10329, 'libarary': 10330, 'hipsters': 10331, 'reat': 10332, 'tom': 10333, 'cery': 10334, 'grace': 10335, 'communicates': 10336, 'hacking': 10337, 'acer': 10338, 'androd': 10339, 'camn': 10340, 'cuddling': 10341, 'smh': 10342, 'deivices': 10343, 'amnazon': 10344, 'revelry': 10345, 'leery': 10346, 'decibel': 10347, 'initiating': 10348, 'adriod': 10349, 'dis': 10350, 'hest': 10351, 'techshe': 10352, 'greenlight': 10353, 'aggravated': 10354, 'acurate': 10355, 'citron': 10356, 'ecco': 10357, 'eatching': 10358, 'doooooomed': 10359, 'argument': 10360, 'disagree': 10361, 'proportions': 10362, 'dodo': 10363, 'nudged': 10364, 'outgoing': 10365, 'trumps': 10366, 'offbrand': 10367, 'tl': 10368, 'garmin': 10369, 'niche': 10370, 'ymmv': 10371, 'absorbs': 10372, '80mps': 10373, 'flyer': 10374, 'offshoot': 10375, 'broadens': 10376, 'fluctuate': 10377, 'litthe': 10378, 'sdcard': 10379, 'reflected': 10380, 'ises': 10381, 'pirce': 10382, 'notifying': 10383, 'forgone': 10384, 'bob': 10385, 'jones': 10386, 'watchespn': 10387, 'forefront': 10388, 'modtly': 10389, 'gadgetly': 10390, \"goodidn't\": 10391, 'shutterfly': 10392, 'dabbled': 10393, 'colorlittle': 10394, 'barrow': 10395, 'lasik': 10396, 'wma': 10397, 'film': 10398, 'emphasizes': 10399, 'dearth': 10400, 'contentcons': 10401, 'imovie': 10402, 'garageband': 10403, 'stoped': 10404, 'conclude': 10405, 'tomes': 10406, 'wirhout': 10407, 'cist': 10408, 'compaints': 10409, 'onfacebook': 10410, 'ffiend': 10411, 'keboard': 10412, 'xtra': 10413, 'technoilogy': 10414, 'distorted': 10415, 'iit': 10416, 'firsdt': 10417, 'bery': 10418, 'rhis': 10419, 'toyed': 10420, 'watering': 10421, 'contestants': 10422, 'fur': 10423, 'expierence': 10424, 'chromescast': 10425, 'echo´s': 10426, 'iwas': 10427, 'trifold': 10428, 'clothes': 10429, 'semm': 10430, 'clicky': 10431, 'nightlight': 10432, 'grandchilds': 10433, 'farm': 10434, 'clearstream': 10435, 'tablo': 10436, 'hut': 10437, 'receipent': 10438, 'acceptably': 10439, 'sinc': 10440, 'catechism': 10441, 'storeage': 10442, 'intl': 10443, 'ppts': 10444, 'miniscule': 10445, 'ma': 10446, 'decree': 10447, 'increditable': 10448, 'alleviates': 10449, 'tab3': 10450, 'retrieval': 10451, 'reckless': 10452, 'trailer': 10453, 'caregivers': 10454, 'sgould': 10455, 'haopen': 10456, 'sistem': 10457, 'interms': 10458, 'nes': 10459, 'snes': 10460, 'economically': 10461, 'istall': 10462, 'wiggles': 10463, 'studio': 10464, 'promotes': 10465, 'involuntary': 10466, 'miserable': 10467, 'wrists': 10468, 'hasatate': 10469, 'weathered': 10470, 'imitation': 10471, 'commuter': 10472, \"there'sthe\": 10473, 'apponto': 10474, 'nookereader': 10475, 'namesake': 10476, 'accurrate': 10477, 'anwsers': 10478, 'graciously': 10479, 'conscious': 10480, 'announcements': 10481, 'dwarfs': 10482, 'cream': 10483, 'hunting': 10484, 'hds': 10485, 'diconnected': 10486, '512mb': 10487, 'alexie': 10488, 'saturn': 10489, 'holley': 10490, 'consulting': 10491, 'netflick': 10492, 'interpreting': 10493, 'experts': 10494, 'buyin': 10495, 'twas': 10496, 'newcomer': 10497, '1958': 10498, 'standardize': 10499, \"salesperson's\": 10500, 'minut': 10501, 'arrange': 10502, 'cabt': 10503, 'fam': 10504, 'greet': 10505, 'psuh': 10506, 'authenticated': 10507, 'worls': 10508, 'velop': 10509, 'awesomeur': 10510, 'whever': 10511, \"'tap'\": 10512, 'yankee': 10513, 'arise': 10514, 'renamed': 10515, 'neato': 10516, 'botvac': 10517, 'irrigation': 10518, 'monitors': 10519, 'xan': 10520, 'receivers': 10521, 'marantz': 10522, 'av': 10523, 'wannabe': 10524, 'urge': 10525, 'ocd': 10526, '189ppi': 10527, 'laminated': 10528, 'nitpicks': 10529, 'punches': 10530, 'titan': 10531, 'quest': 10532, 'opinions': 10533, 'underwhelming': 10534, 'soundtrack': 10535, 'gameplay': 10536, 'tinny': 10537, '10k': 10538, 'usd150': 10539, 'acheivement': 10540, 'devoured': 10541, 'upwards': 10542, 'secondarily': 10543, 'hovering': 10544, 'browsed': 10545, 'bias': 10546, 'booster': 10547, 'supplementing': 10548, 'millennium': 10549, 'falcon': 10550, 'magically': 10551, 'transmit': 10552, 'unbox': 10553, 'itt': 10554, '1800': 10555, 'assigned': 10556, 'abount': 10557, 'nother': 10558, 'wildest': 10559, 'dianostic': 10560, 'decline': 10561, 'irrelevant': 10562, '\\x7f': 10563, 'wtg': 10564, 'warrenty': 10565, 'hallway': 10566, 'spottily': 10567, 'perineum': 10568, 'orbit': 10569, 'bhyve': 10570, 'complainants': 10571, 'adulthood': 10572, \"api's\": 10573, 'aholic': 10574, 'fantactic': 10575, 'kindels': 10576, 'sson': 10577, 'shud': 10578, 'wishi': 10579, 'pocketbooks': 10580, 'homekit': 10581, 'bloated': 10582, 'simplification': 10583, 'rockin': 10584, 'tended': 10585, 'prof': 10586, 'incase': 10587, 'promo': 10588, 'tabler': 10589, 'stollen': 10590, 'deactivate': 10591, 'annotating': 10592, 'murder': 10593, 'romance': 10594, 'fuller': 10595, 'blasts': 10596, 'discribed': 10597, 'lifw': 10598, \"parent's\": 10599, 'amazonprime': 10600, 'caster': 10601, 'attest': 10602, 'mega': 10603, 'parens': 10604, 'silver': 10605, 'sprung': 10606, 'curled': 10607, 'smarttv': 10608, 'mos': 10609, 'timewarner': 10610, \"sync's\": 10611, 'commandscons': 10612, 'speakersoverall': 10613, '☺️': 10614, 'irritate': 10615, 'facial': 10616, 'hypersensitive': 10617, '68': 10618, 'offload': 10619, 'marred': 10620, 'microfiber': 10621, 'hollowed': 10622, 'enclosed': 10623, 'closet': 10624, 'stiff': 10625, 'spread': 10626, \"twin's\": 10627, 'hallmark': 10628, 'worded': 10629, 'roundups': 10630, 'tweeting': 10631, 'juju': 10632, 'abke': 10633, 'wierd': 10634, 'underutilized': 10635, 'braven': 10636, 'guestions': 10637, '1thing': 10638, 'realitivley': 10639, 'viewable': 10640, 'systemcons': 10641, 'issuesin': 10642, 'conistent': 10643, 'vivant': 10644, 'endorsement': 10645, 'thrill': 10646, 'attaching': 10647, 'tabletthat': 10648, 'frienday': 10649, 'revolutionized': 10650, 'play1': 10651, 'quizzes': 10652, 'seated': 10653, 'compters': 10654, 'defaulty': 10655, 'bothe': 10656, 'nexus7': 10657, 'continuation': 10658, 'erratic': 10659, 'pitched': 10660, 'andmy': 10661, 'chegg': 10662, 'devicethank': 10663, 'comnect': 10664, 'insanly': 10665, 'eith': 10666, 'mgr': 10667, 'jerk': 10668, 'investigative': 10669, 'ipadmini': 10670, 'air2': 10671, 'clumsiness': 10672, 'knack': 10673, \"7's\": 10674, 'offshore': 10675, 'bundles': 10676, 'flatscreen': 10677, 'tunnels': 10678, 'acclimate': 10679, '63rd': 10680, 'drills': 10681, 'neeeded': 10682, 'exquisite': 10683, 'longevity': 10684, 'litle': 10685, 'notbing': 10686, 'module': 10687, 'putz': 10688, \"'plays'\": 10689, 'tack': 10690, 'rotation': 10691, 'guessing': 10692, 'mids': 10693, 'stephen': 10694, \"party's\": 10695, 'funding': 10696, 'dubai': 10697, 'thailand': 10698, 'cara': 10699, 'boston': 10700, 'tinker': 10701, 'toying': 10702, 'simplifying': 10703, 'bootleg': 10704, 'cassette': 10705, 'reconnected': 10706, 'laughing': 10707, 'subwoofer': 10708, 'headstart': 10709, 'echodot': 10710, 'primetime': 10711, 'promoted': 10712, 'climate': 10713, 'occult': 10714, \"beginner's\": 10715, 'ergonomics': 10716, 'deliberately': 10717, 'prolongs': 10718, '290': 10719, 'suuuuuper': 10720, 'managedto': 10721, 'difficultwith': 10722, 'iiicandy': 10723, 'commitment': 10724, 'ifit': 10725, 'generator': 10726, 'onced': 10727, 'rattles': 10728, 'fadt': 10729, \"how's\": 10730, 'percentages': 10731, 'android2': 10732, 'extensible': 10733, 'gsp': 10734, 'crabbing': 10735, 'teaspoons': 10736, 'nickel': 10737, 'rainstorm': 10738, 'soundtracks': 10739, 'hvac': 10740, 'diestraftions': 10741, 'vehicles': 10742, 'anki': 10743, 'rv': 10744, 'quits': 10745, 'pixelly': 10746, 'mg': 10747, 'maxed': 10748, 'boght': 10749, 'kindlle': 10750, 'intelligently': 10751, 'toothbrush': 10752, 'aready': 10753, 'broad': 10754, 'appl': 10755, \"'large'\": 10756, 'bookwork': 10757, 'dif': 10758, \"'alexa'\": 10759, \"president's\": 10760, '108': 10761, 'residence': 10762, \"bdu's\": 10763, 'musci': 10764, 'jn': 10765, 'loloaded': 10766, 'catches': 10767, 'likenit': 10768, \"dont't\": 10769, 'cellpone': 10770, 'chikka': 10771, 'complants': 10772, \"siri's\": 10773, 'panda': 10774, 'toca': 10775, 'tucks': 10776, 'helo': 10777, '12th': 10778, 'monuva': 10779, 'granma': 10780, 'aligned': 10781, 'tailor': 10782, 'ears': 10783, 'withstanding': 10784, 'propensity': 10785, 'restocking': 10786, 'quantities': 10787, 'exhausted': 10788, 'progresses': 10789, 'akward': 10790, 'wantedto': 10791, 'mifi': 10792, 'goggles': 10793, 'evidently': 10794, 'neef': 10795, 'swallow': 10796, 'meager': 10797, 'smartened': 10798, 'i´ve': 10799, 'tackle': 10800, 'assoc': 10801, 'airports': 10802, 'pricei': 10803, 'salvador': 10804, '72gb': 10805, 'to12': 10806, 'disneyland': 10807, 'tranquil': 10808, 'peck': 10809, 'jodi': 10810, 'mni': 10811, 'tethers': 10812, 'busybody': 10813, 'echopros': 10814, 'ueboom': 10815, 'programed': 10816, 'establish': 10817, 'preexisting': 10818, 'manchester': 10819, 'pga': 10820, 'leader': 10821, 'robotic': 10822, 'alzheimers': 10823, 'dementia': 10824, 'medicine': 10825, 'wwe': 10826, 'handier': 10827, 'gained': 10828, 'allowance': 10829, 'tabletscons': 10830, 'predominately': 10831, \"netflix's\": 10832, 'thaks': 10833, 'moztly': 10834, 'productthe': 10835, 'begining': 10836, 'assocate': 10837, 'tooo': 10838, 'connectors': 10839, \"'home'\": 10840, \"'ai'\": 10841, 'okk': 10842, 'modular': 10843, 'lurana566': 10844, 'hogjly': 10845, 'dissapoint': 10846, \"does'nt\": 10847, 'vraiment': 10848, 'bon': 10849, 'petit': 10850, 'appareil': 10851, 'lger': 10852, 'facile': 10853, 'emploij': 10854, 'hte': 10855, 'servir': 10856, 'plages': 10857, 'cet': 10858, 'hiverbelle': 10859, 'bibliothque': 10860, 'disponiblesbon': 10861, 'achat': 10862, 'bref': 10863, 'modes': 10864, 'homemade': 10865, 'whirl': 10866, 'reminding': 10867, 'preferable': 10868, 'wookie': 10869, 'beausbuild': 10870, 'okc': 10871, 'stringer': 10872, 'citing': 10873, 'they❤it': 10874, 'curriculums': 10875, 'vincent': 10876, 'cody': 10877, 'nobody': 10878, 'willy': 10879, \"office's\": 10880, 'seri': 10881, 'plum': 10882, \"idem's\": 10883, 'blaring': 10884, 'cricket': 10885, 'connivence': 10886, 'nitpick': 10887, \"somebody's\": 10888, 'shifted': 10889, 'police': 10890, 'foo': 10891, 'fighters': 10892, 'zeppelin': 10893, 'monthy': 10894, 'efficent': 10895, 'enormous': 10896, 'bases': 10897, 'gag': 10898, 'perfume': 10899, 'tablespoons': 10900, 'liter': 10901, 'handsfree': 10902, 'stalled': 10903, \"con's\": 10904, 'minds': 10905, '9hours': 10906, 'installable': 10907, 'decission': 10908, 'pittance': 10909, 'steak': 10910, 'brews': 10911, 'resd': 10912, 'schhool': 10913, 'refunded': 10914, 'll': 10915, 'hdhomerun': 10916, \"fee's\": 10917, \"li've\": 10918, 'servings': 10919, 'peripherals': 10920, 'syste': 10921, 'fatherl': 10922, 'culture': 10923, 'minimizing': 10924, 'unsubscribe': 10925, 'flies': 10926, \"haven'\": 10927, \"vendor's\": 10928, 'oddly': 10929, 'interpretation': 10930, 'pronunciations': 10931, \"'connected\": 10932, 'fide': 10933, 'turbomode': 10934, 'hologram': 10935, 'prosthe': 10936, 'straps': 10937, 'drum': 10938, 'consmy': 10939, 'teeth': 10940, 'k3': 10941, 'frisbee': 10942, 'mounting': 10943, 'rode': 10944, 'captivated': 10945, 'belongs': 10946, 'diction': 10947, 'retuned': 10948, 'wilds': 10949, 'ahs8n': 10950, 'forgoing': 10951, 'appoint': 10952, 'addable': 10953, 'accessability': 10954, 'producg': 10955, 'saythanks': 10956, 'netgear': 10957, 'x6': 10958, 'bmw': 10959, 'brst': 10960, 'retiring': 10961, 'narration': 10962, 'speeded': 10963, '5g': 10964, 'tw': 10965, 'nonglare': 10966, '209': 10967, 'graduated': 10968, 'playibg': 10969, 'variations': 10970, 'runnings': 10971, '10t': 10972, 'offs': 10973, 'orice': 10974, 'painless': 10975, 'albeit': 10976, 'grail': 10977, 'tumble': 10978, 'kendle': 10979, 'greatthank': 10980, 'itune': 10981, 'refunding': 10982, 'unintended': 10983, 'discussed': 10984, 'amazing\\u200b': 10985, 'unloads': 10986, 'asphalt': 10987, 'playable': 10988, 'xbox1': 10989, 'dubbles': 10990, 'bbuy': 10991, 'outsell': 10992, 'practicality': 10993, 'coordination': 10994, 'preserve': 10995, 'replay': 10996, 'screenis': 10997, 'amazinged': 10998, 'calm': 10999, 'andespn': 11000, 'coins': 11001, 'variant': 11002, 'begginers': 11003, 'doesnot': 11004, 'weeks，i': 11005, 'boasting': 11006, 'jams': 11007, 'sweater': 11008, 'detects': 11009, 'inherited': 11010, 'leapfrog': 11011, 'competitions': 11012, 'greatprice': 11013, 'massacred': 11014, 'incompatible': 11015, 'werr': 11016, 'ths': 11017, 'interference': 11018, 'nominal': 11019, '❤': 11020, 'produ': 11021, 'ct': 11022, 'freind': 11023, 'borat': 11024, 'oldies': 11025, \"50's\": 11026, 'bantering': 11027, 'jitters': 11028, '30hz': 11029, 'imails': 11030, 'serials': 11031, 'kns': 11032, 'underestimated': 11033, 'chanels': 11034, 'restoring': 11035, 'fellas': 11036, 'ole': 11037, 'pico': 11038, 'clicked': 11039, 'anywhereview': 11040, \"samsung's\": 11041, 'centerpieces': 11042, 'covererd': 11043, 'insulted': 11044, 'consolidates': 11045, 'technnology': 11046, 'grankids': 11047, 'stressing': 11048, 'irs': 11049, 'iq': 11050, 'backlite': 11051, 'achy': 11052, 'canhelp': 11053, 'fullfill': 11054, 'detract': 11055, 'widest': 11056, \"home's\": 11057, 'saddle': 11058, 'stitching': 11059, 'reveal': 11060, 'illuminates': 11061, 'stretchable': 11062, '54': 11063, 'designers': 11064, 'forethought': 11065, 'securing': 11066, 'sophistication': 11067, 'conected': 11068, 'deserving': 11069, \"add'l\": 11070, 'persisted': 11071, 'creature': 11072, 'resuming': 11073, 'zap': 11074, 'collaborate': 11075, 'battry': 11076, '8hr': 11077, 'driveway': 11078, 'aré': 11079, 'finest': 11080, 'invaluable': 11081, 'wiz': 11082, \"'ghost'\": 11083, 'valuegreat': 11084, 'sour': 11085, 'priceand': 11086, 'approx': 11087, 'instructive': 11088, 'mouthful': 11089, 'adage': 11090, 'additon': 11091, 'lites': 11092, 'teader': 11093, 'forces': 11094, 'approval': 11095, 'esasy': 11096, 'confuse': 11097, 'friendhavi': 11098, 'myst': 11099, \"'flippable'\": 11100, \"don't'\": 11101, 'honeatly': 11102, '375': 11103, 'evolve': 11104, 'encouraging': 11105, 'tabletsome': 11106, 'outlast': 11107, 'parenting': 11108, 'resourcelful': 11109, 'reporters': 11110, 'rewarding': 11111, 'portable2': 11112, 'quality3': 11113, 'einsteins': 11114, 'demensions': 11115, 'availabilty': 11116, 'intercative': 11117, 'tveasy': 11118, 'satisfly': 11119, 'dtn': 11120, 'anxious': 11121, 'intermittent': 11122, 'sixe': 11123, 'blinks': 11124, 'redirected': 11125, 'babes': 11126, 's8': 11127, 'tinier': 11128, 'dumbed': 11129, 'slooowww': 11130, 'accepting': 11131, 'watered': 11132, 'nordic': 11133, 'recommened': 11134, 'recient': 11135, 'tred': 11136, 'overriding': 11137, 'octane': 11138, 'sauna': 11139, 'pants': 11140, 'steup': 11141, 'mbs': 11142, 'neigbor': 11143, 'exelente': 11144, 'purely': 11145, 'objects': 11146, 'acquiring': 11147, 'oit': 11148, 'malfunctions': 11149, 'dating': 11150, 'oor': 11151, 'estimated': 11152, '‘helpful’': 11153, '6weeks': 11154, '3weeks': 11155, 'abound': 11156, 'korea': 11157, '100mbps': 11158, 'hungry': 11159, 'saturated': 11160, '3ds': 11161, 'xls': 11162, \"damage's\": 11163, 'firestorm': 11164, 'absoutley': 11165, 'evenings': 11166, 'assign': 11167, 'barrows': 11168, 'entretaiment': 11169, 'bowl': 11170, 'it’ll': 11171, 'bluethooth': 11172, 'newsflash': 11173, 'hbr': 11174, 'currency': 11175, 'cincise': 11176, 'cinnamon': 11177, 'cams': 11178, 'cartridges': 11179, 'volumne': 11180, 'bleek': 11181, \"years'can't\": 11182, 'nationwide': 11183, 'hdhomerrun': 11184, 'sharpening': 11185, 'upscaling': 11186, 'iunstall': 11187, 'handsyou': 11188, 'offensive': 11189, 'immodestly': 11190, 'unpack': 11191, 'perpose': 11192, 'blanket': 11193, 'forum': 11194, 'instructio': 11195, '212ppi': 11196, 'jagged': 11197, 'dimness': 11198, 'chatge': 11199, 'asss': 11200, 'offcourse': 11201, 'firstly': 11202, 'sequin': 11203, 'nashville': 11204, 'whispernet': 11205, 'suppoused': 11206, 'onand': 11207, 'ud': 11208, 'bandits': 11209, 'latter': 11210, 'belief': 11211, \"grandchildren's\": 11212, 'onward': 11213, 'fulfil': 11214, 'expecxted': 11215, 'downloding': 11216, 'evens': 11217, 'apliance': 11218, 'storageworth': 11219, 'nut': 11220, 'heh': 11221, 'compute': 11222, 'mariachi': 11223, 'disab': 11224, 'cools': 11225, 'sandisk': 11226, \"pc's\": 11227, 'skullcandy': 11228, 'boggle': 11229, 'eveything': 11230, 'mourning': 11231, 'happend': 11232, \"'buy\": 11233, 'jane': 11234, 'grandaughters': 11235, 'tweets': 11236, '911': 11237, 'gauge': 11238, 'accumulating': 11239, 'bake': 11240, \"'building'\": 11241, '6years': 11242, 'readno': 11243, 'strainlong': 11244, 'lifesimple': 11245, 'useinterfaces': 11246, 'computernot': 11247, 'browsingvery': 11248, 'ergonomiclightweightsturdy': 11249, 'formidable': 11250, 'bibliophile': 11251, 'obsolutely': 11252, 'texarkana': 11253, 'timbuktu': 11254, 'istanbul': 11255, 'indianapolis': 11256, 'jackson': 11257, 'maiden': 11258, 'frank': 11259, 'sinatra': 11260, 'triangle': 11261, 'hyperlinks': 11262, 'intensive': 11263, 'referencing': 11264, 'scripture': 11265, 'expdf': 11266, 'stopper': 11267, 'negatively': 11268, 'impacting': 11269, 'booklight': 11270, 'honeycomb': 11271, 'needespecially': 11272, 'jissela': 11273, 'fxnow': 11274, 'jeorardy': 11275, 'soooooooooo': 11276, 'critics': 11277, 'wor': 11278, 'relocate': 11279, 'ecocistem': 11280, '42': 11281, 'excepted': 11282, 'unfriendly': 11283, '4000k': 11284, 'pout': 11285, 'outlandish': 11286, 'supped': 11287, 'refill': 11288, 'operable': 11289, 'ky': 11290, 'fews': 11291, 'agreements': 11292, 'sharge': 11293, 'rose': 11294, 'presenting': 11295, 'awakes': 11296, 'stall': 11297, 'espn3': 11298, 'okjust': 11299, 'okhate': 11300, 'screennot': 11301, \"everyone's\": 11302, 'onky': 11303, 'shhhhhh': 11304, 'trio': 11305, 'teamkindlepaperwhite': 11306, 'llight': 11307, 'subdued': 11308, 'acorn': 11309, 'british': 11310, 'productions': 11311, 'exelent': 11312, 'shoppin': 11313, 'towels': 11314, 'sked': 11315, 'muffled': 11316, 'witnessed': 11317, 'laminate': 11318, 'allotted': 11319, \"featuresdon't\": 11320, 'aboutjust': 11321, 'alexacan': 11322, 'boomer': 11323, 'wishlist': 11324, 'lockup': 11325, \"it'a\": 11326, 'grandfaughter': 11327, 'hippressurecooking': 11328, 'buisness': 11329, 'expensively': 11330, 'audibles': 11331, \"'took\": 11332, \"over'\": 11333, 'oniy': 11334, '289': 11335, 'bracket': 11336, 'dallas': 11337, 'awesomely': 11338, 'becuz': 11339, \"smartphone's\": 11340, 'amazonfire': 11341, 'hummingbirds': 11342, 'tales': 11343, 'borderlands': 11344, 'combat': 11345, 'knights': 11346, 'republic': 11347, 'pointing': 11348, 'comforts': 11349, 'tragedy': 11350, 'granville': 11351, 'wv': 11352, 'whoever': 11353, \"givin'em\": 11354, 'snapping': 11355, 'inexpeisve': 11356, 'pretyy': 11357, 'premitive': 11358, 'outletsavailable': 11359, 'aweseome': 11360, 'beck': 11361, 'avi': 11362, '30yr': 11363, 'midnight': 11364, 'scree': 11365, 'blutooth': 11366, 'eavsdropping': 11367, 'tolerate': 11368, 'veritable': 11369, 'independently': 11370, 'stash': 11371, 'meditations': 11372, 'documentaries': 11373, 'cycling': 11374, 'ranged': 11375, 'faqs': 11376, 'argued': 11377, 'comletely': 11378, 'configuring': 11379, 'disspoinment': 11380, 'wonderfull': 11381, 'doze': 11382, 'enjoyes': 11383, \"didn'\": 11384, 'girlfriendand': 11385, 'amateur': 11386, 'heave': 11387, '4stars': 11388, 'proximity': 11389, 'imporoved': 11390, 'tbe': 11391, 'tbey': 11392, '13yrs': 11393, 'diffidently': 11394, 'rhere': 11395, 'kidstub': 11396, 'whitt': 11397, 'skilled': 11398, 'easiness': 11399, 'luvit': 11400, 'rmusic': 11401, 'kodiak': 11402, 'reap': 11403, 'ncrease': 11404, 'gotchas': 11405, \"'too\": 11406, \"true'\": 11407, 'leaked': 11408, 'pawnshop': 11409, 'italics': 11410, 'doh': 11411, 'begrudge': 11412, 'height': 11413, 'excess': 11414, 'tobe': 11415, 'resort': 11416, \"company's\": 11417, 'tablat': 11418, 'troble': 11419, 'feautures': 11420, 'pime': 11421, 'parter': 11422, 'carol': 11423, \"1000's\": 11424, 'royalist': 11425, 'mucch': 11426, 'amonth': 11427, '1500': 11428, 'positioning': 11429, 'envelop': 11430, 'substitution': 11431, 'overwhelmingly': 11432, 'alongside': 11433, 'truthfully': 11434, 'synonyms': 11435, 'antonyms': 11436, 'acceleration': 11437, 'h264': 11438, 'sideloads': 11439, 'microsdhc': 11440, 'dismal': 11441, 'customizeable': 11442, 'softwares': 11443, 'intervention': 11444, 'contol': 11445, 'cat6': 11446, 'mucheveryday': 11447, 'bottomline': 11448, 'galapagos': 11449, 'meals': 11450, 'cutit': 11451, 'yells': 11452, 'ithe': 11453, 'exchanges': 11454, 'kidle': 11455, 'mae': 11456, 'ogino': 11457, 'yer': 11458, 'river': 11459, 'reallllllllllllllllllllllllllllllllllllllllllllllly': 11460, 'blaze': 11461, 'suggests': 11462, 'announce': 11463, 'thekindle': 11464, 'juggling': 11465, 'vietnam': 11466, 'arounnd': 11467, 'vinyl': 11468, 'likeabroken': 11469, 'enlightening': 11470, 'uttered': 11471, 'vevo': 11472, 'definate': 11473, 'tradional': 11474, 'saud': 11475, 'archive': 11476, 'symbol': 11477, 'stutdy': 11478, 'genealological': 11479, 'urging': 11480, 'tea': 11481, 'toyota': 11482, 'sooooooo': 11483, 'slowwwwww': 11484, 'fount': 11485, 'pf': 11486, 'forsure': 11487, 'youtubing': 11488, 'rethinking': 11489, 'aamazon': 11490, 'mousepad': 11491, 'nerves': 11492, 'ook': 11493, 'satisfiedgood': 11494, \"mip's\": 11495, 'successor': 11496, 'conscience': 11497, 'smarthouse': 11498, 'mrs': 11499, '15mbps': 11500, 'labels': 11501, 'literary': 11502, 'burner': 11503, 'cellphones': 11504, 'downgrading': 11505, 'brooks': 11506, 'muss': 11507, \"'regular'\": 11508, 'abcs': 11509, 'hesitantly': 11510, 'kidsand': 11511, 'lightweightness': 11512, 'seeems': 11513, 'voids': 11514, 'deducted': 11515, 'practices': 11516, 'roku3': 11517, 'distinguishing': 11518, 'diehard': 11519, 'lenghty': 11520, 'producto': 11521, 'firehd8': 11522, 'propose': 11523, 'purposeful': 11524, 'joking': 11525, '���': 11526, \"'smarter'\": 11527, 'shouldnt': 11528, 'folders': 11529, 'alphabetizing': 11530, 'stealing': 11531, 'binged': 11532, 'carfull': 11533, 'wifeher': 11534, 'rebecca': 11535, 'kindle7': 11536, \"'happy\": 11537, \"hour'\": 11538, 'mixing': 11539, 'endurance': 11540, 'george': 11541, 'sealed': 11542, 'phil': 11543, 'proportion': 11544, 'hsve': 11545, 'loooovvvvveeee': 11546, 'wel': 11547, 'disliking': 11548, 'vey': 11549, 'resisting': 11550, 'quickness': 11551, 'crisply': 11552, 'advertisedsound': 11553, 'wouls': 11554, 'gunslinger': 11555, 'flabbergasted': 11556, 'hahaha': 11557, 'techny': 11558, 'encounter': 11559, 'sameproblems': 11560, 'goldengate': 11561, 'sybase': 11562, 'appel': 11563, 'nitch': 11564, 'talbets': 11565, 'glossy': 11566, 'alek': 11567, 'meow': 11568, 'kilter': 11569, 'techonology': 11570, 'dishwashers': 11571, 'collect': 11572, 'ween': 11573, 'kindlehd': 11574, \"'santa'\": 11575, 'evaluate': 11576, 'valuing': 11577, 'aficionado': 11578, 'miscellaneous': 11579, 'onedrive': 11580, 'balcony': 11581, 'batteryseems': 11582, 'somuch': 11583, 'preparation': 11584, 'recommanded': 11585, 'capabiliies': 11586, 'rip': 11587, 'lightwieght': 11588, \"saving's\": 11589, 'an\\xa0inexpensive': 11590, 'withdrawn': 11591, 'caliber': 11592, 'jailbreaker': 11593, 'jb': 11594, 'readr': 11595, 'complemented': 11596, 'pits': 11597, 'firestck': 11598, 'mybe': 11599, 'thirt': 11600, 'stady': 11601, 'sulight': 11602, 'wasn’t': 11603, 'sister’s': 11604, 'detachment': 11605, 'vis': 11606, 'fitst': 11607, 'modicum': 11608, 'backpocket': 11609, 'dwn': 11610, 'willingly': 11611, 'restarts': 11612, 'strained': 11613, 'akers': 11614, 'lightlove': 11615, 'tabletd': 11616, 'paperwhiye': 11617, 'unimpressive': 11618, \"charger's\": 11619, 'boughy': 11620, 'alezxa': 11621, 'drainage': 11622, 'aesthetic': 11623, 'aol': 11624, 'hugh': 11625, 'ail': 11626, 'ialexa': 11627, 'gathered': 11628, 'unplayable': 11629, 'takings': 11630, 'packers': 11631, 'ssids': 11632, 'ssid': 11633, 'southwest': 11634, \"'pad\": 11635, \"pad'\": 11636, 'camer': 11637, 'optimist': 11638, 'downtime': 11639, 'emits': 11640, 'kinder': 11641, 'dotsgreat': 11642, 'setuphttps': 11643, 'github': 11644, 'sphinx02': 11645, '28only': 11646, 'oerfect': 11647, 'whisper': 11648, \"backlight's\": 11649, \"abc's\": 11650, 'tabo': 11651, 'yup': 11652, 'macaw': 11653, 'blues': 11654, 'whoa': 11655, 'querys': 11656, 'touchable': 11657, 'paperwhiite': 11658, 'acquisition': 11659, 'mainstay': 11660, \"baby's\": 11661, 'bookclub': 11662, 'rigorous': 11663, 'auditory': 11664, 'howling': 11665, 'laughter': 11666, 'stumble': 11667, 'geological': 11668, 'potshot': 11669, 'describing': 11670, 'leat': 11671, 'gbs': 11672, 'merit': 11673, 'nefflix': 11674, 'interprets': 11675, 'pricelightweight': 11676, 'sofisticated': 11677, '10and': 11678, 'pierce': 11679, '������': 11680, 'variation': 11681, 'incompatibilities': 11682, 'stoked': 11683, 'property': 11684, 'xpectations': 11685, 'experice': 11686, 'grea': 11687, 'literate': 11688, 'prints': 11689, 'purshased': 11690, 'distorts': 11691, \"reader'\": 11692, 'upcharge': 11693, 'majorly': 11694, 'verygood': 11695, 'borne': 11696, 'overheated': 11697, 'micky': 11698, 'rule': 11699, 'kitchens': 11700, 'teller': 11701, 'inhibits': 11702, 'roommates': 11703, 'wikimedia': 11704, 'enamored': 11705, 'tractors': 11706, 'skips': 11707, \"didon't\": 11708, 'masterr': 11709, 'verifications': 11710, 'docked': 11711, 'rm': 11712, 'dared': 11713, 'someplace': 11714, 'oil': 11715, 'sixed': 11716, 'adapting': 11717, 'meander': 11718, 'ingrained': 11719, 'allowances': 11720, 'commerce': 11721, 'mistakes': 11722, \"'tablet\": 11723, 'pray': 11724, 'happiness': 11725, 'alon': 11726, 'penalize': 11727, 'delivering': 11728, 'wihich': 11729, 'attachments': 11730, 'skynet': 11731, 'embrace': 11732, 'flimsier': 11733, 'synopsis': 11734, 'banks': 11735, 'conecctions': 11736, 'microtransactions': 11737, 'admirably': 11738, '06': 11739, 'broughts': 11740, 'eill': 11741, 'cofee': 11742, 'qith': 11743, 'human': 11744, \"battery's\": 11745, 'msnufactures': 11746, 'conveint': 11747, 'acces': 11748, 'substandard': 11749, 'esoteric': 11750, 'gladly': 11751, 'ecchor': 11752, 'impomation': 11753, 'presences': 11754, 'lightings': 11755, 'kidzobe': 11756, 'amazes': 11757, 'flix': 11758, 'powerwhite': 11759, \"free's\": 11760, 'compensate': 11761, 'revenue': 11762, 'nuprocase': 11763, \"rockin'\": 11764, 'instapaper': 11765, 'dismiss': 11766, 'bear': 11767, \"'such\": 11768, \"such'\": 11769, 'intuitively': 11770, 'keystrokes': 11771, 'gigantic': 11772, 'amaxom': 11773, 'snow': 11774, 'you’re': 11775, 'showbox': 11776, 'sideclick': 11777, 'wellallows': 11778, 'installationmuch': 11779, 'tvallows': 11780, 'notcons': 11781, 'tvremote': 11782, 'controlsremote': 11783, 'hose': 11784, 'index': 11785, 'mindfullness': 11786, 'people，': 11787, 'litghting': 11788, 'mayday': 11789, 'inquiries': 11790, 'irritation': 11791, 'fruity': 11792, 'forgive': 11793, 'flatness': 11794, 'commanding': 11795, '2000': 11796, 'perimeter': 11797, 'proficiency': 11798, 'relates': 11799, 'washes': 11800, \"gb's\": 11801, 'gripes': 11802, 'brilliantly': 11803, 'sixties': 11804, 'thins': 11805, 'striped': 11806, 'sytem': 11807, 'drivers': 11808, 'peoplenet': 11809, 'ooks': 11810, 'obsession': 11811, 'downfalls': 11812, 'delve': 11813, 'quagmire': 11814, 'streamin': 11815, 'ser': 11816, '15yrs': 11817, 'exercises': 11818, 'bollywood': 11819, 'michigan': 11820, 'usa': 11821, 'mumbai': 11822, 'india': 11823, 'phooey': 11824, 'screwing': 11825, 'faded': 11826, 'partners': 11827, 'jw': 11828, 'showers': 11829, 'stationed': 11830, 'stalk': 11831, 'slammed': 11832, '16love': 11833, 'knee': 11834, 'appealed': 11835, 'forsook': 11836, 'dispatched': 11837, 'former': 11838, 'bub': 11839, 'instruments': 11840, 'wholee': 11841, 'necessities': 11842, 'tableteasy': 11843, 'negotiate': 11844, 'obeys': 11845, 'properties': 11846, 'oz': 11847, 'plasticky': 11848, 'examination': 11849, 'pda': 11850, '29th': 11851, 'splash': 11852, 'safari': 11853, 'althought': 11854, 'cringe': 11855, 'especial': 11856, 'shinning': 11857, 'intermittently': 11858, 'indestructable': 11859, 'realised': 11860, 'everyonel': 11861, 'supplemental': 11862, 'irresistable': 11863, 'dork': 11864, 'bird': 11865, 'featuers': 11866, \"to's\": 11867, 'reponsive': 11868, 'tread': 11869, 'mill': 11870, 'othere': 11871, 'assignment': 11872, 'excite': 11873, '♡♡': 11874, 'cured': 11875, 'inspiring': 11876, 'gains': 11877, 'mange': 11878, 'downplays': 11879, 'minded': 11880, 'macair': 11881, 'pretense': 11882, 'janky': 11883, 'microdisk': 11884, 'outfit': 11885, 'letterbox': 11886, 'areally': 11887, 'fist': 11888, 'neil': 11889, 'diamond': 11890, 'expend': 11891, \"'interactive'\": 11892, \"'tinny'\": 11893, 'jepordy': 11894, 'exceptions': 11895, 'ligher': 11896, 'billed': 11897, 'fluent': 11898, 'wath': 11899, 'awile': 11900, 'area…': 11901, 'is…': 11902, 'time…': 11903, 'music…': 11904, 'news…': 11905, 'on…': 11906, 'undergrond': 11907, 'bakes': 11908, 'disproportionate': 11909, 'width': 11910, 'secondvalexa': 11911, 'hardcovers': 11912, 'consequence': 11913, 'reword': 11914, 'tigertown': 11915, 'biggy': 11916, 'trading': 11917, 'declining': 11918, 'tacky': 11919, 'sails': 11920, 'insensitive': 11921, 'instore': 11922, 'acc': 11923, 'internals': 11924, 'reality': 11925, 'consequently': 11926, 'futures': 11927, 'slarts': 11928, 'alway': 11929, 'milo': 11930, 'triggering': 11931, 'specificity': 11932, 'enforcing': 11933, 'households': 11934, 'ejoy': 11935, 'layers': 11936, 'authentication': 11937, 'bookseller': 11938, 'imitates': 11939, \"frickin'\": 11940, 'guam': 11941, 'walaaa': 11942, \"device's\": 11943, 'maui': 11944, 'goood': 11945, 'taped': 11946, 'casta': 11947, 'youd': 11948, 'sundry': 11949, 'logistical': 11950, 'attractions': 11951, 'critique': 11952, 'accumulative': 11953, 'creeping': 11954, 'remained': 11955, 'positively': 11956, 'glacial': 11957, 'consensus': 11958, 'flakey': 11959, 'dreamtab': 11960, 'undesirable': 11961, \"hd8's\": 11962, 'disables': 11963, 'cited': 11964, 'silent': 11965, 'iteasily': 11966, 'bruisers': 11967, 'documented': 11968, 'circles': 11969, 'modded': 11970, 'interior': 11971, 'cyber': 11972, 'lebron': 11973, 'james': 11974, 'paperwhite1': 11975, 'excellent2': 11976, '“go': 11977, 'footnotes”': 11978, '“91': 11979, 'highlighters”': 11980, 'mainstream': 11981, 'preview': 11982, \"star's\": 11983, 'fashionable': 11984, 'goof': 11985, 'delved': 11986, 'perimeters': 11987, 'craftsmanship': 11988, 'sero': 11989, 'youngins': 11990, 'kf8': 11991, 'rediculously': 11992, 'responsibly': 11993, 'enjoyments': 11994, 'personalize': 11995, 'playground': 11996, 'playthings': 11997, 'doable': 11998, 'luddite': 11999, 'firing': 12000, 'componets': 12001, 'sexy': 12002, '69°': 12003, 'posted': 12004, 'weathergirl': 12005, '500ma': 12006, 'girt': 12007, 'saturday': 12008, \"gift's\": 12009, 'pronounce': 12010, 'handsfreedom': 12011, 'dwelling': 12012, 'diss': 12013, 'probls': 12014, 'apts': 12015, 'path': 12016, 'caution': 12017, 'inna': 12018, 'sanctioned': 12019, 'scoring': 12020, 'vital': 12021, \"grandfather's\": 12022, '80th': 12023, 'brains': 12024, 'notation': 12025, 'jotting': 12026, 'garlic': 12027, 'conscamera': 12028, 'ow': 12029, 'stumbled': 12030, 'iffft': 12031, \"youtube's\": 12032, 'wed': 12033, 'improvments': 12034, 'lick': 12035, 'intercoms': 12036, 'pill': 12037, 'focusing': 12038, 'worthiness': 12039, 'wint': 12040, 'perfected': 12041, 'voiced': 12042, 'corresponds': 12043, 'increment': 12044, '64x': 12045, 'avaiailable': 12046, 'unwillingness': 12047, 'ventures': 12048, 'reagy': 12049, 'schools': 12050, 'thatbi': 12051, 'nive': 12052, 'iust': 12053, 'curriculum': 12054, 'boredom': 12055, '119': 12056, 'hadnt': 12057, 'appproslight': 12058, 'weightsmall': 12059, 'purseback': 12060, 'lightcons1': 12061, 'ads2': 12062, 'store3': 12063, 'simple4': 12064, 'other5': 12065, 'anything6': 12066, 'dma': 12067, 'hin': 12068, 'relable': 12069, \"nana's\": 12070, 'performant': 12071, 'perfectsound': 12072, 'ittle': 12073, 'lifewould': 12074, 'kitty': 12075, 'borders': 12076, 'recover': 12077, 'jigsaw': 12078, '225': 12079, '40x': 12080, 'insts': 12081, 'bougth': 12082, 'hitched': 12083, 'imy': 12084, 'becazuse': 12085, 'haf': 12086, 'stoeage': 12087, 'arcade': 12088, 'repackaged': 12089, 'rebuilt': 12090, 'unwind': 12091, 'references': 12092, 'texted': 12093, \"like's\": 12094, 'supportable': 12095, 'startrek': 12096, 'captain': 12097, 'originial': 12098, 'transcoded': 12099, 'cataract': 12100, 'surgeries': 12101, 'seventh': 12102, 'stamps': 12103, 'cognitive': 12104, 'considerable': 12105, \"down's\": 12106, 'lindle': 12107, 'crafted': 12108, 'glue': 12109, 'fliers': 12110, 'breathe': 12111, 'recovery': 12112, 'multifunctional': 12113, 'outrages': 12114, 'corney': 12115, 'amazion': 12116, 'immediatel': 12117, 'llocation': 12118, 'expedited': 12119, 'sumsung': 12120, 'echelon': 12121, 'logins': 12122, 'unaffected': 12123, 'tablett': 12124, 'conspicuously': 12125, 'fumble': 12126, 'jitter': 12127, 'simplity': 12128, 'facinating': 12129, \"someone's\": 12130, 'adventurous': 12131, 'lagged': 12132, 'calculation': 12133, 'googlecast': 12134, 'bookie': 12135, 'correlate': 12136, 'mend': 12137, '3500': 12138, 'detection': 12139, 'req': 12140, 'gpod': 12141, 'neices': 12142, 'leasing': 12143, 'fite': 12144, 'discreetly': 12145, 'reconitiona': 12146, 'convent': 12147, 'sandpfoof': 12148, 'interferes': 12149, \"could't\": 12150, 'gloves': 12151, 'advantaged': 12152, 'paradigm': 12153, \"'ask\": 12154, \"jeeves'\": 12155, 'granddaugter': 12156, 'starfall': 12157, 'relayed': 12158, 'fareasy': 12159, 'understandentertaining': 12160, 'bruno': 12161, 'mars': 12162, '0ff': 12163, 'affecting': 12164, 'timeframe': 12165, 'tt': 12166, 'preliminary': 12167, 'annunciate': 12168, 'beoke': 12169, 'hero': 12170, 'timethey': 12171, 'lemon': 12172, 'recieve': 12173, 'soooooo': 12174, 'sterdy': 12175, 'i’ll': 12176, 'carrington': 12177, 'fern': 12178, 'michaels': 12179, 'hideaway': 12180, 'anwser': 12181, \"need's\": 12182, 'alphabets': 12183, 'definitly': 12184, 'editions': 12185, 'implement': 12186, 'waffling': 12187, 'faced': 12188, 'plsy': 12189, 'concentration': 12190, 'bejeweled': 12191, 'fealtures': 12192, 'versitility': 12193, 'feud': 12194, 'macs': 12195, '8gigs': 12196, 'purcase': 12197, 'grandchilden': 12198, 'moto': 12199, 'dysfunctional': 12200, 'screwed': 12201, 'freespace': 12202, 'kindlelishous': 12203, 'relacement': 12204, 'reciever': 12205, 'serius': 12206, 'proping': 12207, '800': 12208, 'woken': 12209, 'flashplayer': 12210, 'immovable': 12211, 'scaring': 12212, 'spotted': 12213, 'delta': 12214, 'expects': 12215, 'deliverd': 12216, 'dieing': 12217, 'firday': 12218, 'solicited': 12219, 'scripts': 12220, 'youse': 12221, 'greatdifficult': 12222, \"wifi'sseems\": 12223, \"white's\": 12224, 'lole': 12225, 'sp': 12226, 'exempt': 12227, 'breed': 12228, 'characteristics': 12229, 'acquire': 12230, 'alive': 12231, 'travellers': 12232, 'elders': 12233, 'cnet': 12234, 'frustrations': 12235, 'grrrrrrreeeeeeeeaaaaaattttttt': 12236, 'swayed': 12237, \"'intercom'\": 12238, 'prolly': 12239, 'grocerys': 12240, 'simpilar': 12241, 'cardscons': 12242, 'intrusiveoverall': 12243, 'bruises': 12244, 'reinvented': 12245, 'restored': 12246, 'tg': 12247, 'snagging': 12248, 'chubby': 12249, 'stills': 12250, 'cheapfunctions': 12251, 'wellusually': 12252, 'fastcons': 12253, 'tabletsscreen': 12254, \"kindle'sfrequent\": 12255, 'inif': 12256, 'bin': 12257, 'inseon': 12258, 'expires': 12259, 'advantagefor': 12260, 'lefties': 12261, 'considerarions': 12262, 'mint': 12263, 'awaesome': 12264, 'appli': 12265, 'modt': 12266, 'staring': 12267, 'farone': 12268, 'problemsall': 12269, 'verse': 12270, 'wright': 12271, 'inputting': 12272, 'plausible': 12273, 'treating': 12274, 'nixes': 12275, 'literacy': 12276, 'announcement': 12277, 'marino': 12278, 'fishing': 12279, 'togethers': 12280, 'representation': 12281, 'seating': 12282, 'rum': 12283, 'structurally': 12284, 'lifts': 12285, 'satisface': 12286, 'thingsthank': 12287, 'coclors': 12288, 'lightvery': 12289, 'tnt': 12290, 'somewhe': 12291, 'qa': 12292, 'sdk': 12293, 'sums': 12294, 'unified': 12295, 'thw': 12296, 'mights': 12297, 'dynamite': 12298, 'recongination': 12299, 'stretches': 12300, 'bok': 12301, 'measuring': 12302, 'cloths': 12303, 'poundage': 12304, 'softly': 12305, 'netflixi': 12306, 'echonfrom': 12307, \"would'nt\": 12308, 'wnough': 12309, 'housebound': 12310, 'relentlessly': 12311, 'xyz': 12312, 'congestion': 12313, 'blip': 12314, 'screw': 12315, 'dnt': 12316, \"'kid\": 12317, \"tablets'\": 12318, '64kb': 12319, 'atari': 12320, 'tacos': 12321, 'ocassional': 12322, 'query': 12323, 'discrete': 12324, 'casetta': 12325, 'fellow': 12326, 'bananas': 12327, \"something's\": 12328, 'incorporating': 12329, 'sometimesnot': 12330, 'authorization': 12331, 'producs': 12332, 'fred': 12333, 'packets': 12334, 'contemplated': 12335, 'philsophy': 12336, 'government': 12337, 'leadership': 12338, \"heart's\": 12339, 'greatcons': 12340, 'telegram': 12341, 'hindrance': 12342, 'changeable': 12343, 'greatproduct': 12344, 'halpy': 12345, 'funniest': 12346, 'shortest': 12347, 'passcode': 12348, 'snows': 12349, 'twenty': 12350, 'detected': 12351, 'pronounced': 12352, 'woke': 12353, 'od': 12354, 'formula': 12355, 'easyto': 12356, 'frieds': 12357, 'forgiving': 12358, 'looove': 12359, 'kludgy': 12360, 'enunciation': 12361, 'frustrates': 12362, 'disaster': 12363, 'lime': 12364, 'renewal': 12365, 'playimg': 12366, 'ithas': 12367, 'marked': 12368, 'filtered': 12369, 'cumulus': 12370, 'clouds': 12371, \"'sorry\": 12372, 'parenthesis': 12373, 'correction': 12374, 'discarded': 12375, 'defects': 12376, 'illustrations': 12377, 'sills': 12378, 'kidsbop': 12379, 'kiddish': 12380, 'flexibilitymore': 12381, 'wondeful': 12382, 'nrws': 12383, 'buddies': 12384, 'sticked': 12385, 'friendley': 12386, 'explandable': 12387, 'photographer': 12388, 'unaceptable': 12389, 'vulcans': 12390, 'acrobat': 12391, 'tipe': 12392, 'one1': 12393, 'usefult': 12394, '2hrs': 12395, '38': 12396, 'severe': 12397, 'vibration': 12398, 'aluminum': 12399, 'lean': 12400, 'allowable': 12401, 'whereever': 12402, 'dummy': 12403, 'spinal': 12404, 'injury': 12405, 'broadcasts': 12406, 'successfully': 12407, 'president': 12408, 'kentucky': 12409, 'wildcat': 12410, 'professionally': 12411, 'stimulation': 12412, 'unassisted': 12413, \"amazon'so\": 12414, \"android's\": 12415, 'presets': 12416, 'prefectly': 12417, 'likits': 12418, 'menone': 12419, '6x': 12420, 'vasr': 12421, 'retiree': 12422, 'savoy': 12423, \"'touch'\": 12424, \"'accidently'\": 12425, 'tilts': 12426, 'halloween': 12427, 'willl': 12428, 'vvery': 12429, 'aprice': 12430, 'afforadable': 12431, 'harmful': 12432, 'learing': 12433, 'intranet': 12434, 'thang': 12435, 'musicality': 12436, 'transform': 12437, 'huuuge': 12438, \"'d'\": 12439, 'syllable': 12440, 'soubd': 12441, 'setups': 12442, 'consumers': 12443, 'erthernet': 12444, 'gigahertz': 12445, 'megapixel': 12446, 'excitedly': 12447, 'hogging': 12448, 'accumulate': 12449, 'decreasing': 12450, 'overkill': 12451, 'memeory': 12452, 'showes': 12453, 'wa': 12454, 'lana': 12455, 'grrat': 12456, 'nowrealize': 12457, 'iinput': 12458, 'centrally': 12459, 'volumn': 12460, 'coronary': 12461, 'daugter': 12462, 'kiddy': 12463, 'wild': 12464, 'ismartalarm': 12465, 'socks': 12466, 'morei': 12467, 'ultracheap': 12468, 'bundledwith': 12469, 'refinement': 12470, 'trevmoned': 12471, 'sacraficed': 12472, 'assumption': 12473, 'framerate': 12474, 'ipad3': 12475, 'detractors': 12476, \"voyage's\": 12477, 'subscribes': 12478, 'publications': 12479, '8month': 12480, 'glade': 12481, 'pleasurable': 12482, 'girth': 12483, 'thelarge': 12484, 'ofmaking': 12485, 'havefound': 12486, 'buyhas': 12487, 'thestore': 12488, 'lo': 12489, 'ong': 12490, 'outlook': 12491, 'nightime': 12492, 'nyc': 12493, 'metric': 12494, 'han': 12495, 'otis': 12496, 'ding': 12497, 'koreans': 12498, 'asian': 12499, 'tamed': 12500, 'nocomment': 12501, 'prevented': 12502, 'unwilling': 12503, '185': 12504, 'bookshelf': 12505, 'implementation': 12506, 'esp': 12507, 'structured': 12508, 'occurrence': 12509, 'typed': 12510, 'compability': 12511, 'tidy': 12512, 'trully': 12513, 'guitar': 12514, 'fluctuation': 12515, 'scrolls': 12516, 'teething': 12517, '6hours': 12518, 'boardman': 12519, 'tester': 12520, 'cargo': 12521, 'shorts': 12522, 'penetrate': 12523, 'fob': 12524, 'adust': 12525, 'hasslevery': 12526, 'expectationin': 12527, 'solving': 12528, 'advertisment': 12529, 'smallish': 12530, 'mist': 12531, 'investigated': 12532, 'slouch': 12533, 'unlocking': 12534, \"don'\": 12535, 'l8ght': 12536, 'eldery': 12537, 'cobtrols': 12538, 'ftom': 12539, 'motorola': 12540, 'wifis': 12541, \"anyone's\": 12542, 'talents': 12543, 'adaquate': 12544, 'squeezed': 12545, 'toanyone': 12546, 'circumstance': 12547, 'relieve': 12548, '650': 12549, 'steams': 12550, 'tabletthe': 12551, 'kindl': 12552, 'inserts': 12553, 'lowered': 12554, 'rosie': 12555, 'inspiration': 12556, 'broader': 12557, 'unmatched': 12558, 'roaming': 12559, 'pranks': 12560, 'sheuses': 12561, 'ballgame': 12562, 'ells': 12563, 'joyed': 12564, 'mechanics': 12565, 'parcel': 12566, 'prolonged': 12567, 'compromising': 12568, 'suppression': 12569, 'melatonin': 12570, \"sky's\": 12571, 'firetablet': 12572, 'proff': 12573, 'migration': 12574, 'distances': 12575, 'futile': 12576, 'tethering': 12577, 'bitstream': 12578, 'atmos': 12579, 'shoes': 12580, 'coherent': 12581, 'trs': 12582, 'heureux': 12583, 'soient': 12584, 'aprs': 12585, \"m'tre\": 12586, 'fait': 12587, 'voler': 12588, \"c'est\": 12589, 'bien': 12590, 'pouvoir': 12591, 'retrouver': 12592, 'tous': 12593, 'mes': 12594, 'avec': 12595, 'toutes': 12596, \"j'avais\": 12597, 'tags': 12598, 'drm': 12599, 'courtesy': 12600, 'moe': 12601, 'bednot': 12602, \"'x'\": 12603, 'purchse': 12604, 'sharpest': 12605, 'faith': 12606, 'earns': 12607, 'workshould': 12608, 'firend': 12609, 'verbatim': 12610, 'fmily': 12611, 'warmth': 12612, 'coolness': 12613, 'dean': 12614, 'martin': 12615, '10it': 12616, 'doys': 12617, 'tlink': 12618, \"know's\": 12619, 'downloader': 12620, 'compatabile': 12621, 'booksome': 12622, \"dad's\": 12623, 'cinch': 12624, 'accesory': 12625, 'usefull': 12626, 'subscripton': 12627, 'cleat': 12628, 'everythimg': 12629, 'varieties': 12630, 'manuever': 12631, 'tots': 12632, 'boundaries': 12633, 'ea': 12634, 'ourchase': 12635, '2y': 12636, 'hardcopy': 12637, 'adultsa': 12638, 'tempered': 12639, 'unsmart': 12640, 'participates': 12641, 'fuego': 12642, 'delicious': 12643, 'oatmeal': 12644, 'mobdro': 12645, 'peak': 12646, 'firmly': 12647, 'jamming': 12648, 'pumper': 12649, 'gripping': 12650, 'haiku': 12651, 'indicating': 12652, 'stables': 12653, 'inbox': 12654, 'sophomore': 12655, 'everyhing': 12656, 'childen': 12657, 'aura': 12658, 'shuffling': 12659, 'proceeds': 12660, 'arrogant': 12661, 'preselected': 12662, 'deceptive': 12663, 'buyshock': 12664, 'cutoff': 12665, 'toggling': 12666, 'qualit': 12667, 'sucker': 12668, 'oldie': 12669, 'goodie': 12670, 'pointy': 12671, 'bartering': 12672, 'retrospect': 12673, 'vueing': 12674, 'chatting': 12675, 'overlap': 12676, \"'intuitive'\": 12677, 'sibling': 12678, \"'book'\": 12679, 'mama': 12680, '‼': 12681, 'oranges': 12682, 'tasty': 12683, 'refurbs': 12684, 'scrimp': 12685, 'cared': 12686, 'paltry': 12687, 'impacted': 12688, 'shots': 12689, 'relation': 12690, \"nov'15\": 12691, 'flew': 12692, 'bearable': 12693, \"purchase's\": 12694, 'dowloads': 12695, '20gb': 12696, 'burned': 12697, 'shaping': 12698, 'i̇t': 12699, 'begineers': 12700, 'astetically': 12701, 'addtoo': 12702, 'applies': 12703, 'leftover': 12704, 'zooms': 12705, 'heavenly': 12706, 'instructor': 12707, \"students'\": 12708, 'evil': 12709, 'nefarious': 12710, 'empire': 12711, 'subjected': 12712, 'fret': 12713, 'exorbitant': 12714, 'contracts': 12715, 'giants': 12716, 'unecessary': 12717, 'kart': 12718, 'donkey': 12719, 'kong': 12720, 'centierpede': 12721, 'vising': 12722, 'blackhawk': 12723, 'remort': 12724, 'controll': 12725, 'thouroughly': 12726, 'adventures': 12727, 'beeps': 12728, 'radioandpod': 12729, 'clunkier': 12730, 'bricking': 12731, 'beige': 12732, 'dyslexia': 12733, 'contrasts': 12734, 'broadcasting': 12735, 'whey': 12736, 'devotee': 12737, 'unsupervised': 12738, 'amaxzon': 12739, 'vacuuming': 12740, \"'walk'\": 12741, 'born': 12742, 'mentally': 12743, 'clones': 12744, 'calculate': 12745, 'pity': 12746, 'ness': 12747, 'listin': 12748, 'subcriptions': 12749, 'jist': 12750, 'fingertip': 12751, 'samsug': 12752, \"fire8's\": 12753, 'sturdiness': 12754, 'nonresponsive': 12755, 'midday': 12756, 'swype': 12757, 'shimmering': 12758, 'jewelry': 12759, 'presumably': 12760, 'chatter': 12761, \"'amazon'\": 12762, 'annoyances': 12763, 'micsosd': 12764, 'kindle4nt': 12765, '4t': 12766, 'doomed': 12767, 'conserve': 12768, 'awwwwwwww': 12769, 'abysmal': 12770, 'tmtis': 12771, 'ehco': 12772, 'permanent': 12773, 'nuisance': 12774, 'measure': 12775, 'pagesif': 12776, 'workes': 12777, 'passive': 12778, '350': 12779, 'haircut': 12780, \"dentist's\": 12781, 'usps': 12782, 'gud': 12783, 'goft': 12784, 'dependant': 12785, 'infrastructure': 12786, 'logical': 12787, 'precarious': 12788, '27': 12789, 'unprepared': 12790, 'impossibly': 12791, 'trace': 12792, 'illusion': 12793, 'magnets': 12794, \"team's\": 12795, 'rotates': 12796, \"cover's\": 12797, 'opposite': 12798, \"model's\": 12799, '310': 12800, 'knocked': 12801, 'retire': 12802, 'aosp': 12803, 'oses': 12804, \"guru's\": 12805, 'fixing': 12806, 'ant': 12807, 'renditions': 12808, \"'easter\": 12809, \"eggs'\": 12810, 'representative': 12811, 'surroundings': 12812, 'surreptitiously': 12813, 'wheels': 12814, 'serviceable': 12815, '63': 12816, 'foundation': 12817, 'allots': 12818, \"'ghosting'\": 12819, 'twisted': 12820, 'chassis': 12821, 'underwhelmed': 12822, 'neflx': 12823, 'bu': 12824, 'sinks': 12825, 'sasy': 12826, \"'goggle'\": 12827, '97': 12828, 'rightit': 12829, 'abit': 12830, 'bluethoot': 12831, 'duper': 12832, 'perfecto': 12833, 'magnificent': 12834, 'cells': 12835, 'gratifying': 12836, 'programmers': 12837, 'kidsmode': 12838, 'produt': 12839, 'graphically': 12840, 'booksvia': 12841, 'andthe': 12842, 'readinstructions': 12843, 'unacceptable': 12844, \"'new'\": 12845, 'décor': 12846, 'producti': 12847, 'and7': 12848, 'angst': 12849, 'alllow': 12850, 'meatloaf': 12851, 'cleaned': 12852, '58': 12853, 'kkep': 12854, 'bookworms': 12855, 'strides': 12856, 'valid': 12857, 'energysmart': 12858, 'lowes': 12859, '612026': 12860, '691121': 12861, 'mishandled': 12862, 'nemo': 12863, '❤️': 12864, 'glossary': 12865, 'scale': 12866, 'personable': 12867, 'loosens': 12868, '900': 12869, 'lb': 12870, 'watchers': 12871, 'abilty': 12872, 'sy': 12873, 'thermastat': 12874, 'greetings': 12875, 'boeing': 12876, 'alleged': 12877, 'egregious': 12878, \"1960's\": 12879, 'transistor': 12880, 'commodore': 12881, \"1980's\": 12882, 'slated': 12883, 'historical': 12884, 'defining': 12885, 'inference': 12886, 'routers': 12887, 'flashed': 12888, 'cm': 12889, 'pirates': 12890, 'dispose': 12891, \"you'e\": 12892, 'sellers': 12893, 'horoscope': 12894, 'cordcutting': 12895, 'clone': 12896, 'labor': 12897, 'execellent': 12898, 'technophile': 12899, 'iteasy': 12900, 'gamecircle': 12901, 'effitient': 12902, 'stud': 12903, 'boa': 12904, 'draugther': 12905, 'ganes': 12906, \"knee's\": 12907, 'pains': 12908, 'interestingly': 12909, 'libray': 12910, 'regrettable': 12911, 'watchable': 12912, 'breakcons': 12913, 'avon': 12914, 'indiana': 12915, 'ringer': 12916, 'anoid': 12917, 'sweetest': 12918, 'ironman': 12919, 'treats': 12920, 'rips': 12921, 'juggle': 12922, 'buybuyby': 12923, 'myrtle': 12924, 'nail': 12925, 'colour': 12926, 'suprise': 12927, 'especiallly': 12928, 'balancing': 12929, 'fr': 12930, 'wd': 12931, 'imac': 12932, 'ford': 12933, 'exeptional': 12934, 'thay': 12935, 'bluetooths': 12936, 'tactically': 12937, 'sock': 12938, '4more': 12939, 'livinroom': 12940, 'typefaces': 12941, 'illuminate': 12942, 'greatdoes': 12943, 'gamesalso': 12944, 'wantedbest': 12945, 'alsome': 12946, 'referral': 12947, 'greate': 12948, 'sjdhfhdhhsjx': 12949, 'vloume': 12950, 'lokes': 12951, 'smarttvs': 12952, 'exiting': 12953, 'crackle': 12954, 'stucked': 12955, 'fimiliar': 12956, 'custumer': 12957, 'belonging': 12958, 'deployment': 12959, 'sevices': 12960, 'insadent': 12961, 'helllo': 12962, 'panic': 12963, 'nough': 12964, 'ch': 12965, 'b4': 12966, 'saund': 12967, 'anotherone': 12968, 'becuse': 12969, 'brace': 12970, 'waist': 12971, 'municipal': 12972, 'beencollecting': 12973, 'promotional': 12974, 'tvos': 12975, 'career': 12976, 'wellbas': 12977, 'serv8ce': 12978, \"wi'll\": 12979, 'condense': 12980, 'trashed': 12981, 'gestures': 12982, 'attachable': 12983, 'gripper': 12984, 'soundtouch': 12985, 'inaudible': 12986, 'vocabs': 12987, 'towers': 12988, 'aa': 12989, 'hug': 12990, 'quenn': 12991, 'christina': 12992, 'aguilera': 12993, 'betta': 12994, 'werk': 12995, 'thwe': 12996, \"itshe's\": 12997, 'entertainig': 12998, 'performnces': 12999, 'vemo': 13000, 'pejorative': 13001, 'improtant': 13002, 'deivce': 13003, 'goddaughters': 13004, 'lifesavers': 13005, 'ppl': 13006, 'broadband': 13007, 'kangaroo': 13008, 'pogo': 13009, 'discerning': 13010}\n"
          ]
        }
      ],
      "source": [
        "from keras.preprocessing.text import Tokenizer\n",
        "tokenizer = Tokenizer(num_words=5000)\n",
        "tokenizer.fit_on_texts(X_train)\n",
        "\n",
        "words_to_index = tokenizer.word_index\n",
        "\n",
        "print(words_to_index)"
      ]
    },
    {
      "cell_type": "code",
      "execution_count": null,
      "metadata": {
        "id": "uE-IQD8MUu2j"
      },
      "outputs": [],
      "source": [
        "def read_glove_vector(glove_vec):\n",
        "  with open(glove_vec, 'r', encoding='UTF-8') as f:\n",
        "    words = set()\n",
        "    word_to_vec_map = {}\n",
        "    for line in f:\n",
        "      w_line = line.split()\n",
        "      curr_word = w_line[0]\n",
        "      word_to_vec_map[curr_word] = np.array(w_line[1:], dtype=np.float64)\n",
        "\n",
        "\n",
        "\n",
        "  return word_to_vec_map"
      ]
    },
    {
      "cell_type": "code",
      "execution_count": null,
      "metadata": {
        "id": "BoigME2lcbrS"
      },
      "outputs": [],
      "source": [
        "word_to_vec_map = read_glove_vector('glove.6B.50d.txt')\n",
        "\n",
        "maxLen = 150"
      ]
    },
    {
      "cell_type": "code",
      "execution_count": null,
      "metadata": {
        "id": "MOFdKaZ_cnIX"
      },
      "outputs": [],
      "source": [
        "from keras.layers import LSTM, Activation, Dropout, Dense, Input\n",
        "from keras.layers.embeddings import Embedding\n",
        "vocab_len = len(words_to_index)+1\n",
        "embed_vector_len = word_to_vec_map['moon'].shape[0]\n",
        "\n",
        "emb_matrix = np.zeros((vocab_len, embed_vector_len))\n",
        "\n",
        "for word, index in words_to_index.items():\n",
        "  embedding_vector = word_to_vec_map.get(word)\n",
        "  if embedding_vector is not None:\n",
        "    emb_matrix[index, :] = embedding_vector\n",
        "\n",
        "embedding_layer = Embedding(input_dim=vocab_len, output_dim=embed_vector_len, input_length=maxLen, weights = [emb_matrix], trainable=False)\n"
      ]
    },
    {
      "cell_type": "code",
      "execution_count": null,
      "metadata": {
        "id": "nS_hpYXZcqqj"
      },
      "outputs": [],
      "source": [
        "from keras.models import Model\n",
        "def amazon_review_rating(input_shape):\n",
        "\n",
        "  X_indices = Input(input_shape)\n",
        "  embeddings = embedding_layer(X_indices)\n",
        "  X = LSTM(128, return_sequences=True)(embeddings)\n",
        "  X = Dropout(0.6)(X)\n",
        "  X = LSTM(128, return_sequences=True)(X)\n",
        "  X = Dropout(0.6)(X)\n",
        "  X = LSTM(128)(X)\n",
        "  X = Dense(1, activation='sigmoid')(X)\n",
        "\n",
        "  model = Model(inputs=X_indices, outputs=X)\n",
        "\n",
        "  return model"
      ]
    },
    {
      "cell_type": "code",
      "execution_count": null,
      "metadata": {
        "id": "ISggFKTNc3w3"
      },
      "outputs": [],
      "source": [
        "from keras.preprocessing.sequence import pad_sequences\n",
        "X_train_indices = tokenizer.texts_to_sequences(X_train)\n",
        "\n",
        "X_train_indices = pad_sequences(X_train_indices, maxlen=maxLen, padding='post')"
      ]
    },
    {
      "cell_type": "code",
      "execution_count": null,
      "metadata": {
        "id": "1e8nmN79kE_-"
      },
      "outputs": [],
      "source": [
        "from tensorflow.keras.optimizers import Adam\n",
        "adam = Adam(learning_rate = 0.0001)\n",
        "model = amazon_review_rating((150,))\n",
        "model.compile(optimizer=adam, loss='binary_crossentropy', metrics=['accuracy'])\n"
      ]
    },
    {
      "cell_type": "code",
      "execution_count": null,
      "metadata": {
        "colab": {
          "base_uri": "https://localhost:8080/"
        },
        "id": "0yUmPAwIdLwn",
        "outputId": "f7979b81-d6f8-45ba-f59e-a4caa09313a2"
      },
      "outputs": [
        {
          "output_type": "stream",
          "name": "stdout",
          "text": [
            "Epoch 1/5\n",
            "433/433 [==============================] - 466s 1s/step - loss: 0.3356 - accuracy: 0.9291\n",
            "Epoch 2/5\n",
            "433/433 [==============================] - 436s 1s/step - loss: 0.2671 - accuracy: 0.9268\n",
            "Epoch 3/5\n",
            "433/433 [==============================] - 436s 1s/step - loss: 0.2537 - accuracy: 0.9237\n",
            "Epoch 4/5\n",
            "433/433 [==============================] - 433s 999ms/step - loss: 0.2489 - accuracy: 0.9229\n",
            "Epoch 5/5\n",
            "433/433 [==============================] - 431s 996ms/step - loss: 0.2456 - accuracy: 0.9221\n"
          ]
        },
        {
          "output_type": "execute_result",
          "data": {
            "text/plain": [
              "<keras.callbacks.History at 0x7f152c634910>"
            ]
          },
          "metadata": {},
          "execution_count": 23
        }
      ],
      "source": [
        "Y_train=[];\n",
        "for x in X_train_targetSentiment:\n",
        "  if x==\"Positive\":\n",
        "    Y_train.append(1);\n",
        "  elif x==\"Neutral\":\n",
        "    Y_train.append(0);\n",
        "  else: \n",
        "    Y_train.append(-1);\n",
        "Y_train_numpy=np.array(Y_train);\n",
        "model.fit(X_train_indices, Y_train_numpy, batch_size=64, epochs=5)"
      ]
    },
    {
      "cell_type": "code",
      "execution_count": null,
      "metadata": {
        "colab": {
          "base_uri": "https://localhost:8080/"
        },
        "id": "thfM-InXdNxx",
        "outputId": "66727308-72cd-4611-dacf-440f1fd934ca"
      },
      "outputs": [
        {
          "output_type": "stream",
          "name": "stdout",
          "text": [
            "866/866 [==============================] - 120s 137ms/step - loss: 0.2360 - accuracy: 0.9168\n"
          ]
        },
        {
          "output_type": "execute_result",
          "data": {
            "text/plain": [
              "[0.23602622747421265, 0.9167900085449219]"
            ]
          },
          "metadata": {},
          "execution_count": 26
        }
      ],
      "source": [
        "Y_test=[];\n",
        "for x in X_train_targetSentiment:\n",
        "  if x==\"Positive\":\n",
        "    Y_test.append(1);\n",
        "  elif x==\"Neutral\":\n",
        "    Y_test.append(0);\n",
        "  else: \n",
        "    Y_test.append(-1);\n",
        "Y_test_numpy=np.array(Y_test);\n",
        "X_test_indices = tokenizer.texts_to_sequences(X_test)\n",
        "\n",
        "\n",
        "X_test_indices = pad_sequences(X_train_indices, maxlen=maxLen, padding='post')\n",
        "model.evaluate(X_test_indices, Y_test_numpy)\n",
        "f1_score()"
      ]
    },
    {
      "cell_type": "code",
      "execution_count": null,
      "metadata": {
        "id": "5osSDmgI9D4Y",
        "colab": {
          "base_uri": "https://localhost:8080/"
        },
        "outputId": "09677b5f-aa94-41bd-9688-0c697b99ac41"
      },
      "outputs": [
        {
          "output_type": "stream",
          "name": "stdout",
          "text": [
            "Model: \"model_1\"\n",
            "_________________________________________________________________\n",
            " Layer (type)                Output Shape              Param #   \n",
            "=================================================================\n",
            " input_3 (InputLayer)        [(None, 150)]             0         \n",
            "                                                                 \n",
            " embedding (Embedding)       (None, 150, 50)           650550    \n",
            "                                                                 \n",
            " conv1d (Conv1D)             (None, 148, 512)          77312     \n",
            "                                                                 \n",
            " max_pooling1d (MaxPooling1D  (None, 49, 512)          0         \n",
            " )                                                               \n",
            "                                                                 \n",
            " conv1d_1 (Conv1D)           (None, 47, 256)           393472    \n",
            "                                                                 \n",
            " max_pooling1d_1 (MaxPooling  (None, 15, 256)          0         \n",
            " 1D)                                                             \n",
            "                                                                 \n",
            " conv1d_2 (Conv1D)           (None, 13, 256)           196864    \n",
            "                                                                 \n",
            " dropout_2 (Dropout)         (None, 13, 256)           0         \n",
            "                                                                 \n",
            " max_pooling1d_2 (MaxPooling  (None, 4, 256)           0         \n",
            " 1D)                                                             \n",
            "                                                                 \n",
            " global_max_pooling1d (Globa  (None, 256)              0         \n",
            " lMaxPooling1D)                                                  \n",
            "                                                                 \n",
            " dense_1 (Dense)             (None, 256)               65792     \n",
            "                                                                 \n",
            " dense_2 (Dense)             (None, 1)                 257       \n",
            "                                                                 \n",
            "=================================================================\n",
            "Total params: 1,384,247\n",
            "Trainable params: 733,697\n",
            "Non-trainable params: 650,550\n",
            "_________________________________________________________________\n"
          ]
        }
      ],
      "source": [
        "from tensorflow.keras.layers import Conv1D, MaxPooling1D, GlobalMaxPooling1D\n",
        "\n",
        "def conv1d_model(input_shape):\n",
        "\n",
        "  X_indices = Input(input_shape)\n",
        "\n",
        "  embeddings = embedding_layer(X_indices)\n",
        "\n",
        "  X = Conv1D(512,3,activation='relu')(embeddings)\n",
        "  \n",
        "  X = MaxPooling1D(3)(X)\n",
        "\n",
        "  X = Conv1D(256,3,activation='relu')(X)\n",
        "  \n",
        "  X = MaxPooling1D(3)(X)\n",
        "\n",
        "  X = Conv1D(256,3,activation='relu')(X)\n",
        "  X = Dropout(0.8)(X)\n",
        "  X = MaxPooling1D(3)(X)\n",
        "\n",
        "  X = GlobalMaxPooling1D()(X)\n",
        "\n",
        "  X = Dense(256, activation='relu')(X)\n",
        "  X = Dense(1, activation='sigmoid')(X)\n",
        "\n",
        "  model = Model(inputs=X_indices, outputs=X)\n",
        "\n",
        "  return model\n",
        "\n",
        "model_1d = conv1d_model((150,))\n",
        "model_1d.summary()"
      ]
    },
    {
      "cell_type": "code",
      "execution_count": null,
      "metadata": {
        "id": "opwZfG1_9jC3",
        "colab": {
          "base_uri": "https://localhost:8080/"
        },
        "outputId": "f305e0db-3661-43a0-9fd9-26196a1890a1"
      },
      "outputs": [
        {
          "output_type": "stream",
          "name": "stdout",
          "text": [
            "Epoch 1/5\n",
            "433/433 [==============================] - 157s 360ms/step - loss: 0.2896 - accuracy: 0.9296\n",
            "Epoch 2/5\n",
            "433/433 [==============================] - 141s 326ms/step - loss: 0.2509 - accuracy: 0.9273\n",
            "Epoch 3/5\n",
            "433/433 [==============================] - 139s 321ms/step - loss: 0.2287 - accuracy: 0.9232\n",
            "Epoch 4/5\n",
            "433/433 [==============================] - 139s 322ms/step - loss: 0.2075 - accuracy: 0.9221\n",
            "Epoch 5/5\n",
            "433/433 [==============================] - 139s 321ms/step - loss: 0.1871 - accuracy: 0.9224\n"
          ]
        },
        {
          "output_type": "execute_result",
          "data": {
            "text/plain": [
              "<keras.callbacks.History at 0x7fb80b707510>"
            ]
          },
          "metadata": {},
          "execution_count": 30
        }
      ],
      "source": [
        "model_1d.compile(optimizer=adam, loss='binary_crossentropy', metrics=['accuracy'])\n",
        "model_1d.fit(X_train_indices, Y_train_numpy, batch_size=64, epochs=5)"
      ]
    },
    {
      "cell_type": "code",
      "source": [
        "model_1d.evaluate(X_test_indices, Y_test_numpy)"
      ],
      "metadata": {
        "colab": {
          "base_uri": "https://localhost:8080/"
        },
        "id": "gyrj-mDzvSmi",
        "outputId": "15931cec-1998-4748-ec0f-709d2d234a8c"
      },
      "execution_count": null,
      "outputs": [
        {
          "output_type": "stream",
          "name": "stdout",
          "text": [
            "866/866 [==============================] - 38s 44ms/step - loss: 0.2171 - accuracy: 0.9236\n"
          ]
        },
        {
          "output_type": "execute_result",
          "data": {
            "text/plain": [
              "[0.21711017191410065, 0.9236128926277161]"
            ]
          },
          "metadata": {},
          "execution_count": 31
        }
      ]
    }
  ],
  "metadata": {
    "colab": {
      "collapsed_sections": [],
      "name": "Copy of Product_reviews.ipynb",
      "provenance": [],
      "include_colab_link": true
    },
    "kernelspec": {
      "display_name": "Python 3",
      "name": "python3"
    },
    "language_info": {
      "name": "python"
    }
  },
  "nbformat": 4,
  "nbformat_minor": 0
}